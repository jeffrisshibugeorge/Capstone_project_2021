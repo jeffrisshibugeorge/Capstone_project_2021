{
 "cells": [
  {
   "cell_type": "code",
   "execution_count": 1,
   "metadata": {},
   "outputs": [],
   "source": [
    "import numpy as np\n",
    "import pandas as pd\n",
    "import seaborn as sns\n",
    "import ast\n",
    "import warnings \n",
    "warnings.filterwarnings('ignore')\n",
    "import matplotlib.pyplot as plt"
   ]
  },
  {
   "cell_type": "code",
   "execution_count": 2,
   "metadata": {},
   "outputs": [],
   "source": [
    "data=pd.read_csv(r'C:\\Users\\my pc\\data.csv')"
   ]
  },
  {
   "cell_type": "code",
   "execution_count": 3,
   "metadata": {},
   "outputs": [
    {
     "data": {
      "text/html": [
       "<div>\n",
       "<style scoped>\n",
       "    .dataframe tbody tr th:only-of-type {\n",
       "        vertical-align: middle;\n",
       "    }\n",
       "\n",
       "    .dataframe tbody tr th {\n",
       "        vertical-align: top;\n",
       "    }\n",
       "\n",
       "    .dataframe thead th {\n",
       "        text-align: right;\n",
       "    }\n",
       "</style>\n",
       "<table border=\"1\" class=\"dataframe\">\n",
       "  <thead>\n",
       "    <tr style=\"text-align: right;\">\n",
       "      <th></th>\n",
       "      <th>0</th>\n",
       "      <th>1</th>\n",
       "      <th>2</th>\n",
       "      <th>3</th>\n",
       "      <th>4</th>\n",
       "    </tr>\n",
       "  </thead>\n",
       "  <tbody>\n",
       "    <tr>\n",
       "      <th>Unnamed: 0</th>\n",
       "      <td>0</td>\n",
       "      <td>1</td>\n",
       "      <td>2</td>\n",
       "      <td>3</td>\n",
       "      <td>4</td>\n",
       "    </tr>\n",
       "    <tr>\n",
       "      <th>budget</th>\n",
       "      <td>0</td>\n",
       "      <td>0</td>\n",
       "      <td>4000000</td>\n",
       "      <td>21000000</td>\n",
       "      <td>42000</td>\n",
       "    </tr>\n",
       "    <tr>\n",
       "      <th>genres</th>\n",
       "      <td>['Drama', 'Crime', 'Comedy']</td>\n",
       "      <td>['Drama', 'Comedy']</td>\n",
       "      <td>['Crime', 'Comedy']</td>\n",
       "      <td>['Action', 'Thriller', 'Crime']</td>\n",
       "      <td>['Documentary']</td>\n",
       "    </tr>\n",
       "    <tr>\n",
       "      <th>id</th>\n",
       "      <td>2</td>\n",
       "      <td>3</td>\n",
       "      <td>5</td>\n",
       "      <td>6</td>\n",
       "      <td>8</td>\n",
       "    </tr>\n",
       "    <tr>\n",
       "      <th>imdb_id</th>\n",
       "      <td>tt0094675</td>\n",
       "      <td>tt0092149</td>\n",
       "      <td>tt0113101</td>\n",
       "      <td>tt0107286</td>\n",
       "      <td>tt0825671</td>\n",
       "    </tr>\n",
       "    <tr>\n",
       "      <th>original_language</th>\n",
       "      <td>fi</td>\n",
       "      <td>fi</td>\n",
       "      <td>en</td>\n",
       "      <td>en</td>\n",
       "      <td>en</td>\n",
       "    </tr>\n",
       "    <tr>\n",
       "      <th>original_title</th>\n",
       "      <td>Ariel</td>\n",
       "      <td>Varjoja paratiisissa</td>\n",
       "      <td>Four Rooms</td>\n",
       "      <td>Judgment Night</td>\n",
       "      <td>Life in Loops (A Megacities RMX)</td>\n",
       "    </tr>\n",
       "    <tr>\n",
       "      <th>overview</th>\n",
       "      <td>Taisto Kasurinen is a Finnish coal miner whose...</td>\n",
       "      <td>An episode in the life of Nikander, a garbage ...</td>\n",
       "      <td>It's Ted the Bellhop's first night on the job....</td>\n",
       "      <td>While racing to a boxing match, Frank, Mike, J...</td>\n",
       "      <td>Timo Novotny labels his new project an experim...</td>\n",
       "    </tr>\n",
       "    <tr>\n",
       "      <th>popularity</th>\n",
       "      <td>6.656</td>\n",
       "      <td>6.205</td>\n",
       "      <td>8.307</td>\n",
       "      <td>6.944</td>\n",
       "      <td>1.652</td>\n",
       "    </tr>\n",
       "    <tr>\n",
       "      <th>production_companies</th>\n",
       "      <td>['Villealfa Filmproductions']</td>\n",
       "      <td>['Villealfa Filmproductions']</td>\n",
       "      <td>['Miramax', 'A Band Apart']</td>\n",
       "      <td>['Universal Pictures', 'Largo Entertainment', ...</td>\n",
       "      <td>['inLoops']</td>\n",
       "    </tr>\n",
       "    <tr>\n",
       "      <th>production_countries</th>\n",
       "      <td>['Finland']</td>\n",
       "      <td>['Finland']</td>\n",
       "      <td>['United States of America']</td>\n",
       "      <td>['Japan', 'United States of America']</td>\n",
       "      <td>['Austria']</td>\n",
       "    </tr>\n",
       "    <tr>\n",
       "      <th>revenue</th>\n",
       "      <td>0</td>\n",
       "      <td>0</td>\n",
       "      <td>4.25735e+06</td>\n",
       "      <td>1.21369e+07</td>\n",
       "      <td>0</td>\n",
       "    </tr>\n",
       "    <tr>\n",
       "      <th>runtime</th>\n",
       "      <td>73</td>\n",
       "      <td>74</td>\n",
       "      <td>98</td>\n",
       "      <td>110</td>\n",
       "      <td>80</td>\n",
       "    </tr>\n",
       "    <tr>\n",
       "      <th>spoken_languages</th>\n",
       "      <td>['Deutsch', 'suomi']</td>\n",
       "      <td>['English', 'svenska', 'suomi']</td>\n",
       "      <td>['English']</td>\n",
       "      <td>['English']</td>\n",
       "      <td>['English', 'हिन्दी', '日本語', 'Pусский', 'Españ...</td>\n",
       "    </tr>\n",
       "    <tr>\n",
       "      <th>status</th>\n",
       "      <td>Released</td>\n",
       "      <td>Released</td>\n",
       "      <td>Released</td>\n",
       "      <td>Released</td>\n",
       "      <td>Released</td>\n",
       "    </tr>\n",
       "    <tr>\n",
       "      <th>title</th>\n",
       "      <td>Ariel</td>\n",
       "      <td>Shadows in Paradise</td>\n",
       "      <td>Four Rooms</td>\n",
       "      <td>Judgment Night</td>\n",
       "      <td>Life in Loops (A Megacities RMX)</td>\n",
       "    </tr>\n",
       "    <tr>\n",
       "      <th>video</th>\n",
       "      <td>False</td>\n",
       "      <td>False</td>\n",
       "      <td>False</td>\n",
       "      <td>False</td>\n",
       "      <td>False</td>\n",
       "    </tr>\n",
       "    <tr>\n",
       "      <th>vote_average</th>\n",
       "      <td>6.8</td>\n",
       "      <td>7.2</td>\n",
       "      <td>5.7</td>\n",
       "      <td>6.4</td>\n",
       "      <td>7.4</td>\n",
       "    </tr>\n",
       "    <tr>\n",
       "      <th>vote_count</th>\n",
       "      <td>134</td>\n",
       "      <td>132</td>\n",
       "      <td>1936</td>\n",
       "      <td>191</td>\n",
       "      <td>14</td>\n",
       "    </tr>\n",
       "    <tr>\n",
       "      <th>release_year</th>\n",
       "      <td>1988</td>\n",
       "      <td>1986</td>\n",
       "      <td>1995</td>\n",
       "      <td>1993</td>\n",
       "      <td>2006</td>\n",
       "    </tr>\n",
       "    <tr>\n",
       "      <th>release_month</th>\n",
       "      <td>10</td>\n",
       "      <td>10</td>\n",
       "      <td>9</td>\n",
       "      <td>10</td>\n",
       "      <td>1</td>\n",
       "    </tr>\n",
       "    <tr>\n",
       "      <th>release_day</th>\n",
       "      <td>21</td>\n",
       "      <td>17</td>\n",
       "      <td>12</td>\n",
       "      <td>15</td>\n",
       "      <td>1</td>\n",
       "    </tr>\n",
       "  </tbody>\n",
       "</table>\n",
       "</div>"
      ],
      "text/plain": [
       "                                                                      0  \\\n",
       "Unnamed: 0                                                            0   \n",
       "budget                                                                0   \n",
       "genres                                     ['Drama', 'Crime', 'Comedy']   \n",
       "id                                                                    2   \n",
       "imdb_id                                                       tt0094675   \n",
       "original_language                                                    fi   \n",
       "original_title                                                    Ariel   \n",
       "overview              Taisto Kasurinen is a Finnish coal miner whose...   \n",
       "popularity                                                        6.656   \n",
       "production_companies                      ['Villealfa Filmproductions']   \n",
       "production_countries                                        ['Finland']   \n",
       "revenue                                                               0   \n",
       "runtime                                                              73   \n",
       "spoken_languages                                   ['Deutsch', 'suomi']   \n",
       "status                                                         Released   \n",
       "title                                                             Ariel   \n",
       "video                                                             False   \n",
       "vote_average                                                        6.8   \n",
       "vote_count                                                          134   \n",
       "release_year                                                       1988   \n",
       "release_month                                                        10   \n",
       "release_day                                                          21   \n",
       "\n",
       "                                                                      1  \\\n",
       "Unnamed: 0                                                            1   \n",
       "budget                                                                0   \n",
       "genres                                              ['Drama', 'Comedy']   \n",
       "id                                                                    3   \n",
       "imdb_id                                                       tt0092149   \n",
       "original_language                                                    fi   \n",
       "original_title                                     Varjoja paratiisissa   \n",
       "overview              An episode in the life of Nikander, a garbage ...   \n",
       "popularity                                                        6.205   \n",
       "production_companies                      ['Villealfa Filmproductions']   \n",
       "production_countries                                        ['Finland']   \n",
       "revenue                                                               0   \n",
       "runtime                                                              74   \n",
       "spoken_languages                        ['English', 'svenska', 'suomi']   \n",
       "status                                                         Released   \n",
       "title                                               Shadows in Paradise   \n",
       "video                                                             False   \n",
       "vote_average                                                        7.2   \n",
       "vote_count                                                          132   \n",
       "release_year                                                       1986   \n",
       "release_month                                                        10   \n",
       "release_day                                                          17   \n",
       "\n",
       "                                                                      2  \\\n",
       "Unnamed: 0                                                            2   \n",
       "budget                                                          4000000   \n",
       "genres                                              ['Crime', 'Comedy']   \n",
       "id                                                                    5   \n",
       "imdb_id                                                       tt0113101   \n",
       "original_language                                                    en   \n",
       "original_title                                               Four Rooms   \n",
       "overview              It's Ted the Bellhop's first night on the job....   \n",
       "popularity                                                        8.307   \n",
       "production_companies                        ['Miramax', 'A Band Apart']   \n",
       "production_countries                       ['United States of America']   \n",
       "revenue                                                     4.25735e+06   \n",
       "runtime                                                              98   \n",
       "spoken_languages                                            ['English']   \n",
       "status                                                         Released   \n",
       "title                                                        Four Rooms   \n",
       "video                                                             False   \n",
       "vote_average                                                        5.7   \n",
       "vote_count                                                         1936   \n",
       "release_year                                                       1995   \n",
       "release_month                                                         9   \n",
       "release_day                                                          12   \n",
       "\n",
       "                                                                      3  \\\n",
       "Unnamed: 0                                                            3   \n",
       "budget                                                         21000000   \n",
       "genres                                  ['Action', 'Thriller', 'Crime']   \n",
       "id                                                                    6   \n",
       "imdb_id                                                       tt0107286   \n",
       "original_language                                                    en   \n",
       "original_title                                           Judgment Night   \n",
       "overview              While racing to a boxing match, Frank, Mike, J...   \n",
       "popularity                                                        6.944   \n",
       "production_companies  ['Universal Pictures', 'Largo Entertainment', ...   \n",
       "production_countries              ['Japan', 'United States of America']   \n",
       "revenue                                                     1.21369e+07   \n",
       "runtime                                                             110   \n",
       "spoken_languages                                            ['English']   \n",
       "status                                                         Released   \n",
       "title                                                    Judgment Night   \n",
       "video                                                             False   \n",
       "vote_average                                                        6.4   \n",
       "vote_count                                                          191   \n",
       "release_year                                                       1993   \n",
       "release_month                                                        10   \n",
       "release_day                                                          15   \n",
       "\n",
       "                                                                      4  \n",
       "Unnamed: 0                                                            4  \n",
       "budget                                                            42000  \n",
       "genres                                                  ['Documentary']  \n",
       "id                                                                    8  \n",
       "imdb_id                                                       tt0825671  \n",
       "original_language                                                    en  \n",
       "original_title                         Life in Loops (A Megacities RMX)  \n",
       "overview              Timo Novotny labels his new project an experim...  \n",
       "popularity                                                        1.652  \n",
       "production_companies                                        ['inLoops']  \n",
       "production_countries                                        ['Austria']  \n",
       "revenue                                                               0  \n",
       "runtime                                                              80  \n",
       "spoken_languages      ['English', 'हिन्दी', '日本語', 'Pусский', 'Españ...  \n",
       "status                                                         Released  \n",
       "title                                  Life in Loops (A Megacities RMX)  \n",
       "video                                                             False  \n",
       "vote_average                                                        7.4  \n",
       "vote_count                                                           14  \n",
       "release_year                                                       2006  \n",
       "release_month                                                         1  \n",
       "release_day                                                           1  "
      ]
     },
     "execution_count": 3,
     "metadata": {},
     "output_type": "execute_result"
    }
   ],
   "source": [
    "data.head().T"
   ]
  },
  {
   "cell_type": "markdown",
   "metadata": {},
   "source": [
    "# GENRES  Analysis"
   ]
  },
  {
   "cell_type": "code",
   "execution_count": 4,
   "metadata": {},
   "outputs": [],
   "source": [
    "\n",
    "data['genres'] = [ast.literal_eval(genre_list) for genre_list in data['genres']]"
   ]
  },
  {
   "cell_type": "code",
   "execution_count": 5,
   "metadata": {},
   "outputs": [],
   "source": [
    "data_all_genres = data['genres'].sum()"
   ]
  },
  {
   "cell_type": "code",
   "execution_count": 6,
   "metadata": {},
   "outputs": [],
   "source": [
    "Count_genres =  data['genres'].map(len)"
   ]
  },
  {
   "cell_type": "code",
   "execution_count": 7,
   "metadata": {},
   "outputs": [
    {
     "data": {
      "text/plain": [
       "count    656075.000000\n",
       "mean          0.984791\n",
       "std           1.002209\n",
       "min           0.000000\n",
       "25%           0.000000\n",
       "50%           1.000000\n",
       "75%           1.000000\n",
       "max          13.000000\n",
       "Name: genres, dtype: float64"
      ]
     },
     "execution_count": 7,
     "metadata": {},
     "output_type": "execute_result"
    }
   ],
   "source": [
    "Count_genres.describe()"
   ]
  },
  {
   "cell_type": "code",
   "execution_count": 8,
   "metadata": {},
   "outputs": [
    {
     "data": {
      "text/plain": [
       "(array([4.95091e+05, 1.05649e+05, 4.24560e+04, 1.23510e+04, 4.41000e+02,\n",
       "        7.20000e+01, 1.20000e+01, 1.00000e+00, 0.00000e+00, 2.00000e+00]),\n",
       " array([ 0. ,  1.3,  2.6,  3.9,  5.2,  6.5,  7.8,  9.1, 10.4, 11.7, 13. ]),\n",
       " <BarContainer object of 10 artists>)"
      ]
     },
     "execution_count": 8,
     "metadata": {},
     "output_type": "execute_result"
    },
    {
     "data": {
      "image/png": "[encoded data removed]",
      "text/plain": [
       "<Figure size 432x288 with 1 Axes>"
      ]
     },
     "metadata": {
      "needs_background": "light"
     },
     "output_type": "display_data"
    }
   ],
   "source": [
    "plt.hist(Count_genres)"
   ]
  },
  {
   "cell_type": "code",
   "execution_count": 9,
   "metadata": {},
   "outputs": [
    {
     "data": {
      "text/plain": [
       "252549"
      ]
     },
     "execution_count": 9,
     "metadata": {},
     "output_type": "execute_result"
    }
   ],
   "source": [
    "list(Count_genres).count(1)"
   ]
  },
  {
   "cell_type": "code",
   "execution_count": 10,
   "metadata": {},
   "outputs": [
    {
     "data": {
      "text/plain": [
       "646097"
      ]
     },
     "execution_count": 10,
     "metadata": {},
     "output_type": "execute_result"
    }
   ],
   "source": [
    "len(data_all_genres)"
   ]
  },
  {
   "cell_type": "code",
   "execution_count": 11,
   "metadata": {},
   "outputs": [
    {
     "name": "stdout",
     "output_type": "stream",
     "text": [
      "[['Action' '30743']\n",
      " ['Adventure' '16643']\n",
      " ['Animation' '29917']\n",
      " ['Comedy' '92372']\n",
      " ['Crime' '22376']\n",
      " ['Documentary' '87229']\n",
      " ['Drama' '141250']\n",
      " ['Family' '19312']\n",
      " ['Fantasy' '13646']\n",
      " ['History' '10036']\n",
      " ['Horror' '29381']\n",
      " ['Music' '30207']\n",
      " ['Mystery' '11928']\n",
      " ['Romance' '35285']\n",
      " ['Science Fiction' '13575']\n",
      " ['TV Movie' '12659']\n",
      " ['Thriller' '30264']\n",
      " ['War' '7378']\n",
      " ['Western' '6055']\n",
      " ['not_found' '5841']]\n"
     ]
    }
   ],
   "source": [
    "number_list = np.array([data_all_genres])\n",
    "\n",
    "(unique, counts) = np.unique(number_list, return_counts=True)\n",
    "frequencies = np.asarray((unique, counts)).T\n",
    "print(frequencies)"
   ]
  },
  {
   "cell_type": "code",
   "execution_count": 13,
   "metadata": {},
   "outputs": [
    {
     "data": {
      "image/png": "[encoded data removed]",
      "text/plain": [
       "<Figure size 1440x576 with 1 Axes>"
      ]
     },
     "metadata": {
      "needs_background": "light"
     },
     "output_type": "display_data"
    }
   ],
   "source": [
    "plt.figure(figsize=(20,8))\n",
    "sns.barplot(x=unique,y=counts)\n",
    "plt.show()"
   ]
  },
  {
   "cell_type": "code",
   "execution_count": 14,
   "metadata": {},
   "outputs": [
    {
     "data": {
      "text/plain": [
       "Index(['Unnamed: 0', 'budget', 'genres', 'id', 'imdb_id', 'original_language',\n",
       "       'original_title', 'overview', 'popularity', 'production_companies',\n",
       "       'production_countries', 'revenue', 'runtime', 'spoken_languages',\n",
       "       'status', 'title', 'video', 'vote_average', 'vote_count',\n",
       "       'release_year', 'release_month', 'release_day'],\n",
       "      dtype='object')"
      ]
     },
     "execution_count": 14,
     "metadata": {},
     "output_type": "execute_result"
    }
   ],
   "source": [
    "data.columns"
   ]
  },
  {
   "cell_type": "markdown",
   "metadata": {},
   "source": [
    "# PRODUCTION_COMPANIES Analysis"
   ]
  },
  {
   "cell_type": "code",
   "execution_count": 15,
   "metadata": {},
   "outputs": [],
   "source": [
    "data['production_companies'] = [ast.literal_eval(genre_list) for genre_list in data['production_companies']]"
   ]
  },
  {
   "cell_type": "code",
   "execution_count": 16,
   "metadata": {},
   "outputs": [],
   "source": [
    "data_all_company = data['production_companies'].sum()"
   ]
  },
  {
   "cell_type": "code",
   "execution_count": 17,
   "metadata": {},
   "outputs": [],
   "source": [
    "Count_company =  data['production_companies'].map(len)"
   ]
  },
  {
   "cell_type": "code",
   "execution_count": 18,
   "metadata": {},
   "outputs": [
    {
     "data": {
      "text/plain": [
       "count    656075.000000\n",
       "mean          0.673883\n",
       "std           1.048212\n",
       "min           0.000000\n",
       "25%           0.000000\n",
       "50%           0.000000\n",
       "75%           1.000000\n",
       "max          29.000000\n",
       "Name: production_companies, dtype: float64"
      ]
     },
     "execution_count": 18,
     "metadata": {},
     "output_type": "execute_result"
    }
   ],
   "source": [
    "Count_company.describe()"
   ]
  },
  {
   "cell_type": "code",
   "execution_count": 19,
   "metadata": {},
   "outputs": [
    {
     "data": {
      "text/plain": [
       "(array([6.24175e+05, 2.80300e+04, 2.95500e+03, 6.10000e+02, 1.92000e+02,\n",
       "        6.60000e+01, 2.50000e+01, 1.30000e+01, 7.00000e+00, 2.00000e+00]),\n",
       " array([ 0. ,  2.9,  5.8,  8.7, 11.6, 14.5, 17.4, 20.3, 23.2, 26.1, 29. ]),\n",
       " <BarContainer object of 10 artists>)"
      ]
     },
     "execution_count": 19,
     "metadata": {},
     "output_type": "execute_result"
    },
    {
     "data": {
      "image/png": "[encoded data removed]",
      "text/plain": [
       "<Figure size 432x288 with 1 Axes>"
      ]
     },
     "metadata": {
      "needs_background": "light"
     },
     "output_type": "display_data"
    }
   ],
   "source": [
    "plt.hist(Count_company)"
   ]
  },
  {
   "cell_type": "code",
   "execution_count": 20,
   "metadata": {},
   "outputs": [
    {
     "name": "stdout",
     "output_type": "stream",
     "text": [
      "[['\"DIA\" Productions GmbH & Co. KG' '1']\n",
      " ['\"Filma\" Shareholders\\' Association' '1']\n",
      " ['\"G\" P.C. S.A.' '2']\n",
      " ...\n",
      " ['한국 영화독립제작소 물결' '1']\n",
      " ['한맥문화' '1']\n",
      " ['환타지엔터테인먼트' '1']]\n"
     ]
    }
   ],
   "source": [
    "company= np.array([data_all_company])\n",
    "\n",
    "(unique_of_comp, counts_of_comp) = np.unique(company, return_counts=True)\n",
    "production_company = np.asarray((unique_of_comp, counts_of_comp)).T\n",
    "print(production_company)"
   ]
  },
  {
   "cell_type": "code",
   "execution_count": null,
   "metadata": {},
   "outputs": [],
   "source": []
  },
  {
   "cell_type": "code",
   "execution_count": 240,
   "metadata": {},
   "outputs": [],
   "source": [
    "companies.columns = ['counts', 'production_company']"
   ]
  },
  {
   "cell_type": "code",
   "execution_count": 241,
   "metadata": {},
   "outputs": [
    {
     "data": {
      "text/html": [
       "<div>\n",
       "<style scoped>\n",
       "    .dataframe tbody tr th:only-of-type {\n",
       "        vertical-align: middle;\n",
       "    }\n",
       "\n",
       "    .dataframe tbody tr th {\n",
       "        vertical-align: top;\n",
       "    }\n",
       "\n",
       "    .dataframe thead th {\n",
       "        text-align: right;\n",
       "    }\n",
       "</style>\n",
       "<table border=\"1\" class=\"dataframe\">\n",
       "  <thead>\n",
       "    <tr style=\"text-align: right;\">\n",
       "      <th></th>\n",
       "      <th>counts</th>\n",
       "      <th>production_company</th>\n",
       "    </tr>\n",
       "  </thead>\n",
       "  <tbody>\n",
       "    <tr>\n",
       "      <th>0</th>\n",
       "      <td>1</td>\n",
       "      <td>\"DIA\" Productions GmbH &amp; Co. KG</td>\n",
       "    </tr>\n",
       "    <tr>\n",
       "      <th>1</th>\n",
       "      <td>1</td>\n",
       "      <td>\"Filma\" Shareholders' Association</td>\n",
       "    </tr>\n",
       "    <tr>\n",
       "      <th>2</th>\n",
       "      <td>2</td>\n",
       "      <td>\"G\" P.C. S.A.</td>\n",
       "    </tr>\n",
       "    <tr>\n",
       "      <th>3</th>\n",
       "      <td>1</td>\n",
       "      <td>\"GREEN\" Productions</td>\n",
       "    </tr>\n",
       "    <tr>\n",
       "      <th>4</th>\n",
       "      <td>1</td>\n",
       "      <td>\"Hanochi\" Film Partners</td>\n",
       "    </tr>\n",
       "    <tr>\n",
       "      <th>...</th>\n",
       "      <td>...</td>\n",
       "      <td>...</td>\n",
       "    </tr>\n",
       "    <tr>\n",
       "      <th>106051</th>\n",
       "      <td>1</td>\n",
       "      <td>플랫폼픽쳐스</td>\n",
       "    </tr>\n",
       "    <tr>\n",
       "      <th>106052</th>\n",
       "      <td>1</td>\n",
       "      <td>필름소년</td>\n",
       "    </tr>\n",
       "    <tr>\n",
       "      <th>106053</th>\n",
       "      <td>1</td>\n",
       "      <td>한국 영화독립제작소 물결</td>\n",
       "    </tr>\n",
       "    <tr>\n",
       "      <th>106054</th>\n",
       "      <td>1</td>\n",
       "      <td>한맥문화</td>\n",
       "    </tr>\n",
       "    <tr>\n",
       "      <th>106055</th>\n",
       "      <td>1</td>\n",
       "      <td>환타지엔터테인먼트</td>\n",
       "    </tr>\n",
       "  </tbody>\n",
       "</table>\n",
       "<p>106056 rows × 2 columns</p>\n",
       "</div>"
      ],
      "text/plain": [
       "        counts                 production_company\n",
       "0            1    \"DIA\" Productions GmbH & Co. KG\n",
       "1            1  \"Filma\" Shareholders' Association\n",
       "2            2                      \"G\" P.C. S.A.\n",
       "3            1                \"GREEN\" Productions\n",
       "4            1            \"Hanochi\" Film Partners\n",
       "...        ...                                ...\n",
       "106051       1                             플랫폼픽쳐스\n",
       "106052       1                               필름소년\n",
       "106053       1                      한국 영화독립제작소 물결\n",
       "106054       1                               한맥문화\n",
       "106055       1                          환타지엔터테인먼트\n",
       "\n",
       "[106056 rows x 2 columns]"
      ]
     },
     "execution_count": 241,
     "metadata": {},
     "output_type": "execute_result"
    }
   ],
   "source": [
    "companies"
   ]
  },
  {
   "cell_type": "markdown",
   "metadata": {},
   "source": [
    "# COUNTS OF TO 20 PRODUCTION COMPANIES"
   ]
  },
  {
   "cell_type": "code",
   "execution_count": 244,
   "metadata": {},
   "outputs": [
    {
     "data": {
      "text/plain": [
       "<AxesSubplot:xlabel='production_company'>"
      ]
     },
     "execution_count": 244,
     "metadata": {},
     "output_type": "execute_result"
    },
    {
     "data": {
      "image/png": "[encoded data removed]",
      "text/plain": [
       "<Figure size 936x360 with 1 Axes>"
      ]
     },
     "metadata": {
      "needs_background": "light"
     },
     "output_type": "display_data"
    }
   ],
   "source": [
    "plt.figure(figsize=(13,5))\n",
    "companies.groupby('production_company')['counts'].max().sort_values(ascending=False).head(20).plot(kind='bar')"
   ]
  },
  {
   "cell_type": "code",
   "execution_count": null,
   "metadata": {},
   "outputs": [],
   "source": []
  },
  {
   "cell_type": "markdown",
   "metadata": {},
   "source": [
    "# PRODUCTION CONTRIES Analysis"
   ]
  },
  {
   "cell_type": "code",
   "execution_count": 21,
   "metadata": {},
   "outputs": [],
   "source": [
    "data['production_countries'] = [ast.literal_eval(genre_list) for genre_list in data['production_countries']]\n"
   ]
  },
  {
   "cell_type": "code",
   "execution_count": 22,
   "metadata": {},
   "outputs": [],
   "source": [
    "data_all_country = data['production_countries'].sum()\n"
   ]
  },
  {
   "cell_type": "code",
   "execution_count": 23,
   "metadata": {},
   "outputs": [],
   "source": [
    "Count_country =  data['production_countries'].map(len)"
   ]
  },
  {
   "cell_type": "code",
   "execution_count": 24,
   "metadata": {},
   "outputs": [
    {
     "data": {
      "text/plain": [
       "count    656075.000000\n",
       "mean          0.667677\n",
       "std           0.650068\n",
       "min           0.000000\n",
       "25%           0.000000\n",
       "50%           1.000000\n",
       "75%           1.000000\n",
       "max          30.000000\n",
       "Name: production_countries, dtype: float64"
      ]
     },
     "execution_count": 24,
     "metadata": {},
     "output_type": "execute_result"
    }
   ],
   "source": [
    "Count_country.describe()"
   ]
  },
  {
   "cell_type": "code",
   "execution_count": 25,
   "metadata": {},
   "outputs": [
    {
     "data": {
      "text/plain": [
       "(array([6.48424e+05, 7.37400e+03, 2.32000e+02, 2.70000e+01, 6.00000e+00,\n",
       "        2.00000e+00, 1.00000e+00, 3.00000e+00, 5.00000e+00, 1.00000e+00]),\n",
       " array([ 0.,  3.,  6.,  9., 12., 15., 18., 21., 24., 27., 30.]),\n",
       " <BarContainer object of 10 artists>)"
      ]
     },
     "execution_count": 25,
     "metadata": {},
     "output_type": "execute_result"
    },
    {
     "data": {
      "image/png": "[encoded data removed]",
      "text/plain": [
       "<Figure size 432x288 with 1 Axes>"
      ]
     },
     "metadata": {
      "needs_background": "light"
     },
     "output_type": "display_data"
    }
   ],
   "source": [
    "plt.hist(Count_country)"
   ]
  },
  {
   "cell_type": "code",
   "execution_count": 26,
   "metadata": {},
   "outputs": [
    {
     "name": "stdout",
     "output_type": "stream",
     "text": [
      "[['Afghanistan' '149']\n",
      " ['Albania' '301']\n",
      " ['Algeria' '186']\n",
      " ['American Samoa' '8']\n",
      " ['Andorra' '17']\n",
      " ['Angola' '52']\n",
      " ['Anguilla' '4']\n",
      " ['Antarctica' '9']\n",
      " ['Antigua and Barbuda' '9']\n",
      " ['Argentina' '5014']\n",
      " ['Armenia' '200']\n",
      " ['Aruba' '17']\n",
      " ['Australia' '4552']\n",
      " ['Austria' '3885']\n",
      " ['Azerbaijan' '338']\n",
      " ['Bahamas' '28']\n",
      " ['Bahrain' '20']\n",
      " ['Bangladesh' '411']\n",
      " ['Barbados' '18']\n",
      " ['Belarus' '405']\n",
      " ['Belgium' '3512']\n",
      " ['Belize' '8']\n",
      " ['Benin' '22']\n",
      " ['Bermuda' '8']\n",
      " ['Bhutan' '28']\n",
      " ['Bolivia' '156']\n",
      " ['Bosnia and Herzegovina' '311']\n",
      " ['Botswana' '20']\n",
      " ['Bouvet Island' '1']\n",
      " ['Brazil' '9966']\n",
      " ['British Indian Ocean Territory' '1']\n",
      " ['British Virgin Islands' '5']\n",
      " ['Brunei Darussalam' '14']\n",
      " ['Bulgaria' '740']\n",
      " ['Burkina Faso' '92']\n",
      " ['Burundi' '9']\n",
      " ['Cambodia' '153']\n",
      " ['Cameroon' '66']\n",
      " ['Canada' '15048']\n",
      " ['Cape Verde' '27']\n",
      " ['Cayman Islands' '9']\n",
      " ['Central African Republic' '16']\n",
      " ['Chad' '23']\n",
      " ['Chile' '1540']\n",
      " ['China' '4889']\n",
      " ['Christmas Island' '2']\n",
      " ['Cocos  Islands' '1']\n",
      " ['Colombia' '838']\n",
      " ['Comoros' '6']\n",
      " ['Congo' '84']\n",
      " ['Cook Islands' '6']\n",
      " ['Costa Rica' '169']\n",
      " [\"Cote D'Ivoire\" '33']\n",
      " ['Croatia' '742']\n",
      " ['Cuba' '570']\n",
      " ['Cyprus' '79']\n",
      " ['Czech Republic' '3861']\n",
      " ['Czechoslovakia' '2675']\n",
      " ['Denmark' '3624']\n",
      " ['Djibouti' '8']\n",
      " ['Dominica' '11']\n",
      " ['Dominican Republic' '249']\n",
      " ['East Germany' '706']\n",
      " ['Ecuador' '224']\n",
      " ['Egypt' '1463']\n",
      " ['El Salvador' '48']\n",
      " ['Equatorial Guinea' '9']\n",
      " ['Eritrea' '12']\n",
      " ['Estonia' '699']\n",
      " ['Ethiopia' '70']\n",
      " ['Faeroe Islands' '18']\n",
      " ['Falkland Islands' '6']\n",
      " ['Fiji' '15']\n",
      " ['Finland' '2643']\n",
      " ['France' '28759']\n",
      " ['French Guiana' '9']\n",
      " ['French Polynesia' '14']\n",
      " ['French Southern Territories' '1']\n",
      " ['Gabon' '17']\n",
      " ['Gambia' '10']\n",
      " ['Georgia' '402']\n",
      " ['Germany' '30756']\n",
      " ['Ghana' '110']\n",
      " ['Gibraltar' '4']\n",
      " ['Greece' '2569']\n",
      " ['Greenland' '40']\n",
      " ['Grenada' '7']\n",
      " ['Guadaloupe' '12']\n",
      " ['Guam' '9']\n",
      " ['Guatemala' '97']\n",
      " ['Guinea' '22']\n",
      " ['Guinea-Bissau' '23']\n",
      " ['Guyana' '10']\n",
      " ['Haiti' '56']\n",
      " ['Heard and McDonald Islands' '2']\n",
      " ['Holy See' '8']\n",
      " ['Honduras' '60']\n",
      " ['Hong Kong' '5108']\n",
      " ['Hungary' '2235']\n",
      " ['Iceland' '422']\n",
      " ['India' '13013']\n",
      " ['Indonesia' '2342']\n",
      " ['Iran' '1725']\n",
      " ['Iraq' '118']\n",
      " ['Ireland' '1378']\n",
      " ['Israel' '1475']\n",
      " ['Italy' '12475']\n",
      " ['Jamaica' '53']\n",
      " ['Japan' '20077']\n",
      " ['Jordan' '72']\n",
      " ['Kazakhstan' '225']\n",
      " ['Kenya' '103']\n",
      " ['Kiribati' '7']\n",
      " ['Kosovo' '76']\n",
      " ['Kuwait' '76']\n",
      " ['Kyrgyz Republic' '69']\n",
      " [\"Lao People's Democratic Republic\" '41']\n",
      " ['Latvia' '1166']\n",
      " ['Lebanon' '405']\n",
      " ['Lesotho' '13']\n",
      " ['Liberia' '12']\n",
      " ['Libyan Arab Jamahiriya' '27']\n",
      " ['Liechtenstein' '32']\n",
      " ['Lithuania' '431']\n",
      " ['Luxembourg' '363']\n",
      " ['Macao' '106']\n",
      " ['Macedonia' '299']\n",
      " ['Madagascar' '26']\n",
      " ['Malawi' '12']\n",
      " ['Malaysia' '1067']\n",
      " ['Maldives' '17']\n",
      " ['Mali' '51']\n",
      " ['Malta' '60']\n",
      " ['Marshall Islands' '9']\n",
      " ['Martinique' '13']\n",
      " ['Mauritania' '24']\n",
      " ['Mauritius' '15']\n",
      " ['Mayotte' '6']\n",
      " ['Mexico' '8385']\n",
      " ['Micronesia' '2']\n",
      " ['Moldova' '67']\n",
      " ['Monaco' '30']\n",
      " ['Mongolia' '71']\n",
      " ['Montenegro' '67']\n",
      " ['Montserrat' '3']\n",
      " ['Morocco' '347']\n",
      " ['Mozambique' '51']\n",
      " ['Myanmar' '75']\n",
      " ['Namibia' '36']\n",
      " ['Nauru' '2']\n",
      " ['Nepal' '180']\n",
      " ['Netherlands' '4271']\n",
      " ['Netherlands Antilles' '14']\n",
      " ['New Caledonia' '8']\n",
      " ['New Zealand' '926']\n",
      " ['Nicaragua' '56']\n",
      " ['Niger' '37']\n",
      " ['Nigeria' '343']\n",
      " ['Niue' '3']\n",
      " ['Norfolk Island' '2']\n",
      " ['North Korea' '91']\n",
      " ['Northern Mariana Islands' '6']\n",
      " ['Norway' '2422']\n",
      " ['Oman' '16']\n",
      " ['Pakistan' '393']\n",
      " ['Palau' '3']\n",
      " ['Palestinian Territory' '229']\n",
      " ['Panama' '69']\n",
      " ['Papua New Guinea' '34']\n",
      " ['Paraguay' '96']\n",
      " ['Peru' '472']\n",
      " ['Philippines' '4147']\n",
      " ['Pitcairn Island' '1']\n",
      " ['Poland' '2776']\n",
      " ['Portugal' '2877']\n",
      " ['Puerto Rico' '1068']\n",
      " ['Qatar' '190']\n",
      " ['Reunion' '8']\n",
      " ['Romania' '1320']\n",
      " ['Russia' '8816']\n",
      " ['Rwanda' '38']\n",
      " ['Samoa' '9']\n",
      " ['San Marino' '5']\n",
      " ['Sao Tome and Principe' '4']\n",
      " ['Saudi Arabia' '173']\n",
      " ['Senegal' '137']\n",
      " ['Serbia' '792']\n",
      " ['Serbia and Montenegro' '23']\n",
      " ['Seychelles' '5']\n",
      " ['Sierra Leone' '10']\n",
      " ['Singapore' '636']\n",
      " ['Slovakia' '479']\n",
      " ['Slovenia' '546']\n",
      " ['Solomon Islands' '11']\n",
      " ['Somalia' '19']\n",
      " ['South Africa' '1035']\n",
      " ['South Georgia and the South Sandwich Islands' '2']\n",
      " ['South Korea' '5416']\n",
      " ['South Sudan' '11']\n",
      " ['Soviet Union' '3982']\n",
      " ['Spain' '10639']\n",
      " ['Sri Lanka' '166']\n",
      " ['St. Helena' '2']\n",
      " ['St. Kitts and Nevis' '3']\n",
      " ['St. Lucia' '8']\n",
      " ['St. Pierre and Miquelon' '1']\n",
      " ['St. Vincent and the Grenadines' '6']\n",
      " ['Sudan' '49']\n",
      " ['Suriname' '15']\n",
      " ['Svalbard & Jan Mayen Islands' '5']\n",
      " ['Swaziland' '10']\n",
      " ['Sweden' '5639']\n",
      " ['Switzerland' '2925']\n",
      " ['Syrian Arab Republic' '141']\n",
      " ['Taiwan' '2210']\n",
      " ['Tajikistan' '43']\n",
      " ['Tanzania' '54']\n",
      " ['Thailand' '1578']\n",
      " ['Timor-Leste' '11']\n",
      " ['Togo' '10']\n",
      " ['Tokelau' '2']\n",
      " ['Tonga' '6']\n",
      " ['Trinidad and Tobago' '46']\n",
      " ['Tunisia' '208']\n",
      " ['Turkey' '2548']\n",
      " ['Turkmenistan' '23']\n",
      " ['Turks and Caicos Islands' '5']\n",
      " ['Tuvalu' '4']\n",
      " ['US Virgin Islands' '6']\n",
      " ['Uganda' '52']\n",
      " ['Ukraine' '1251']\n",
      " ['United Arab Emirates' '215']\n",
      " ['United Kingdom' '25753']\n",
      " ['United States Minor Outlying Islands' '3']\n",
      " ['United States of America' '121766']\n",
      " ['Uruguay' '278']\n",
      " ['Uzbekistan' '85']\n",
      " ['Vanuatu' '12']\n",
      " ['Venezuela' '380']\n",
      " ['Vietnam' '389']\n",
      " ['Wallis and Futuna Islands' '1']\n",
      " ['Western Sahara' '7']\n",
      " ['Yemen' '18']\n",
      " ['Yugoslavia' '1842']\n",
      " ['Zambia' '20']\n",
      " ['Zimbabwe' '42']\n",
      " ['not_found' '6827']]\n"
     ]
    }
   ],
   "source": [
    "country= np.array([data_all_country])\n",
    "\n",
    "(unique_of_coun, counts_of_coun) = np.unique(country, return_counts=True)\n",
    "production_country = np.asarray((unique_of_coun, unique_of_coun)).T\n",
    "print(production_country)\n"
   ]
  },
  {
   "cell_type": "code",
   "execution_count": 27,
   "metadata": {},
   "outputs": [
    {
     "data": {
      "text/plain": [
       "247"
      ]
     },
     "execution_count": 27,
     "metadata": {},
     "output_type": "execute_result"
    }
   ],
   "source": [
    "len(set(data_all_country)) #247 unique country"
   ]
  },
  {
   "cell_type": "code",
   "execution_count": 174,
   "metadata": {},
   "outputs": [],
   "source": [
    "production_countrys=pd.DataFrame(unique_of_coun,counts_of_coun)\n",
    "\n"
   ]
  },
  {
   "cell_type": "code",
   "execution_count": null,
   "metadata": {},
   "outputs": [],
   "source": []
  },
  {
   "cell_type": "code",
   "execution_count": 212,
   "metadata": {},
   "outputs": [],
   "source": [
    "production_countrys.reset_index(level=0, inplace=True)"
   ]
  },
  {
   "cell_type": "code",
   "execution_count": 214,
   "metadata": {},
   "outputs": [],
   "source": [
    "production_countrys.drop('level_0',axis=1,inplace=True)\n"
   ]
  },
  {
   "cell_type": "code",
   "execution_count": 220,
   "metadata": {},
   "outputs": [],
   "source": [
    "production_countrys.columns = ['count', 'country']"
   ]
  },
  {
   "cell_type": "code",
   "execution_count": 221,
   "metadata": {},
   "outputs": [
    {
     "data": {
      "text/html": [
       "<div>\n",
       "<style scoped>\n",
       "    .dataframe tbody tr th:only-of-type {\n",
       "        vertical-align: middle;\n",
       "    }\n",
       "\n",
       "    .dataframe tbody tr th {\n",
       "        vertical-align: top;\n",
       "    }\n",
       "\n",
       "    .dataframe thead th {\n",
       "        text-align: right;\n",
       "    }\n",
       "</style>\n",
       "<table border=\"1\" class=\"dataframe\">\n",
       "  <thead>\n",
       "    <tr style=\"text-align: right;\">\n",
       "      <th></th>\n",
       "      <th>count</th>\n",
       "      <th>country</th>\n",
       "    </tr>\n",
       "  </thead>\n",
       "  <tbody>\n",
       "    <tr>\n",
       "      <th>0</th>\n",
       "      <td>149</td>\n",
       "      <td>Afghanistan</td>\n",
       "    </tr>\n",
       "    <tr>\n",
       "      <th>1</th>\n",
       "      <td>301</td>\n",
       "      <td>Albania</td>\n",
       "    </tr>\n",
       "    <tr>\n",
       "      <th>2</th>\n",
       "      <td>186</td>\n",
       "      <td>Algeria</td>\n",
       "    </tr>\n",
       "    <tr>\n",
       "      <th>3</th>\n",
       "      <td>8</td>\n",
       "      <td>American Samoa</td>\n",
       "    </tr>\n",
       "    <tr>\n",
       "      <th>4</th>\n",
       "      <td>17</td>\n",
       "      <td>Andorra</td>\n",
       "    </tr>\n",
       "    <tr>\n",
       "      <th>...</th>\n",
       "      <td>...</td>\n",
       "      <td>...</td>\n",
       "    </tr>\n",
       "    <tr>\n",
       "      <th>242</th>\n",
       "      <td>18</td>\n",
       "      <td>Yemen</td>\n",
       "    </tr>\n",
       "    <tr>\n",
       "      <th>243</th>\n",
       "      <td>1842</td>\n",
       "      <td>Yugoslavia</td>\n",
       "    </tr>\n",
       "    <tr>\n",
       "      <th>244</th>\n",
       "      <td>20</td>\n",
       "      <td>Zambia</td>\n",
       "    </tr>\n",
       "    <tr>\n",
       "      <th>245</th>\n",
       "      <td>42</td>\n",
       "      <td>Zimbabwe</td>\n",
       "    </tr>\n",
       "    <tr>\n",
       "      <th>246</th>\n",
       "      <td>6827</td>\n",
       "      <td>not_found</td>\n",
       "    </tr>\n",
       "  </tbody>\n",
       "</table>\n",
       "<p>247 rows × 2 columns</p>\n",
       "</div>"
      ],
      "text/plain": [
       "     count         country\n",
       "0      149     Afghanistan\n",
       "1      301         Albania\n",
       "2      186         Algeria\n",
       "3        8  American Samoa\n",
       "4       17         Andorra\n",
       "..     ...             ...\n",
       "242     18           Yemen\n",
       "243   1842      Yugoslavia\n",
       "244     20          Zambia\n",
       "245     42        Zimbabwe\n",
       "246   6827       not_found\n",
       "\n",
       "[247 rows x 2 columns]"
      ]
     },
     "execution_count": 221,
     "metadata": {},
     "output_type": "execute_result"
    }
   ],
   "source": [
    "production_countrys"
   ]
  },
  {
   "cell_type": "code",
   "execution_count": 225,
   "metadata": {},
   "outputs": [
    {
     "data": {
      "text/plain": [
       "country\n",
       "United States of America    121766\n",
       "Germany                      30756\n",
       "France                       28759\n",
       "United Kingdom               25753\n",
       "Japan                        20077\n",
       "Canada                       15048\n",
       "India                        13013\n",
       "Italy                        12475\n",
       "Spain                        10639\n",
       "Brazil                        9966\n",
       "Russia                        8816\n",
       "Mexico                        8385\n",
       "not_found                     6827\n",
       "Sweden                        5639\n",
       "South Korea                   5416\n",
       "Hong Kong                     5108\n",
       "Argentina                     5014\n",
       "China                         4889\n",
       "Australia                     4552\n",
       "Netherlands                   4271\n",
       "Name: count, dtype: int64"
      ]
     },
     "execution_count": 225,
     "metadata": {},
     "output_type": "execute_result"
    }
   ],
   "source": [
    "production_countrys.groupby('country')['count'].max().sort_values(ascending=False).head(20)"
   ]
  },
  {
   "cell_type": "markdown",
   "metadata": {},
   "source": [
    "# COUNTS TOP 20 COUNTRY "
   ]
  },
  {
   "cell_type": "code",
   "execution_count": 229,
   "metadata": {},
   "outputs": [
    {
     "data": {
      "text/plain": [
       "<AxesSubplot:xlabel='country'>"
      ]
     },
     "execution_count": 229,
     "metadata": {},
     "output_type": "execute_result"
    },
    {
     "data": {
      "image/png": "[encoded data removed]",
      "text/plain": [
       "<Figure size 936x360 with 1 Axes>"
      ]
     },
     "metadata": {
      "needs_background": "light"
     },
     "output_type": "display_data"
    }
   ],
   "source": [
    "plt.figure(figsize=(13,5))\n",
    "production_countrys.groupby('country')['count'].max().sort_values(ascending=False).head(20).plot(kind='bar')"
   ]
  },
  {
   "cell_type": "code",
   "execution_count": null,
   "metadata": {},
   "outputs": [],
   "source": []
  },
  {
   "cell_type": "code",
   "execution_count": null,
   "metadata": {},
   "outputs": [],
   "source": []
  },
  {
   "cell_type": "markdown",
   "metadata": {},
   "source": [
    "# Spoken_languages Analysis"
   ]
  },
  {
   "cell_type": "code",
   "execution_count": 29,
   "metadata": {},
   "outputs": [],
   "source": [
    "\n",
    "data['spoken_languages'] = [ast.literal_eval(genre_list) for genre_list in data['spoken_languages']]"
   ]
  },
  {
   "cell_type": "code",
   "execution_count": 30,
   "metadata": {},
   "outputs": [],
   "source": [
    "data_all_spoken = data['spoken_languages'].sum()"
   ]
  },
  {
   "cell_type": "code",
   "execution_count": 31,
   "metadata": {},
   "outputs": [],
   "source": [
    "Count_spoken =  data['spoken_languages'].map(len)"
   ]
  },
  {
   "cell_type": "code",
   "execution_count": 32,
   "metadata": {},
   "outputs": [
    {
     "data": {
      "text/plain": [
       "count    656075.000000\n",
       "mean          0.672306\n",
       "std           0.655440\n",
       "min           0.000000\n",
       "25%           0.000000\n",
       "50%           1.000000\n",
       "75%           1.000000\n",
       "max          25.000000\n",
       "Name: spoken_languages, dtype: float64"
      ]
     },
     "execution_count": 32,
     "metadata": {},
     "output_type": "execute_result"
    }
   ],
   "source": [
    "Count_spoken.describe()"
   ]
  },
  {
   "cell_type": "code",
   "execution_count": 33,
   "metadata": {},
   "outputs": [
    {
     "data": {
      "text/plain": [
       "(array([6.47295e+05, 7.90000e+03, 8.14000e+02, 4.90000e+01, 1.30000e+01,\n",
       "        2.00000e+00, 0.00000e+00, 1.00000e+00, 0.00000e+00, 1.00000e+00]),\n",
       " array([ 0. ,  2.5,  5. ,  7.5, 10. , 12.5, 15. , 17.5, 20. , 22.5, 25. ]),\n",
       " <BarContainer object of 10 artists>)"
      ]
     },
     "execution_count": 33,
     "metadata": {},
     "output_type": "execute_result"
    },
    {
     "data": {
      "image/png": "[encoded data removed]",
      "text/plain": [
       "<Figure size 432x288 with 1 Axes>"
      ]
     },
     "metadata": {
      "needs_background": "light"
     },
     "output_type": "display_data"
    }
   ],
   "source": [
    "plt.hist(Count_spoken)"
   ]
  },
  {
   "cell_type": "code",
   "execution_count": 34,
   "metadata": {},
   "outputs": [
    {
     "data": {
      "text/plain": [
       "81"
      ]
     },
     "execution_count": 34,
     "metadata": {},
     "output_type": "execute_result"
    }
   ],
   "source": [
    "len(set(data_all_spoken)) #81 unique spoken language in this data set"
   ]
  },
  {
   "cell_type": "code",
   "execution_count": 35,
   "metadata": {},
   "outputs": [
    {
     "name": "stdout",
     "output_type": "stream",
     "text": [
      "[['' '10712']\n",
      " ['?????' '678']\n",
      " ['??????' '61']\n",
      " ['Afrikaans' '385']\n",
      " ['Azərbaycan' '339']\n",
      " ['Bahasa indonesia' '2509']\n",
      " ['Bahasa melayu' '1263']\n",
      " ['Bamanankan' '46']\n",
      " ['Bokmål' '44']\n",
      " ['Bosanski' '461']\n",
      " ['Català' '632']\n",
      " ['Cymraeg' '63']\n",
      " ['Dansk' '2975']\n",
      " ['Deutsch' '25384']\n",
      " ['Eesti' '525']\n",
      " ['English' '168734']\n",
      " ['Español' '27917']\n",
      " ['Esperanto' '29']\n",
      " [\"Finu' Chamorro\" '2']\n",
      " ['Français' '30094']\n",
      " ['Fulfulde' '12']\n",
      " ['Gaeilge' '124']\n",
      " ['Galego' '129']\n",
      " ['Hausa' '37']\n",
      " ['Hrvatski' '917']\n",
      " ['Italiano' '13606']\n",
      " ['Kinyarwanda' '27']\n",
      " ['Kirundi' '2']\n",
      " ['Kiswahili' '177']\n",
      " ['Latin' '296']\n",
      " ['Latviešu' '417']\n",
      " ['Lietuvių' '388']\n",
      " ['Magyar' '2457']\n",
      " ['Malti' '27']\n",
      " ['Nederlands' '4210']\n",
      " ['No Language' '13333']\n",
      " ['Norsk' '1969']\n",
      " ['Polski' '2893']\n",
      " ['Português' '12274']\n",
      " ['Pусский' '13706']\n",
      " ['Română' '1270']\n",
      " ['Slovenčina' '711']\n",
      " ['Slovenščina' '615']\n",
      " ['Somali' '56']\n",
      " ['Srpski' '1583']\n",
      " ['Tiếng Việt' '624']\n",
      " ['Türkçe' '3292']\n",
      " ['Wolof' '100']\n",
      " ['euskera' '216']\n",
      " ['isiZulu' '107']\n",
      " ['not_found' '6827']\n",
      " ['ozbek' '56']\n",
      " ['shqip' '497']\n",
      " ['suomi' '2109']\n",
      " ['svenska' '4818']\n",
      " ['Èdè Yorùbá' '29']\n",
      " ['Èʋegbe' '4']\n",
      " ['Íslenska' '529']\n",
      " ['Český' '4562']\n",
      " ['ελληνικά' '3197']\n",
      " ['Український' '688']\n",
      " ['беларуская мова' '88']\n",
      " ['български език' '600']\n",
      " ['қазақ' '128']\n",
      " ['עִבְרִית' '1752']\n",
      " ['اردو' '538']\n",
      " ['العربية' '5397']\n",
      " ['فارسی' '2460']\n",
      " ['پښتو' '69']\n",
      " ['हिन्दी' '5212']\n",
      " ['বাংলা' '1475']\n",
      " ['ਪੰਜਾਬੀ' '432']\n",
      " ['தமிழ்' '3568']\n",
      " ['తెలుగు' '1773']\n",
      " ['සිංහල' '188']\n",
      " ['ภาษาไทย' '1847']\n",
      " ['ქართული' '392']\n",
      " ['广州话 / 廣州話' '4444']\n",
      " ['日本語' '22200']\n",
      " ['普通话' '10087']\n",
      " ['한국어/조선말' '6689']]\n"
     ]
    }
   ],
   "source": [
    "spoken= np.array([data_all_spoken])\n",
    "\n",
    "(unique_of_spo, counts_of_spo) = np.unique(spoken, return_counts=True)\n",
    "spoken_languages = np.asarray((unique_of_spo, counts_of_spo)).T\n",
    "print(spoken_languages)"
   ]
  },
  {
   "cell_type": "code",
   "execution_count": 230,
   "metadata": {},
   "outputs": [],
   "source": [
    "spoken_lag=pd.DataFrame(unique_of_spo,counts_of_spo)"
   ]
  },
  {
   "cell_type": "code",
   "execution_count": 234,
   "metadata": {},
   "outputs": [],
   "source": [
    "spoken_lag.reset_index(level=0, inplace=True)"
   ]
  },
  {
   "cell_type": "code",
   "execution_count": 235,
   "metadata": {},
   "outputs": [],
   "source": [
    "spoken_lag.columns = ['counts', 'spoken_languages']"
   ]
  },
  {
   "cell_type": "code",
   "execution_count": 236,
   "metadata": {},
   "outputs": [
    {
     "data": {
      "text/html": [
       "<div>\n",
       "<style scoped>\n",
       "    .dataframe tbody tr th:only-of-type {\n",
       "        vertical-align: middle;\n",
       "    }\n",
       "\n",
       "    .dataframe tbody tr th {\n",
       "        vertical-align: top;\n",
       "    }\n",
       "\n",
       "    .dataframe thead th {\n",
       "        text-align: right;\n",
       "    }\n",
       "</style>\n",
       "<table border=\"1\" class=\"dataframe\">\n",
       "  <thead>\n",
       "    <tr style=\"text-align: right;\">\n",
       "      <th></th>\n",
       "      <th>counts</th>\n",
       "      <th>spoken_languages</th>\n",
       "    </tr>\n",
       "  </thead>\n",
       "  <tbody>\n",
       "    <tr>\n",
       "      <th>0</th>\n",
       "      <td>10712</td>\n",
       "      <td></td>\n",
       "    </tr>\n",
       "    <tr>\n",
       "      <th>1</th>\n",
       "      <td>678</td>\n",
       "      <td>?????</td>\n",
       "    </tr>\n",
       "    <tr>\n",
       "      <th>2</th>\n",
       "      <td>61</td>\n",
       "      <td>??????</td>\n",
       "    </tr>\n",
       "    <tr>\n",
       "      <th>3</th>\n",
       "      <td>385</td>\n",
       "      <td>Afrikaans</td>\n",
       "    </tr>\n",
       "    <tr>\n",
       "      <th>4</th>\n",
       "      <td>339</td>\n",
       "      <td>Azərbaycan</td>\n",
       "    </tr>\n",
       "    <tr>\n",
       "      <th>...</th>\n",
       "      <td>...</td>\n",
       "      <td>...</td>\n",
       "    </tr>\n",
       "    <tr>\n",
       "      <th>76</th>\n",
       "      <td>392</td>\n",
       "      <td>ქართული</td>\n",
       "    </tr>\n",
       "    <tr>\n",
       "      <th>77</th>\n",
       "      <td>4444</td>\n",
       "      <td>广州话 / 廣州話</td>\n",
       "    </tr>\n",
       "    <tr>\n",
       "      <th>78</th>\n",
       "      <td>22200</td>\n",
       "      <td>日本語</td>\n",
       "    </tr>\n",
       "    <tr>\n",
       "      <th>79</th>\n",
       "      <td>10087</td>\n",
       "      <td>普通话</td>\n",
       "    </tr>\n",
       "    <tr>\n",
       "      <th>80</th>\n",
       "      <td>6689</td>\n",
       "      <td>한국어/조선말</td>\n",
       "    </tr>\n",
       "  </tbody>\n",
       "</table>\n",
       "<p>81 rows × 2 columns</p>\n",
       "</div>"
      ],
      "text/plain": [
       "    counts spoken_languages\n",
       "0    10712                 \n",
       "1      678            ?????\n",
       "2       61           ??????\n",
       "3      385        Afrikaans\n",
       "4      339       Azərbaycan\n",
       "..     ...              ...\n",
       "76     392          ქართული\n",
       "77    4444        广州话 / 廣州話\n",
       "78   22200              日本語\n",
       "79   10087              普通话\n",
       "80    6689          한국어/조선말\n",
       "\n",
       "[81 rows x 2 columns]"
      ]
     },
     "execution_count": 236,
     "metadata": {},
     "output_type": "execute_result"
    }
   ],
   "source": [
    "spoken_lag"
   ]
  },
  {
   "cell_type": "markdown",
   "metadata": {},
   "source": [
    "# COUNT OF TOP 20 SPOKEN LANGUAGE"
   ]
  },
  {
   "cell_type": "code",
   "execution_count": 284,
   "metadata": {},
   "outputs": [
    {
     "data": {
      "text/plain": [
       "<AxesSubplot:xlabel='spoken_languages'>"
      ]
     },
     "execution_count": 284,
     "metadata": {},
     "output_type": "execute_result"
    },
    {
     "data": {
      "image/png": "[encoded data removed]",
      "text/plain": [
       "<Figure size 936x360 with 1 Axes>"
      ]
     },
     "metadata": {
      "needs_background": "light"
     },
     "output_type": "display_data"
    }
   ],
   "source": [
    "plt.figure(figsize=(13,5))\n",
    "spoken_lag.groupby('spoken_languages')['counts'].max().sort_values(ascending=False).head(20).plot(kind='bar',color='blue')"
   ]
  },
  {
   "cell_type": "code",
   "execution_count": null,
   "metadata": {},
   "outputs": [],
   "source": []
  },
  {
   "cell_type": "code",
   "execution_count": null,
   "metadata": {},
   "outputs": [],
   "source": []
  },
  {
   "cell_type": "code",
   "execution_count": null,
   "metadata": {},
   "outputs": [],
   "source": []
  },
  {
   "cell_type": "code",
   "execution_count": 37,
   "metadata": {},
   "outputs": [
    {
     "data": {
      "text/plain": [
       "Unnamed: 0               0.000000\n",
       "budget                   0.740007\n",
       "genres                   0.000000\n",
       "id                       0.759517\n",
       "imdb_id                 34.312083\n",
       "original_language        0.740007\n",
       "original_title           0.871852\n",
       "overview                17.279427\n",
       "popularity               0.890295\n",
       "production_companies     0.000000\n",
       "production_countries     0.000000\n",
       "revenue                  1.040582\n",
       "runtime                 10.131159\n",
       "spoken_languages         0.000000\n",
       "status                   1.040582\n",
       "title                    1.041040\n",
       "video                    1.040582\n",
       "vote_average             1.040582\n",
       "vote_count               1.040582\n",
       "release_year             9.729985\n",
       "release_month            9.729985\n",
       "release_day              9.729985\n",
       "dtype: float64"
      ]
     },
     "execution_count": 37,
     "metadata": {},
     "output_type": "execute_result"
    }
   ],
   "source": [
    "data.isnull().sum()/len(data)*100"
   ]
  },
  {
   "cell_type": "code",
   "execution_count": null,
   "metadata": {},
   "outputs": [],
   "source": []
  },
  {
   "cell_type": "raw",
   "metadata": {},
   "source": []
  },
  {
   "cell_type": "code",
   "execution_count": 38,
   "metadata": {},
   "outputs": [],
   "source": [
    "data['count_genres']=Count_genres"
   ]
  },
  {
   "cell_type": "code",
   "execution_count": 39,
   "metadata": {},
   "outputs": [],
   "source": [
    "data['count_company']=Count_company"
   ]
  },
  {
   "cell_type": "code",
   "execution_count": 40,
   "metadata": {},
   "outputs": [],
   "source": [
    "data['count_spoken']=Count_spoken"
   ]
  },
  {
   "cell_type": "code",
   "execution_count": 41,
   "metadata": {},
   "outputs": [],
   "source": [
    "data['count_country']=Count_country"
   ]
  },
  {
   "cell_type": "code",
   "execution_count": 42,
   "metadata": {},
   "outputs": [
    {
     "data": {
      "text/html": [
       "<div>\n",
       "<style scoped>\n",
       "    .dataframe tbody tr th:only-of-type {\n",
       "        vertical-align: middle;\n",
       "    }\n",
       "\n",
       "    .dataframe tbody tr th {\n",
       "        vertical-align: top;\n",
       "    }\n",
       "\n",
       "    .dataframe thead th {\n",
       "        text-align: right;\n",
       "    }\n",
       "</style>\n",
       "<table border=\"1\" class=\"dataframe\">\n",
       "  <thead>\n",
       "    <tr style=\"text-align: right;\">\n",
       "      <th></th>\n",
       "      <th>Unnamed: 0</th>\n",
       "      <th>budget</th>\n",
       "      <th>genres</th>\n",
       "      <th>id</th>\n",
       "      <th>imdb_id</th>\n",
       "      <th>original_language</th>\n",
       "      <th>original_title</th>\n",
       "      <th>overview</th>\n",
       "      <th>popularity</th>\n",
       "      <th>production_companies</th>\n",
       "      <th>...</th>\n",
       "      <th>video</th>\n",
       "      <th>vote_average</th>\n",
       "      <th>vote_count</th>\n",
       "      <th>release_year</th>\n",
       "      <th>release_month</th>\n",
       "      <th>release_day</th>\n",
       "      <th>count_genres</th>\n",
       "      <th>count_company</th>\n",
       "      <th>count_spoken</th>\n",
       "      <th>count_country</th>\n",
       "    </tr>\n",
       "  </thead>\n",
       "  <tbody>\n",
       "    <tr>\n",
       "      <th>0</th>\n",
       "      <td>0</td>\n",
       "      <td>0</td>\n",
       "      <td>[Drama, Crime, Comedy]</td>\n",
       "      <td>2.0</td>\n",
       "      <td>tt0094675</td>\n",
       "      <td>fi</td>\n",
       "      <td>Ariel</td>\n",
       "      <td>Taisto Kasurinen is a Finnish coal miner whose...</td>\n",
       "      <td>6.656</td>\n",
       "      <td>[Villealfa Filmproductions]</td>\n",
       "      <td>...</td>\n",
       "      <td>False</td>\n",
       "      <td>6.8</td>\n",
       "      <td>134.0</td>\n",
       "      <td>1988.0</td>\n",
       "      <td>10.0</td>\n",
       "      <td>21.0</td>\n",
       "      <td>3</td>\n",
       "      <td>1</td>\n",
       "      <td>2</td>\n",
       "      <td>1</td>\n",
       "    </tr>\n",
       "    <tr>\n",
       "      <th>1</th>\n",
       "      <td>1</td>\n",
       "      <td>0</td>\n",
       "      <td>[Drama, Comedy]</td>\n",
       "      <td>3.0</td>\n",
       "      <td>tt0092149</td>\n",
       "      <td>fi</td>\n",
       "      <td>Varjoja paratiisissa</td>\n",
       "      <td>An episode in the life of Nikander, a garbage ...</td>\n",
       "      <td>6.205</td>\n",
       "      <td>[Villealfa Filmproductions]</td>\n",
       "      <td>...</td>\n",
       "      <td>False</td>\n",
       "      <td>7.2</td>\n",
       "      <td>132.0</td>\n",
       "      <td>1986.0</td>\n",
       "      <td>10.0</td>\n",
       "      <td>17.0</td>\n",
       "      <td>2</td>\n",
       "      <td>1</td>\n",
       "      <td>3</td>\n",
       "      <td>1</td>\n",
       "    </tr>\n",
       "    <tr>\n",
       "      <th>2</th>\n",
       "      <td>2</td>\n",
       "      <td>4000000</td>\n",
       "      <td>[Crime, Comedy]</td>\n",
       "      <td>5.0</td>\n",
       "      <td>tt0113101</td>\n",
       "      <td>en</td>\n",
       "      <td>Four Rooms</td>\n",
       "      <td>It's Ted the Bellhop's first night on the job....</td>\n",
       "      <td>8.307</td>\n",
       "      <td>[Miramax, A Band Apart]</td>\n",
       "      <td>...</td>\n",
       "      <td>False</td>\n",
       "      <td>5.7</td>\n",
       "      <td>1936.0</td>\n",
       "      <td>1995.0</td>\n",
       "      <td>9.0</td>\n",
       "      <td>12.0</td>\n",
       "      <td>2</td>\n",
       "      <td>2</td>\n",
       "      <td>1</td>\n",
       "      <td>1</td>\n",
       "    </tr>\n",
       "    <tr>\n",
       "      <th>3</th>\n",
       "      <td>3</td>\n",
       "      <td>21000000</td>\n",
       "      <td>[Action, Thriller, Crime]</td>\n",
       "      <td>6.0</td>\n",
       "      <td>tt0107286</td>\n",
       "      <td>en</td>\n",
       "      <td>Judgment Night</td>\n",
       "      <td>While racing to a boxing match, Frank, Mike, J...</td>\n",
       "      <td>6.944</td>\n",
       "      <td>[Universal Pictures, Largo Entertainment, JVC]</td>\n",
       "      <td>...</td>\n",
       "      <td>False</td>\n",
       "      <td>6.4</td>\n",
       "      <td>191.0</td>\n",
       "      <td>1993.0</td>\n",
       "      <td>10.0</td>\n",
       "      <td>15.0</td>\n",
       "      <td>3</td>\n",
       "      <td>3</td>\n",
       "      <td>1</td>\n",
       "      <td>2</td>\n",
       "    </tr>\n",
       "    <tr>\n",
       "      <th>4</th>\n",
       "      <td>4</td>\n",
       "      <td>42000</td>\n",
       "      <td>[Documentary]</td>\n",
       "      <td>8.0</td>\n",
       "      <td>tt0825671</td>\n",
       "      <td>en</td>\n",
       "      <td>Life in Loops (A Megacities RMX)</td>\n",
       "      <td>Timo Novotny labels his new project an experim...</td>\n",
       "      <td>1.652</td>\n",
       "      <td>[inLoops]</td>\n",
       "      <td>...</td>\n",
       "      <td>False</td>\n",
       "      <td>7.4</td>\n",
       "      <td>14.0</td>\n",
       "      <td>2006.0</td>\n",
       "      <td>1.0</td>\n",
       "      <td>1.0</td>\n",
       "      <td>1</td>\n",
       "      <td>1</td>\n",
       "      <td>5</td>\n",
       "      <td>1</td>\n",
       "    </tr>\n",
       "  </tbody>\n",
       "</table>\n",
       "<p>5 rows × 26 columns</p>\n",
       "</div>"
      ],
      "text/plain": [
       "   Unnamed: 0    budget                     genres   id    imdb_id  \\\n",
       "0           0         0     [Drama, Crime, Comedy]  2.0  tt0094675   \n",
       "1           1         0            [Drama, Comedy]  3.0  tt0092149   \n",
       "2           2   4000000            [Crime, Comedy]  5.0  tt0113101   \n",
       "3           3  21000000  [Action, Thriller, Crime]  6.0  tt0107286   \n",
       "4           4     42000              [Documentary]  8.0  tt0825671   \n",
       "\n",
       "  original_language                    original_title  \\\n",
       "0                fi                             Ariel   \n",
       "1                fi              Varjoja paratiisissa   \n",
       "2                en                        Four Rooms   \n",
       "3                en                    Judgment Night   \n",
       "4                en  Life in Loops (A Megacities RMX)   \n",
       "\n",
       "                                            overview popularity  \\\n",
       "0  Taisto Kasurinen is a Finnish coal miner whose...      6.656   \n",
       "1  An episode in the life of Nikander, a garbage ...      6.205   \n",
       "2  It's Ted the Bellhop's first night on the job....      8.307   \n",
       "3  While racing to a boxing match, Frank, Mike, J...      6.944   \n",
       "4  Timo Novotny labels his new project an experim...      1.652   \n",
       "\n",
       "                             production_companies  ...  video  vote_average  \\\n",
       "0                     [Villealfa Filmproductions]  ...  False           6.8   \n",
       "1                     [Villealfa Filmproductions]  ...  False           7.2   \n",
       "2                         [Miramax, A Band Apart]  ...  False           5.7   \n",
       "3  [Universal Pictures, Largo Entertainment, JVC]  ...  False           6.4   \n",
       "4                                       [inLoops]  ...  False           7.4   \n",
       "\n",
       "   vote_count release_year release_month release_day count_genres  \\\n",
       "0       134.0       1988.0          10.0        21.0            3   \n",
       "1       132.0       1986.0          10.0        17.0            2   \n",
       "2      1936.0       1995.0           9.0        12.0            2   \n",
       "3       191.0       1993.0          10.0        15.0            3   \n",
       "4        14.0       2006.0           1.0         1.0            1   \n",
       "\n",
       "   count_company  count_spoken  count_country  \n",
       "0              1             2              1  \n",
       "1              1             3              1  \n",
       "2              2             1              1  \n",
       "3              3             1              2  \n",
       "4              1             5              1  \n",
       "\n",
       "[5 rows x 26 columns]"
      ]
     },
     "execution_count": 42,
     "metadata": {},
     "output_type": "execute_result"
    }
   ],
   "source": [
    "data.head()"
   ]
  },
  {
   "cell_type": "code",
   "execution_count": 43,
   "metadata": {},
   "outputs": [],
   "source": [
    "data.to_csv('data_1.csv')"
   ]
  },
  {
   "cell_type": "code",
   "execution_count": 45,
   "metadata": {},
   "outputs": [
    {
     "data": {
      "text/html": [
       "<div>\n",
       "<style scoped>\n",
       "    .dataframe tbody tr th:only-of-type {\n",
       "        vertical-align: middle;\n",
       "    }\n",
       "\n",
       "    .dataframe tbody tr th {\n",
       "        vertical-align: top;\n",
       "    }\n",
       "\n",
       "    .dataframe thead th {\n",
       "        text-align: right;\n",
       "    }\n",
       "</style>\n",
       "<table border=\"1\" class=\"dataframe\">\n",
       "  <thead>\n",
       "    <tr style=\"text-align: right;\">\n",
       "      <th></th>\n",
       "      <th>0</th>\n",
       "      <th>1</th>\n",
       "      <th>2</th>\n",
       "    </tr>\n",
       "  </thead>\n",
       "  <tbody>\n",
       "    <tr>\n",
       "      <th>Unnamed: 0</th>\n",
       "      <td>0</td>\n",
       "      <td>1</td>\n",
       "      <td>2</td>\n",
       "    </tr>\n",
       "    <tr>\n",
       "      <th>budget</th>\n",
       "      <td>0</td>\n",
       "      <td>0</td>\n",
       "      <td>4000000</td>\n",
       "    </tr>\n",
       "    <tr>\n",
       "      <th>genres</th>\n",
       "      <td>[Drama, Crime, Comedy]</td>\n",
       "      <td>[Drama, Comedy]</td>\n",
       "      <td>[Crime, Comedy]</td>\n",
       "    </tr>\n",
       "    <tr>\n",
       "      <th>id</th>\n",
       "      <td>2</td>\n",
       "      <td>3</td>\n",
       "      <td>5</td>\n",
       "    </tr>\n",
       "    <tr>\n",
       "      <th>imdb_id</th>\n",
       "      <td>tt0094675</td>\n",
       "      <td>tt0092149</td>\n",
       "      <td>tt0113101</td>\n",
       "    </tr>\n",
       "    <tr>\n",
       "      <th>original_language</th>\n",
       "      <td>fi</td>\n",
       "      <td>fi</td>\n",
       "      <td>en</td>\n",
       "    </tr>\n",
       "    <tr>\n",
       "      <th>original_title</th>\n",
       "      <td>Ariel</td>\n",
       "      <td>Varjoja paratiisissa</td>\n",
       "      <td>Four Rooms</td>\n",
       "    </tr>\n",
       "    <tr>\n",
       "      <th>overview</th>\n",
       "      <td>Taisto Kasurinen is a Finnish coal miner whose...</td>\n",
       "      <td>An episode in the life of Nikander, a garbage ...</td>\n",
       "      <td>It's Ted the Bellhop's first night on the job....</td>\n",
       "    </tr>\n",
       "    <tr>\n",
       "      <th>popularity</th>\n",
       "      <td>6.656</td>\n",
       "      <td>6.205</td>\n",
       "      <td>8.307</td>\n",
       "    </tr>\n",
       "    <tr>\n",
       "      <th>production_companies</th>\n",
       "      <td>[Villealfa Filmproductions]</td>\n",
       "      <td>[Villealfa Filmproductions]</td>\n",
       "      <td>[Miramax, A Band Apart]</td>\n",
       "    </tr>\n",
       "    <tr>\n",
       "      <th>production_countries</th>\n",
       "      <td>[Finland]</td>\n",
       "      <td>[Finland]</td>\n",
       "      <td>[United States of America]</td>\n",
       "    </tr>\n",
       "    <tr>\n",
       "      <th>revenue</th>\n",
       "      <td>0</td>\n",
       "      <td>0</td>\n",
       "      <td>4.25735e+06</td>\n",
       "    </tr>\n",
       "    <tr>\n",
       "      <th>runtime</th>\n",
       "      <td>73</td>\n",
       "      <td>74</td>\n",
       "      <td>98</td>\n",
       "    </tr>\n",
       "    <tr>\n",
       "      <th>spoken_languages</th>\n",
       "      <td>[Deutsch, suomi]</td>\n",
       "      <td>[English, svenska, suomi]</td>\n",
       "      <td>[English]</td>\n",
       "    </tr>\n",
       "    <tr>\n",
       "      <th>status</th>\n",
       "      <td>Released</td>\n",
       "      <td>Released</td>\n",
       "      <td>Released</td>\n",
       "    </tr>\n",
       "    <tr>\n",
       "      <th>title</th>\n",
       "      <td>Ariel</td>\n",
       "      <td>Shadows in Paradise</td>\n",
       "      <td>Four Rooms</td>\n",
       "    </tr>\n",
       "    <tr>\n",
       "      <th>video</th>\n",
       "      <td>False</td>\n",
       "      <td>False</td>\n",
       "      <td>False</td>\n",
       "    </tr>\n",
       "    <tr>\n",
       "      <th>vote_average</th>\n",
       "      <td>6.8</td>\n",
       "      <td>7.2</td>\n",
       "      <td>5.7</td>\n",
       "    </tr>\n",
       "    <tr>\n",
       "      <th>vote_count</th>\n",
       "      <td>134</td>\n",
       "      <td>132</td>\n",
       "      <td>1936</td>\n",
       "    </tr>\n",
       "    <tr>\n",
       "      <th>release_year</th>\n",
       "      <td>1988</td>\n",
       "      <td>1986</td>\n",
       "      <td>1995</td>\n",
       "    </tr>\n",
       "    <tr>\n",
       "      <th>release_month</th>\n",
       "      <td>10</td>\n",
       "      <td>10</td>\n",
       "      <td>9</td>\n",
       "    </tr>\n",
       "    <tr>\n",
       "      <th>release_day</th>\n",
       "      <td>21</td>\n",
       "      <td>17</td>\n",
       "      <td>12</td>\n",
       "    </tr>\n",
       "    <tr>\n",
       "      <th>count_genres</th>\n",
       "      <td>3</td>\n",
       "      <td>2</td>\n",
       "      <td>2</td>\n",
       "    </tr>\n",
       "    <tr>\n",
       "      <th>count_company</th>\n",
       "      <td>1</td>\n",
       "      <td>1</td>\n",
       "      <td>2</td>\n",
       "    </tr>\n",
       "    <tr>\n",
       "      <th>count_spoken</th>\n",
       "      <td>2</td>\n",
       "      <td>3</td>\n",
       "      <td>1</td>\n",
       "    </tr>\n",
       "    <tr>\n",
       "      <th>count_country</th>\n",
       "      <td>1</td>\n",
       "      <td>1</td>\n",
       "      <td>1</td>\n",
       "    </tr>\n",
       "  </tbody>\n",
       "</table>\n",
       "</div>"
      ],
      "text/plain": [
       "                                                                      0  \\\n",
       "Unnamed: 0                                                            0   \n",
       "budget                                                                0   \n",
       "genres                                           [Drama, Crime, Comedy]   \n",
       "id                                                                    2   \n",
       "imdb_id                                                       tt0094675   \n",
       "original_language                                                    fi   \n",
       "original_title                                                    Ariel   \n",
       "overview              Taisto Kasurinen is a Finnish coal miner whose...   \n",
       "popularity                                                        6.656   \n",
       "production_companies                        [Villealfa Filmproductions]   \n",
       "production_countries                                          [Finland]   \n",
       "revenue                                                               0   \n",
       "runtime                                                              73   \n",
       "spoken_languages                                       [Deutsch, suomi]   \n",
       "status                                                         Released   \n",
       "title                                                             Ariel   \n",
       "video                                                             False   \n",
       "vote_average                                                        6.8   \n",
       "vote_count                                                          134   \n",
       "release_year                                                       1988   \n",
       "release_month                                                        10   \n",
       "release_day                                                          21   \n",
       "count_genres                                                          3   \n",
       "count_company                                                         1   \n",
       "count_spoken                                                          2   \n",
       "count_country                                                         1   \n",
       "\n",
       "                                                                      1  \\\n",
       "Unnamed: 0                                                            1   \n",
       "budget                                                                0   \n",
       "genres                                                  [Drama, Comedy]   \n",
       "id                                                                    3   \n",
       "imdb_id                                                       tt0092149   \n",
       "original_language                                                    fi   \n",
       "original_title                                     Varjoja paratiisissa   \n",
       "overview              An episode in the life of Nikander, a garbage ...   \n",
       "popularity                                                        6.205   \n",
       "production_companies                        [Villealfa Filmproductions]   \n",
       "production_countries                                          [Finland]   \n",
       "revenue                                                               0   \n",
       "runtime                                                              74   \n",
       "spoken_languages                              [English, svenska, suomi]   \n",
       "status                                                         Released   \n",
       "title                                               Shadows in Paradise   \n",
       "video                                                             False   \n",
       "vote_average                                                        7.2   \n",
       "vote_count                                                          132   \n",
       "release_year                                                       1986   \n",
       "release_month                                                        10   \n",
       "release_day                                                          17   \n",
       "count_genres                                                          2   \n",
       "count_company                                                         1   \n",
       "count_spoken                                                          3   \n",
       "count_country                                                         1   \n",
       "\n",
       "                                                                      2  \n",
       "Unnamed: 0                                                            2  \n",
       "budget                                                          4000000  \n",
       "genres                                                  [Crime, Comedy]  \n",
       "id                                                                    5  \n",
       "imdb_id                                                       tt0113101  \n",
       "original_language                                                    en  \n",
       "original_title                                               Four Rooms  \n",
       "overview              It's Ted the Bellhop's first night on the job....  \n",
       "popularity                                                        8.307  \n",
       "production_companies                            [Miramax, A Band Apart]  \n",
       "production_countries                         [United States of America]  \n",
       "revenue                                                     4.25735e+06  \n",
       "runtime                                                              98  \n",
       "spoken_languages                                              [English]  \n",
       "status                                                         Released  \n",
       "title                                                        Four Rooms  \n",
       "video                                                             False  \n",
       "vote_average                                                        5.7  \n",
       "vote_count                                                         1936  \n",
       "release_year                                                       1995  \n",
       "release_month                                                         9  \n",
       "release_day                                                          12  \n",
       "count_genres                                                          2  \n",
       "count_company                                                         2  \n",
       "count_spoken                                                          1  \n",
       "count_country                                                         1  "
      ]
     },
     "execution_count": 45,
     "metadata": {},
     "output_type": "execute_result"
    }
   ],
   "source": [
    "data.head(3).T"
   ]
  },
  {
   "cell_type": "code",
   "execution_count": 46,
   "metadata": {},
   "outputs": [],
   "source": [
    "data=data.drop(['Unnamed: 0'],axis=1)\n",
    "data=data.drop(['id'],axis=1)\n",
    "data=data.drop(['imdb_id'],axis=1)"
   ]
  },
  {
   "cell_type": "code",
   "execution_count": 48,
   "metadata": {},
   "outputs": [
    {
     "data": {
      "text/html": [
       "<div>\n",
       "<style scoped>\n",
       "    .dataframe tbody tr th:only-of-type {\n",
       "        vertical-align: middle;\n",
       "    }\n",
       "\n",
       "    .dataframe tbody tr th {\n",
       "        vertical-align: top;\n",
       "    }\n",
       "\n",
       "    .dataframe thead th {\n",
       "        text-align: right;\n",
       "    }\n",
       "</style>\n",
       "<table border=\"1\" class=\"dataframe\">\n",
       "  <thead>\n",
       "    <tr style=\"text-align: right;\">\n",
       "      <th></th>\n",
       "      <th>0</th>\n",
       "      <th>1</th>\n",
       "    </tr>\n",
       "  </thead>\n",
       "  <tbody>\n",
       "    <tr>\n",
       "      <th>budget</th>\n",
       "      <td>0</td>\n",
       "      <td>0</td>\n",
       "    </tr>\n",
       "    <tr>\n",
       "      <th>genres</th>\n",
       "      <td>[Drama, Crime, Comedy]</td>\n",
       "      <td>[Drama, Comedy]</td>\n",
       "    </tr>\n",
       "    <tr>\n",
       "      <th>original_language</th>\n",
       "      <td>fi</td>\n",
       "      <td>fi</td>\n",
       "    </tr>\n",
       "    <tr>\n",
       "      <th>original_title</th>\n",
       "      <td>Ariel</td>\n",
       "      <td>Varjoja paratiisissa</td>\n",
       "    </tr>\n",
       "    <tr>\n",
       "      <th>overview</th>\n",
       "      <td>Taisto Kasurinen is a Finnish coal miner whose...</td>\n",
       "      <td>An episode in the life of Nikander, a garbage ...</td>\n",
       "    </tr>\n",
       "    <tr>\n",
       "      <th>popularity</th>\n",
       "      <td>6.656</td>\n",
       "      <td>6.205</td>\n",
       "    </tr>\n",
       "    <tr>\n",
       "      <th>production_companies</th>\n",
       "      <td>[Villealfa Filmproductions]</td>\n",
       "      <td>[Villealfa Filmproductions]</td>\n",
       "    </tr>\n",
       "    <tr>\n",
       "      <th>production_countries</th>\n",
       "      <td>[Finland]</td>\n",
       "      <td>[Finland]</td>\n",
       "    </tr>\n",
       "    <tr>\n",
       "      <th>revenue</th>\n",
       "      <td>0</td>\n",
       "      <td>0</td>\n",
       "    </tr>\n",
       "    <tr>\n",
       "      <th>runtime</th>\n",
       "      <td>73</td>\n",
       "      <td>74</td>\n",
       "    </tr>\n",
       "    <tr>\n",
       "      <th>spoken_languages</th>\n",
       "      <td>[Deutsch, suomi]</td>\n",
       "      <td>[English, svenska, suomi]</td>\n",
       "    </tr>\n",
       "    <tr>\n",
       "      <th>status</th>\n",
       "      <td>Released</td>\n",
       "      <td>Released</td>\n",
       "    </tr>\n",
       "    <tr>\n",
       "      <th>title</th>\n",
       "      <td>Ariel</td>\n",
       "      <td>Shadows in Paradise</td>\n",
       "    </tr>\n",
       "    <tr>\n",
       "      <th>video</th>\n",
       "      <td>False</td>\n",
       "      <td>False</td>\n",
       "    </tr>\n",
       "    <tr>\n",
       "      <th>vote_average</th>\n",
       "      <td>6.8</td>\n",
       "      <td>7.2</td>\n",
       "    </tr>\n",
       "    <tr>\n",
       "      <th>vote_count</th>\n",
       "      <td>134</td>\n",
       "      <td>132</td>\n",
       "    </tr>\n",
       "    <tr>\n",
       "      <th>release_year</th>\n",
       "      <td>1988</td>\n",
       "      <td>1986</td>\n",
       "    </tr>\n",
       "    <tr>\n",
       "      <th>release_month</th>\n",
       "      <td>10</td>\n",
       "      <td>10</td>\n",
       "    </tr>\n",
       "    <tr>\n",
       "      <th>release_day</th>\n",
       "      <td>21</td>\n",
       "      <td>17</td>\n",
       "    </tr>\n",
       "    <tr>\n",
       "      <th>count_genres</th>\n",
       "      <td>3</td>\n",
       "      <td>2</td>\n",
       "    </tr>\n",
       "    <tr>\n",
       "      <th>count_company</th>\n",
       "      <td>1</td>\n",
       "      <td>1</td>\n",
       "    </tr>\n",
       "    <tr>\n",
       "      <th>count_spoken</th>\n",
       "      <td>2</td>\n",
       "      <td>3</td>\n",
       "    </tr>\n",
       "    <tr>\n",
       "      <th>count_country</th>\n",
       "      <td>1</td>\n",
       "      <td>1</td>\n",
       "    </tr>\n",
       "  </tbody>\n",
       "</table>\n",
       "</div>"
      ],
      "text/plain": [
       "                                                                      0  \\\n",
       "budget                                                                0   \n",
       "genres                                           [Drama, Crime, Comedy]   \n",
       "original_language                                                    fi   \n",
       "original_title                                                    Ariel   \n",
       "overview              Taisto Kasurinen is a Finnish coal miner whose...   \n",
       "popularity                                                        6.656   \n",
       "production_companies                        [Villealfa Filmproductions]   \n",
       "production_countries                                          [Finland]   \n",
       "revenue                                                               0   \n",
       "runtime                                                              73   \n",
       "spoken_languages                                       [Deutsch, suomi]   \n",
       "status                                                         Released   \n",
       "title                                                             Ariel   \n",
       "video                                                             False   \n",
       "vote_average                                                        6.8   \n",
       "vote_count                                                          134   \n",
       "release_year                                                       1988   \n",
       "release_month                                                        10   \n",
       "release_day                                                          21   \n",
       "count_genres                                                          3   \n",
       "count_company                                                         1   \n",
       "count_spoken                                                          2   \n",
       "count_country                                                         1   \n",
       "\n",
       "                                                                      1  \n",
       "budget                                                                0  \n",
       "genres                                                  [Drama, Comedy]  \n",
       "original_language                                                    fi  \n",
       "original_title                                     Varjoja paratiisissa  \n",
       "overview              An episode in the life of Nikander, a garbage ...  \n",
       "popularity                                                        6.205  \n",
       "production_companies                        [Villealfa Filmproductions]  \n",
       "production_countries                                          [Finland]  \n",
       "revenue                                                               0  \n",
       "runtime                                                              74  \n",
       "spoken_languages                              [English, svenska, suomi]  \n",
       "status                                                         Released  \n",
       "title                                               Shadows in Paradise  \n",
       "video                                                             False  \n",
       "vote_average                                                        7.2  \n",
       "vote_count                                                          132  \n",
       "release_year                                                       1986  \n",
       "release_month                                                        10  \n",
       "release_day                                                          17  \n",
       "count_genres                                                          2  \n",
       "count_company                                                         1  \n",
       "count_spoken                                                          3  \n",
       "count_country                                                         1  "
      ]
     },
     "execution_count": 48,
     "metadata": {},
     "output_type": "execute_result"
    }
   ],
   "source": [
    "data.head(2).T"
   ]
  },
  {
   "cell_type": "markdown",
   "metadata": {},
   "source": [
    "# Correlation Analysis"
   ]
  },
  {
   "cell_type": "code",
   "execution_count": 50,
   "metadata": {},
   "outputs": [
    {
     "data": {
      "text/html": [
       "<div>\n",
       "<style scoped>\n",
       "    .dataframe tbody tr th:only-of-type {\n",
       "        vertical-align: middle;\n",
       "    }\n",
       "\n",
       "    .dataframe tbody tr th {\n",
       "        vertical-align: top;\n",
       "    }\n",
       "\n",
       "    .dataframe thead th {\n",
       "        text-align: right;\n",
       "    }\n",
       "</style>\n",
       "<table border=\"1\" class=\"dataframe\">\n",
       "  <thead>\n",
       "    <tr style=\"text-align: right;\">\n",
       "      <th></th>\n",
       "      <th>revenue</th>\n",
       "      <th>runtime</th>\n",
       "      <th>vote_average</th>\n",
       "      <th>vote_count</th>\n",
       "      <th>release_year</th>\n",
       "      <th>release_month</th>\n",
       "      <th>release_day</th>\n",
       "      <th>count_genres</th>\n",
       "      <th>count_company</th>\n",
       "      <th>count_spoken</th>\n",
       "      <th>count_country</th>\n",
       "    </tr>\n",
       "  </thead>\n",
       "  <tbody>\n",
       "    <tr>\n",
       "      <th>revenue</th>\n",
       "      <td>1.000000e+00</td>\n",
       "      <td>-9.237420e-07</td>\n",
       "      <td>0.001058</td>\n",
       "      <td>0.023460</td>\n",
       "      <td>0.020135</td>\n",
       "      <td>0.019418</td>\n",
       "      <td>0.015514</td>\n",
       "      <td>0.001613</td>\n",
       "      <td>0.003102</td>\n",
       "      <td>0.002663</td>\n",
       "      <td>0.000353</td>\n",
       "    </tr>\n",
       "    <tr>\n",
       "      <th>runtime</th>\n",
       "      <td>-9.237420e-07</td>\n",
       "      <td>1.000000e+00</td>\n",
       "      <td>-0.001331</td>\n",
       "      <td>-0.000097</td>\n",
       "      <td>0.041658</td>\n",
       "      <td>0.039190</td>\n",
       "      <td>0.042230</td>\n",
       "      <td>-0.001769</td>\n",
       "      <td>-0.001086</td>\n",
       "      <td>-0.001828</td>\n",
       "      <td>-0.001827</td>\n",
       "    </tr>\n",
       "    <tr>\n",
       "      <th>vote_average</th>\n",
       "      <td>1.058019e-03</td>\n",
       "      <td>-1.330972e-03</td>\n",
       "      <td>1.000000</td>\n",
       "      <td>0.099924</td>\n",
       "      <td>-0.002537</td>\n",
       "      <td>0.076810</td>\n",
       "      <td>0.075673</td>\n",
       "      <td>0.336837</td>\n",
       "      <td>0.273890</td>\n",
       "      <td>0.301245</td>\n",
       "      <td>0.248790</td>\n",
       "    </tr>\n",
       "    <tr>\n",
       "      <th>vote_count</th>\n",
       "      <td>2.346037e-02</td>\n",
       "      <td>-9.669824e-05</td>\n",
       "      <td>0.099924</td>\n",
       "      <td>1.000000</td>\n",
       "      <td>0.024278</td>\n",
       "      <td>0.025573</td>\n",
       "      <td>0.021027</td>\n",
       "      <td>0.120295</td>\n",
       "      <td>0.185923</td>\n",
       "      <td>0.092958</td>\n",
       "      <td>0.081340</td>\n",
       "    </tr>\n",
       "    <tr>\n",
       "      <th>release_year</th>\n",
       "      <td>2.013517e-02</td>\n",
       "      <td>4.165756e-02</td>\n",
       "      <td>-0.002537</td>\n",
       "      <td>0.024278</td>\n",
       "      <td>1.000000</td>\n",
       "      <td>0.056982</td>\n",
       "      <td>0.056207</td>\n",
       "      <td>-0.018271</td>\n",
       "      <td>0.016687</td>\n",
       "      <td>0.074730</td>\n",
       "      <td>-0.031525</td>\n",
       "    </tr>\n",
       "    <tr>\n",
       "      <th>release_month</th>\n",
       "      <td>1.941777e-02</td>\n",
       "      <td>3.919046e-02</td>\n",
       "      <td>0.076810</td>\n",
       "      <td>0.025573</td>\n",
       "      <td>0.056982</td>\n",
       "      <td>1.000000</td>\n",
       "      <td>0.361639</td>\n",
       "      <td>0.093328</td>\n",
       "      <td>0.082955</td>\n",
       "      <td>0.078762</td>\n",
       "      <td>0.057567</td>\n",
       "    </tr>\n",
       "    <tr>\n",
       "      <th>release_day</th>\n",
       "      <td>1.551446e-02</td>\n",
       "      <td>4.222977e-02</td>\n",
       "      <td>0.075673</td>\n",
       "      <td>0.021027</td>\n",
       "      <td>0.056207</td>\n",
       "      <td>0.361639</td>\n",
       "      <td>1.000000</td>\n",
       "      <td>0.092159</td>\n",
       "      <td>0.085337</td>\n",
       "      <td>0.080641</td>\n",
       "      <td>0.063644</td>\n",
       "    </tr>\n",
       "    <tr>\n",
       "      <th>count_genres</th>\n",
       "      <td>1.613398e-03</td>\n",
       "      <td>-1.768959e-03</td>\n",
       "      <td>0.336837</td>\n",
       "      <td>0.120295</td>\n",
       "      <td>-0.018271</td>\n",
       "      <td>0.093328</td>\n",
       "      <td>0.092159</td>\n",
       "      <td>1.000000</td>\n",
       "      <td>0.354388</td>\n",
       "      <td>0.377772</td>\n",
       "      <td>0.370211</td>\n",
       "    </tr>\n",
       "    <tr>\n",
       "      <th>count_company</th>\n",
       "      <td>3.101648e-03</td>\n",
       "      <td>-1.085849e-03</td>\n",
       "      <td>0.273890</td>\n",
       "      <td>0.185923</td>\n",
       "      <td>0.016687</td>\n",
       "      <td>0.082955</td>\n",
       "      <td>0.085337</td>\n",
       "      <td>0.354388</td>\n",
       "      <td>1.000000</td>\n",
       "      <td>0.367057</td>\n",
       "      <td>0.506254</td>\n",
       "    </tr>\n",
       "    <tr>\n",
       "      <th>count_spoken</th>\n",
       "      <td>2.662689e-03</td>\n",
       "      <td>-1.828215e-03</td>\n",
       "      <td>0.301245</td>\n",
       "      <td>0.092958</td>\n",
       "      <td>0.074730</td>\n",
       "      <td>0.078762</td>\n",
       "      <td>0.080641</td>\n",
       "      <td>0.377772</td>\n",
       "      <td>0.367057</td>\n",
       "      <td>1.000000</td>\n",
       "      <td>0.472770</td>\n",
       "    </tr>\n",
       "    <tr>\n",
       "      <th>count_country</th>\n",
       "      <td>3.530858e-04</td>\n",
       "      <td>-1.826863e-03</td>\n",
       "      <td>0.248790</td>\n",
       "      <td>0.081340</td>\n",
       "      <td>-0.031525</td>\n",
       "      <td>0.057567</td>\n",
       "      <td>0.063644</td>\n",
       "      <td>0.370211</td>\n",
       "      <td>0.506254</td>\n",
       "      <td>0.472770</td>\n",
       "      <td>1.000000</td>\n",
       "    </tr>\n",
       "  </tbody>\n",
       "</table>\n",
       "</div>"
      ],
      "text/plain": [
       "                    revenue       runtime  vote_average  vote_count  \\\n",
       "revenue        1.000000e+00 -9.237420e-07      0.001058    0.023460   \n",
       "runtime       -9.237420e-07  1.000000e+00     -0.001331   -0.000097   \n",
       "vote_average   1.058019e-03 -1.330972e-03      1.000000    0.099924   \n",
       "vote_count     2.346037e-02 -9.669824e-05      0.099924    1.000000   \n",
       "release_year   2.013517e-02  4.165756e-02     -0.002537    0.024278   \n",
       "release_month  1.941777e-02  3.919046e-02      0.076810    0.025573   \n",
       "release_day    1.551446e-02  4.222977e-02      0.075673    0.021027   \n",
       "count_genres   1.613398e-03 -1.768959e-03      0.336837    0.120295   \n",
       "count_company  3.101648e-03 -1.085849e-03      0.273890    0.185923   \n",
       "count_spoken   2.662689e-03 -1.828215e-03      0.301245    0.092958   \n",
       "count_country  3.530858e-04 -1.826863e-03      0.248790    0.081340   \n",
       "\n",
       "               release_year  release_month  release_day  count_genres  \\\n",
       "revenue            0.020135       0.019418     0.015514      0.001613   \n",
       "runtime            0.041658       0.039190     0.042230     -0.001769   \n",
       "vote_average      -0.002537       0.076810     0.075673      0.336837   \n",
       "vote_count         0.024278       0.025573     0.021027      0.120295   \n",
       "release_year       1.000000       0.056982     0.056207     -0.018271   \n",
       "release_month      0.056982       1.000000     0.361639      0.093328   \n",
       "release_day        0.056207       0.361639     1.000000      0.092159   \n",
       "count_genres      -0.018271       0.093328     0.092159      1.000000   \n",
       "count_company      0.016687       0.082955     0.085337      0.354388   \n",
       "count_spoken       0.074730       0.078762     0.080641      0.377772   \n",
       "count_country     -0.031525       0.057567     0.063644      0.370211   \n",
       "\n",
       "               count_company  count_spoken  count_country  \n",
       "revenue             0.003102      0.002663       0.000353  \n",
       "runtime            -0.001086     -0.001828      -0.001827  \n",
       "vote_average        0.273890      0.301245       0.248790  \n",
       "vote_count          0.185923      0.092958       0.081340  \n",
       "release_year        0.016687      0.074730      -0.031525  \n",
       "release_month       0.082955      0.078762       0.057567  \n",
       "release_day         0.085337      0.080641       0.063644  \n",
       "count_genres        0.354388      0.377772       0.370211  \n",
       "count_company       1.000000      0.367057       0.506254  \n",
       "count_spoken        0.367057      1.000000       0.472770  \n",
       "count_country       0.506254      0.472770       1.000000  "
      ]
     },
     "execution_count": 50,
     "metadata": {},
     "output_type": "execute_result"
    }
   ],
   "source": [
    "data.corr()"
   ]
  },
  {
   "cell_type": "code",
   "execution_count": 54,
   "metadata": {},
   "outputs": [
    {
     "data": {
      "text/plain": [
       "<AxesSubplot:>"
      ]
     },
     "execution_count": 54,
     "metadata": {},
     "output_type": "execute_result"
    },
    {
     "data": {
      "image/png": "[encoded data removed]",
      "text/plain": [
       "<Figure size 720x720 with 2 Axes>"
      ]
     },
     "metadata": {
      "needs_background": "light"
     },
     "output_type": "display_data"
    }
   ],
   "source": [
    "# Plotting the correlation heatmap of all the features of our dataset\n",
    "plt.figure(figsize=(10, 10))\n",
    "sns.heatmap(data.corr(),annot=True)"
   ]
  },
  {
   "cell_type": "code",
   "execution_count": 58,
   "metadata": {},
   "outputs": [],
   "source": [
    "data['popularity'] = pd.to_numeric(data['popularity'].astype(str).str[:-1], errors='coerce')\n"
   ]
  },
  {
   "cell_type": "markdown",
   "metadata": {},
   "source": [
    "# Regression Target Analysis"
   ]
  },
  {
   "cell_type": "code",
   "execution_count": 153,
   "metadata": {},
   "outputs": [
    {
     "data": {
      "text/plain": [
       "<AxesSubplot:xlabel='vote_average', ylabel='popularity'>"
      ]
     },
     "execution_count": 153,
     "metadata": {},
     "output_type": "execute_result"
    },
    {
     "data": {
      "image/png": "[encoded data removed]",
      "text/plain": [
       "<Figure size 432x288 with 1 Axes>"
      ]
     },
     "metadata": {
      "needs_background": "light"
     },
     "output_type": "display_data"
    }
   ],
   "source": [
    "# plotting the correlation graph between vote average and popularity\n",
    "\n",
    "sns.scatterplot(y='popularity', x='vote_average', data=data)"
   ]
  },
  {
   "cell_type": "markdown",
   "metadata": {},
   "source": [
    "# plotting  graph between vote average with count_genres ,count_company,count_spoken ,count_country"
   ]
  },
  {
   "cell_type": "code",
   "execution_count": null,
   "metadata": {},
   "outputs": [],
   "source": [
    "\n"
   ]
  },
  {
   "cell_type": "code",
   "execution_count": 259,
   "metadata": {},
   "outputs": [
    {
     "data": {
      "text/plain": [
       "<AxesSubplot:xlabel='count_genres'>"
      ]
     },
     "execution_count": 259,
     "metadata": {},
     "output_type": "execute_result"
    },
    {
     "data": {
      "image/png": "[encoded data removed]",
      "text/plain": [
       "<Figure size 432x288 with 1 Axes>"
      ]
     },
     "metadata": {
      "needs_background": "light"
     },
     "output_type": "display_data"
    }
   ],
   "source": [
    "data.groupby('count_genres')['vote_average'].max().plot(kind='bar')"
   ]
  },
  {
   "cell_type": "code",
   "execution_count": 270,
   "metadata": {},
   "outputs": [
    {
     "data": {
      "image/png": "[encoded data removed]",
      "text/plain": [
       "<Figure size 720x576 with 1 Axes>"
      ]
     },
     "metadata": {
      "needs_background": "light"
     },
     "output_type": "display_data"
    }
   ],
   "source": [
    "plt.figure(figsize=(10,8))\n",
    "data.groupby('count_company')['vote_average'].max().plot(kind='bar')\n",
    "plt.show()"
   ]
  },
  {
   "cell_type": "code",
   "execution_count": 271,
   "metadata": {},
   "outputs": [
    {
     "data": {
      "text/plain": [
       "<AxesSubplot:xlabel='count_spoken'>"
      ]
     },
     "execution_count": 271,
     "metadata": {},
     "output_type": "execute_result"
    },
    {
     "data": {
      "image/png": "[encoded data removed]",
      "text/plain": [
       "<Figure size 720x576 with 1 Axes>"
      ]
     },
     "metadata": {
      "needs_background": "light"
     },
     "output_type": "display_data"
    }
   ],
   "source": [
    "plt.figure(figsize=(10,8))\n",
    "data.groupby('count_spoken')['vote_average'].max().plot(kind='bar')"
   ]
  },
  {
   "cell_type": "code",
   "execution_count": 281,
   "metadata": {},
   "outputs": [
    {
     "data": {
      "text/plain": [
       "<AxesSubplot:xlabel='count_country'>"
      ]
     },
     "execution_count": 281,
     "metadata": {},
     "output_type": "execute_result"
    },
    {
     "data": {
      "image/png": "[encoded data removed]",
      "text/plain": [
       "<Figure size 720x576 with 1 Axes>"
      ]
     },
     "metadata": {
      "needs_background": "light"
     },
     "output_type": "display_data"
    }
   ],
   "source": [
    "plt.figure(figsize=(10,8))\n",
    "data.groupby('count_country')['vote_average'].max().plot(kind='bar')"
   ]
  },
  {
   "cell_type": "markdown",
   "metadata": {},
   "source": [
    "# TOP 10 RELEASE YEAR WITH VOTE AVERAGE"
   ]
  },
  {
   "cell_type": "code",
   "execution_count": 282,
   "metadata": {},
   "outputs": [
    {
     "data": {
      "text/plain": [
       "<seaborn.axisgrid.FacetGrid at 0x17370e608b0>"
      ]
     },
     "execution_count": 282,
     "metadata": {},
     "output_type": "execute_result"
    },
    {
     "data": {
      "image/png": "[encoded data removed]",
      "text/plain": [
       "<Figure size 1440x576 with 1 Axes>"
      ]
     },
     "metadata": {
      "needs_background": "light"
     },
     "output_type": "display_data"
    }
   ],
   "source": [
    "plt.figure(figsize=(20,8))\n",
    "data.groupby('release_year')['vote_average'].mean().sort_values(ascending=False).head(10).plot(kind='bar')\n",
    "chart.set_xticklabels(rotation=90)\n"
   ]
  },
  {
   "cell_type": "markdown",
   "metadata": {},
   "source": [
    "# last 10 RELEASE YEAR WITH VOTE AVERAGE"
   ]
  },
  {
   "cell_type": "code",
   "execution_count": 283,
   "metadata": {},
   "outputs": [
    {
     "data": {
      "text/plain": [
       "<seaborn.axisgrid.FacetGrid at 0x17370e608b0>"
      ]
     },
     "execution_count": 283,
     "metadata": {},
     "output_type": "execute_result"
    },
    {
     "data": {
      "image/png": "[encoded data removed]",
      "text/plain": [
       "<Figure size 1440x576 with 1 Axes>"
      ]
     },
     "metadata": {
      "needs_background": "light"
     },
     "output_type": "display_data"
    }
   ],
   "source": [
    "plt.figure(figsize=(20,8))\n",
    "data.groupby('release_year')['vote_average'].max().sort_values(ascending=True).head(10).plot(kind='bar')\n",
    "chart.set_xticklabels(rotation=90)\n"
   ]
  },
  {
   "cell_type": "code",
   "execution_count": 62,
   "metadata": {},
   "outputs": [
    {
     "data": {
      "text/plain": [
       "Index(['budget', 'genres', 'original_language', 'original_title', 'overview',\n",
       "       'popularity', 'production_companies', 'production_countries', 'revenue',\n",
       "       'runtime', 'spoken_languages', 'status', 'title', 'video',\n",
       "       'vote_average', 'vote_count', 'release_year', 'release_month',\n",
       "       'release_day', 'count_genres', 'count_company', 'count_spoken',\n",
       "       'count_country'],\n",
       "      dtype='object')"
      ]
     },
     "execution_count": 62,
     "metadata": {},
     "output_type": "execute_result"
    }
   ],
   "source": [
    "data.columns"
   ]
  },
  {
   "cell_type": "code",
   "execution_count": null,
   "metadata": {},
   "outputs": [],
   "source": []
  },
  {
   "cell_type": "code",
   "execution_count": null,
   "metadata": {},
   "outputs": [],
   "source": []
  },
  {
   "cell_type": "code",
   "execution_count": 141,
   "metadata": {},
   "outputs": [
    {
     "data": {
      "text/html": [
       "<div>\n",
       "<style scoped>\n",
       "    .dataframe tbody tr th:only-of-type {\n",
       "        vertical-align: middle;\n",
       "    }\n",
       "\n",
       "    .dataframe tbody tr th {\n",
       "        vertical-align: top;\n",
       "    }\n",
       "\n",
       "    .dataframe thead th {\n",
       "        text-align: right;\n",
       "    }\n",
       "</style>\n",
       "<table border=\"1\" class=\"dataframe\">\n",
       "  <thead>\n",
       "    <tr style=\"text-align: right;\">\n",
       "      <th></th>\n",
       "      <th>title</th>\n",
       "      <th>release_year</th>\n",
       "      <th>vote_count</th>\n",
       "    </tr>\n",
       "  </thead>\n",
       "  <tbody>\n",
       "    <tr>\n",
       "      <th>16432</th>\n",
       "      <td>Inception</td>\n",
       "      <td>2010.0</td>\n",
       "      <td>29038.0</td>\n",
       "    </tr>\n",
       "    <tr>\n",
       "      <th>100729</th>\n",
       "      <td>Interstellar</td>\n",
       "      <td>2014.0</td>\n",
       "      <td>25765.0</td>\n",
       "    </tr>\n",
       "    <tr>\n",
       "      <th>119</th>\n",
       "      <td>The Dark Knight</td>\n",
       "      <td>2008.0</td>\n",
       "      <td>25065.0</td>\n",
       "    </tr>\n",
       "    <tr>\n",
       "      <th>186128</th>\n",
       "      <td>Deadpool</td>\n",
       "      <td>2016.0</td>\n",
       "      <td>24864.0</td>\n",
       "    </tr>\n",
       "    <tr>\n",
       "      <th>14499</th>\n",
       "      <td>The Avengers</td>\n",
       "      <td>2012.0</td>\n",
       "      <td>24656.0</td>\n",
       "    </tr>\n",
       "    <tr>\n",
       "      <th>12109</th>\n",
       "      <td>Avatar</td>\n",
       "      <td>2009.0</td>\n",
       "      <td>23364.0</td>\n",
       "    </tr>\n",
       "    <tr>\n",
       "      <th>81090</th>\n",
       "      <td>Guardians of the Galaxy</td>\n",
       "      <td>2014.0</td>\n",
       "      <td>22458.0</td>\n",
       "    </tr>\n",
       "    <tr>\n",
       "      <th>191314</th>\n",
       "      <td>Avengers: Infinity War</td>\n",
       "      <td>2018.0</td>\n",
       "      <td>21756.0</td>\n",
       "    </tr>\n",
       "    <tr>\n",
       "      <th>431</th>\n",
       "      <td>Fight Club</td>\n",
       "      <td>1999.0</td>\n",
       "      <td>21702.0</td>\n",
       "    </tr>\n",
       "    <tr>\n",
       "      <th>553</th>\n",
       "      <td>Pulp Fiction</td>\n",
       "      <td>1994.0</td>\n",
       "      <td>21077.0</td>\n",
       "    </tr>\n",
       "  </tbody>\n",
       "</table>\n",
       "</div>"
      ],
      "text/plain": [
       "                          title  release_year  vote_count\n",
       "16432                 Inception        2010.0     29038.0\n",
       "100729             Interstellar        2014.0     25765.0\n",
       "119             The Dark Knight        2008.0     25065.0\n",
       "186128                 Deadpool        2016.0     24864.0\n",
       "14499              The Avengers        2012.0     24656.0\n",
       "12109                    Avatar        2009.0     23364.0\n",
       "81090   Guardians of the Galaxy        2014.0     22458.0\n",
       "191314   Avengers: Infinity War        2018.0     21756.0\n",
       "431                  Fight Club        1999.0     21702.0\n",
       "553                Pulp Fiction        1994.0     21077.0"
      ]
     },
     "execution_count": 141,
     "metadata": {},
     "output_type": "execute_result"
    }
   ],
   "source": [
    " # Sorting out the title, vote_average and year to check the movies with highest vote_count ever\n",
    "data[['title', 'release_year','vote_count']].sort_values('vote_count', ascending=False).head(10)"
   ]
  },
  {
   "cell_type": "code",
   "execution_count": 142,
   "metadata": {},
   "outputs": [],
   "source": [
    "# in 2010 has more  vote count as 29038"
   ]
  },
  {
   "cell_type": "code",
   "execution_count": 143,
   "metadata": {},
   "outputs": [],
   "source": [
    "top_vote_count=data[['title', 'release_year','vote_count']].sort_values('vote_count', ascending=False).head(10)"
   ]
  },
  {
   "cell_type": "code",
   "execution_count": 245,
   "metadata": {},
   "outputs": [
    {
     "data": {
      "image/png": "[encoded data removed]",
      "text/plain": [
       "<Figure size 1080x576 with 1 Axes>"
      ]
     },
     "metadata": {
      "needs_background": "light"
     },
     "output_type": "display_data"
    }
   ],
   "source": [
    "plt.figure(figsize=(15,8))\n",
    "sns.barplot(data=top_vote_count,x='release_year',y='vote_count')\n",
    "plt.show()"
   ]
  },
  {
   "cell_type": "code",
   "execution_count": 94,
   "metadata": {},
   "outputs": [
    {
     "data": {
      "text/plain": [
       "<AxesSubplot:xlabel='release_year'>"
      ]
     },
     "execution_count": 94,
     "metadata": {},
     "output_type": "execute_result"
    },
    {
     "data": {
      "image/png": "[encoded data removed]",
      "text/plain": [
       "<Figure size 432x288 with 1 Axes>"
      ]
     },
     "metadata": {
      "needs_background": "light"
     },
     "output_type": "display_data"
    }
   ],
   "source": [
    "data.groupby('release_year')['vote_count'].count().sort_values(ascending=False).head(10).plot(kind='bar')"
   ]
  },
  {
   "cell_type": "code",
   "execution_count": null,
   "metadata": {},
   "outputs": [],
   "source": []
  },
  {
   "cell_type": "code",
   "execution_count": 186,
   "metadata": {},
   "outputs": [],
   "source": [
    "most_popular_movies= data[['title', 'vote_count', 'release_year','vote_average']].sort_values('vote_count', ascending=False)\n"
   ]
  },
  {
   "cell_type": "code",
   "execution_count": 187,
   "metadata": {},
   "outputs": [],
   "source": [
    "# Storing only the movies with a very high vote_average \n",
    "most_popular_movies= most_popular_movies[most_popular_movies['vote_average']>=9].head(20)"
   ]
  },
  {
   "cell_type": "code",
   "execution_count": 188,
   "metadata": {},
   "outputs": [
    {
     "data": {
      "text/html": [
       "<div>\n",
       "<style scoped>\n",
       "    .dataframe tbody tr th:only-of-type {\n",
       "        vertical-align: middle;\n",
       "    }\n",
       "\n",
       "    .dataframe tbody tr th {\n",
       "        vertical-align: top;\n",
       "    }\n",
       "\n",
       "    .dataframe thead th {\n",
       "        text-align: right;\n",
       "    }\n",
       "</style>\n",
       "<table border=\"1\" class=\"dataframe\">\n",
       "  <thead>\n",
       "    <tr style=\"text-align: right;\">\n",
       "      <th></th>\n",
       "      <th>title</th>\n",
       "      <th>vote_count</th>\n",
       "      <th>release_year</th>\n",
       "      <th>vote_average</th>\n",
       "    </tr>\n",
       "  </thead>\n",
       "  <tbody>\n",
       "    <tr>\n",
       "      <th>425951</th>\n",
       "      <td>BTS World Tour: Love Yourself in Seoul</td>\n",
       "      <td>284.0</td>\n",
       "      <td>2019.0</td>\n",
       "      <td>9.0</td>\n",
       "    </tr>\n",
       "    <tr>\n",
       "      <th>412927</th>\n",
       "      <td>Burn the Stage: The Movie</td>\n",
       "      <td>280.0</td>\n",
       "      <td>2018.0</td>\n",
       "      <td>9.3</td>\n",
       "    </tr>\n",
       "    <tr>\n",
       "      <th>463810</th>\n",
       "      <td>Bring the Soul: The Movie</td>\n",
       "      <td>253.0</td>\n",
       "      <td>2019.0</td>\n",
       "      <td>9.2</td>\n",
       "    </tr>\n",
       "    <tr>\n",
       "      <th>512203</th>\n",
       "      <td>BTS World Tour: Love Yourself - Japan Edition</td>\n",
       "      <td>229.0</td>\n",
       "      <td>2019.0</td>\n",
       "      <td>9.2</td>\n",
       "    </tr>\n",
       "    <tr>\n",
       "      <th>587790</th>\n",
       "      <td>The Three Deaths of Marisela Escobedo</td>\n",
       "      <td>159.0</td>\n",
       "      <td>2020.0</td>\n",
       "      <td>9.0</td>\n",
       "    </tr>\n",
       "    <tr>\n",
       "      <th>248955</th>\n",
       "      <td>The Godfather Trilogy: 1901-1980</td>\n",
       "      <td>102.0</td>\n",
       "      <td>1992.0</td>\n",
       "      <td>9.1</td>\n",
       "    </tr>\n",
       "    <tr>\n",
       "      <th>42785</th>\n",
       "      <td>The Moomin Characters</td>\n",
       "      <td>87.0</td>\n",
       "      <td>1990.0</td>\n",
       "      <td>9.0</td>\n",
       "    </tr>\n",
       "    <tr>\n",
       "      <th>391443</th>\n",
       "      <td>Franco Escamilla: Por La Anécdota</td>\n",
       "      <td>78.0</td>\n",
       "      <td>2018.0</td>\n",
       "      <td>9.2</td>\n",
       "    </tr>\n",
       "    <tr>\n",
       "      <th>568278</th>\n",
       "      <td>Break the Silence: The Movie</td>\n",
       "      <td>78.0</td>\n",
       "      <td>2020.0</td>\n",
       "      <td>9.1</td>\n",
       "    </tr>\n",
       "    <tr>\n",
       "      <th>518500</th>\n",
       "      <td>EXO PLANET #2 The EXO'luxion in Japan</td>\n",
       "      <td>63.0</td>\n",
       "      <td>2016.0</td>\n",
       "      <td>9.1</td>\n",
       "    </tr>\n",
       "    <tr>\n",
       "      <th>619902</th>\n",
       "      <td>WWE Royal Rumble 2021</td>\n",
       "      <td>58.0</td>\n",
       "      <td>2021.0</td>\n",
       "      <td>9.1</td>\n",
       "    </tr>\n",
       "    <tr>\n",
       "      <th>446007</th>\n",
       "      <td>My First Client</td>\n",
       "      <td>48.0</td>\n",
       "      <td>2019.0</td>\n",
       "      <td>9.2</td>\n",
       "    </tr>\n",
       "    <tr>\n",
       "      <th>601609</th>\n",
       "      <td>Dua Lipa: Studio 2054</td>\n",
       "      <td>44.0</td>\n",
       "      <td>2020.0</td>\n",
       "      <td>9.4</td>\n",
       "    </tr>\n",
       "    <tr>\n",
       "      <th>96572</th>\n",
       "      <td>Natale in casa Cupiello</td>\n",
       "      <td>40.0</td>\n",
       "      <td>1962.0</td>\n",
       "      <td>9.1</td>\n",
       "    </tr>\n",
       "    <tr>\n",
       "      <th>487252</th>\n",
       "      <td>Square One</td>\n",
       "      <td>39.0</td>\n",
       "      <td>2019.0</td>\n",
       "      <td>9.0</td>\n",
       "    </tr>\n",
       "    <tr>\n",
       "      <th>256565</th>\n",
       "      <td>El Cementerio de los Elefantes</td>\n",
       "      <td>34.0</td>\n",
       "      <td>2009.0</td>\n",
       "      <td>9.2</td>\n",
       "    </tr>\n",
       "    <tr>\n",
       "      <th>342190</th>\n",
       "      <td>Dominion</td>\n",
       "      <td>32.0</td>\n",
       "      <td>2018.0</td>\n",
       "      <td>9.1</td>\n",
       "    </tr>\n",
       "    <tr>\n",
       "      <th>354328</th>\n",
       "      <td>Natale in casa Cupiello</td>\n",
       "      <td>32.0</td>\n",
       "      <td>1977.0</td>\n",
       "      <td>9.0</td>\n",
       "    </tr>\n",
       "    <tr>\n",
       "      <th>91897</th>\n",
       "      <td>Fatal Mission</td>\n",
       "      <td>32.0</td>\n",
       "      <td>1990.0</td>\n",
       "      <td>9.5</td>\n",
       "    </tr>\n",
       "    <tr>\n",
       "      <th>361237</th>\n",
       "      <td>Linkin Park &amp; Friends - LIVE From The Hollywoo...</td>\n",
       "      <td>29.0</td>\n",
       "      <td>2017.0</td>\n",
       "      <td>9.7</td>\n",
       "    </tr>\n",
       "  </tbody>\n",
       "</table>\n",
       "</div>"
      ],
      "text/plain": [
       "                                                    title  vote_count  \\\n",
       "425951             BTS World Tour: Love Yourself in Seoul       284.0   \n",
       "412927                          Burn the Stage: The Movie       280.0   \n",
       "463810                          Bring the Soul: The Movie       253.0   \n",
       "512203      BTS World Tour: Love Yourself - Japan Edition       229.0   \n",
       "587790              The Three Deaths of Marisela Escobedo       159.0   \n",
       "248955                   The Godfather Trilogy: 1901-1980       102.0   \n",
       "42785                               The Moomin Characters        87.0   \n",
       "391443                  Franco Escamilla: Por La Anécdota        78.0   \n",
       "568278                       Break the Silence: The Movie        78.0   \n",
       "518500              EXO PLANET #2 The EXO'luxion in Japan        63.0   \n",
       "619902                              WWE Royal Rumble 2021        58.0   \n",
       "446007                                    My First Client        48.0   \n",
       "601609                              Dua Lipa: Studio 2054        44.0   \n",
       "96572                             Natale in casa Cupiello        40.0   \n",
       "487252                                         Square One        39.0   \n",
       "256565                     El Cementerio de los Elefantes        34.0   \n",
       "342190                                           Dominion        32.0   \n",
       "354328                            Natale in casa Cupiello        32.0   \n",
       "91897                                       Fatal Mission        32.0   \n",
       "361237  Linkin Park & Friends - LIVE From The Hollywoo...        29.0   \n",
       "\n",
       "        release_year  vote_average  \n",
       "425951        2019.0           9.0  \n",
       "412927        2018.0           9.3  \n",
       "463810        2019.0           9.2  \n",
       "512203        2019.0           9.2  \n",
       "587790        2020.0           9.0  \n",
       "248955        1992.0           9.1  \n",
       "42785         1990.0           9.0  \n",
       "391443        2018.0           9.2  \n",
       "568278        2020.0           9.1  \n",
       "518500        2016.0           9.1  \n",
       "619902        2021.0           9.1  \n",
       "446007        2019.0           9.2  \n",
       "601609        2020.0           9.4  \n",
       "96572         1962.0           9.1  \n",
       "487252        2019.0           9.0  \n",
       "256565        2009.0           9.2  \n",
       "342190        2018.0           9.1  \n",
       "354328        1977.0           9.0  \n",
       "91897         1990.0           9.5  \n",
       "361237        2017.0           9.7  "
      ]
     },
     "execution_count": 188,
     "metadata": {},
     "output_type": "execute_result"
    }
   ],
   "source": [
    "most_popular_movies"
   ]
  },
  {
   "cell_type": "code",
   "execution_count": 189,
   "metadata": {},
   "outputs": [
    {
     "data": {
      "image/png": "[encoded data removed]",
      "text/plain": [
       "<Figure size 1440x864 with 1 Axes>"
      ]
     },
     "metadata": {
      "needs_background": "light"
     },
     "output_type": "display_data"
    }
   ],
   "source": [
    "chart = sns.catplot(x=\"release_year\", data=most_popular_movies, kind=\"count\")\n",
    "chart.set_xticklabels(rotation=90)\n",
    "\n",
    "plt.gcf().set_size_inches(20, 12)\n"
   ]
  },
  {
   "cell_type": "code",
   "execution_count": null,
   "metadata": {},
   "outputs": [],
   "source": []
  },
  {
   "cell_type": "markdown",
   "metadata": {},
   "source": [
    "# Analysis of vote_average of movies"
   ]
  },
  {
   "cell_type": "code",
   "execution_count": 150,
   "metadata": {},
   "outputs": [
    {
     "data": {
      "text/html": [
       "<div>\n",
       "<style scoped>\n",
       "    .dataframe tbody tr th:only-of-type {\n",
       "        vertical-align: middle;\n",
       "    }\n",
       "\n",
       "    .dataframe tbody tr th {\n",
       "        vertical-align: top;\n",
       "    }\n",
       "\n",
       "    .dataframe thead th {\n",
       "        text-align: right;\n",
       "    }\n",
       "</style>\n",
       "<table border=\"1\" class=\"dataframe\">\n",
       "  <thead>\n",
       "    <tr style=\"text-align: right;\">\n",
       "      <th></th>\n",
       "      <th>title</th>\n",
       "      <th>vote_average</th>\n",
       "      <th>vote_count</th>\n",
       "      <th>release_year</th>\n",
       "    </tr>\n",
       "  </thead>\n",
       "  <tbody>\n",
       "    <tr>\n",
       "      <th>652630</th>\n",
       "      <td>Memórias do não saber</td>\n",
       "      <td>10.0</td>\n",
       "      <td>5.0</td>\n",
       "      <td>NaN</td>\n",
       "    </tr>\n",
       "    <tr>\n",
       "      <th>227733</th>\n",
       "      <td>American Rescue Squad</td>\n",
       "      <td>10.0</td>\n",
       "      <td>6.0</td>\n",
       "      <td>2015.0</td>\n",
       "    </tr>\n",
       "    <tr>\n",
       "      <th>214639</th>\n",
       "      <td>Corinthians - E o Mundo Enlouqueceu</td>\n",
       "      <td>10.0</td>\n",
       "      <td>5.0</td>\n",
       "      <td>2013.0</td>\n",
       "    </tr>\n",
       "    <tr>\n",
       "      <th>511113</th>\n",
       "      <td>GAMERA</td>\n",
       "      <td>10.0</td>\n",
       "      <td>12.0</td>\n",
       "      <td>2015.0</td>\n",
       "    </tr>\n",
       "    <tr>\n",
       "      <th>192031</th>\n",
       "      <td>Under Wraps</td>\n",
       "      <td>10.0</td>\n",
       "      <td>5.0</td>\n",
       "      <td>2014.0</td>\n",
       "    </tr>\n",
       "    <tr>\n",
       "      <th>590070</th>\n",
       "      <td>LPDM by Nawal Kaffouf</td>\n",
       "      <td>10.0</td>\n",
       "      <td>8.0</td>\n",
       "      <td>2019.0</td>\n",
       "    </tr>\n",
       "    <tr>\n",
       "      <th>183492</th>\n",
       "      <td>Hunting Buddies</td>\n",
       "      <td>10.0</td>\n",
       "      <td>7.0</td>\n",
       "      <td>2009.0</td>\n",
       "    </tr>\n",
       "    <tr>\n",
       "      <th>587715</th>\n",
       "      <td>Coming Out</td>\n",
       "      <td>10.0</td>\n",
       "      <td>6.0</td>\n",
       "      <td>2020.0</td>\n",
       "    </tr>\n",
       "    <tr>\n",
       "      <th>446962</th>\n",
       "      <td>The Evil Marriage</td>\n",
       "      <td>10.0</td>\n",
       "      <td>7.0</td>\n",
       "      <td>2019.0</td>\n",
       "    </tr>\n",
       "    <tr>\n",
       "      <th>446981</th>\n",
       "      <td>Dajjal the Slayer and His Followers</td>\n",
       "      <td>10.0</td>\n",
       "      <td>8.0</td>\n",
       "      <td>2019.0</td>\n",
       "    </tr>\n",
       "  </tbody>\n",
       "</table>\n",
       "</div>"
      ],
      "text/plain": [
       "                                      title  vote_average  vote_count  \\\n",
       "652630                Memórias do não saber          10.0         5.0   \n",
       "227733                American Rescue Squad          10.0         6.0   \n",
       "214639  Corinthians - E o Mundo Enlouqueceu          10.0         5.0   \n",
       "511113                               GAMERA          10.0        12.0   \n",
       "192031                          Under Wraps          10.0         5.0   \n",
       "590070                LPDM by Nawal Kaffouf          10.0         8.0   \n",
       "183492                      Hunting Buddies          10.0         7.0   \n",
       "587715                           Coming Out          10.0         6.0   \n",
       "446962                    The Evil Marriage          10.0         7.0   \n",
       "446981  Dajjal the Slayer and His Followers          10.0         8.0   \n",
       "\n",
       "        release_year  \n",
       "652630           NaN  \n",
       "227733        2015.0  \n",
       "214639        2013.0  \n",
       "511113        2015.0  \n",
       "192031        2014.0  \n",
       "590070        2019.0  \n",
       "183492        2009.0  \n",
       "587715        2020.0  \n",
       "446962        2019.0  \n",
       "446981        2019.0  "
      ]
     },
     "execution_count": 150,
     "metadata": {},
     "output_type": "execute_result"
    }
   ],
   "source": [
    "# Extracting and printing the sorted sub-dataset of title, vote_average, vote_count and year of the movies for which vote_count is greater than 4\n",
    "data[data['vote_count']>4][['title', 'vote_average', 'vote_count' ,'release_year']].sort_values('vote_average', ascending=False).head(10)"
   ]
  },
  {
   "cell_type": "code",
   "execution_count": null,
   "metadata": {},
   "outputs": [],
   "source": []
  },
  {
   "cell_type": "code",
   "execution_count": 154,
   "metadata": {},
   "outputs": [
    {
     "data": {
      "text/plain": [
       "<AxesSubplot:xlabel='vote_average', ylabel='popularity'>"
      ]
     },
     "execution_count": 154,
     "metadata": {},
     "output_type": "execute_result"
    },
    {
     "data": {
      "image/png": "[encoded data removed]",
      "text/plain": [
       "<Figure size 432x288 with 1 Axes>"
      ]
     },
     "metadata": {
      "needs_background": "light"
     },
     "output_type": "display_data"
    }
   ],
   "source": [
    "sns.scatterplot(y='popularity', x='vote_average', data=data)"
   ]
  },
  {
   "cell_type": "markdown",
   "metadata": {},
   "source": [
    "Observations:\n",
    "Some corelation between vote_average and popularity is observed.\n",
    "The movies that have high vote_average doesn't necessarily have to be highly popular.\n",
    "There are outliers present, although not too many.\n",
    "The relation is mostly linear."
   ]
  },
  {
   "cell_type": "code",
   "execution_count": 191,
   "metadata": {},
   "outputs": [
    {
     "data": {
      "text/html": [
       "<div>\n",
       "<style scoped>\n",
       "    .dataframe tbody tr th:only-of-type {\n",
       "        vertical-align: middle;\n",
       "    }\n",
       "\n",
       "    .dataframe tbody tr th {\n",
       "        vertical-align: top;\n",
       "    }\n",
       "\n",
       "    .dataframe thead th {\n",
       "        text-align: right;\n",
       "    }\n",
       "</style>\n",
       "<table border=\"1\" class=\"dataframe\">\n",
       "  <thead>\n",
       "    <tr style=\"text-align: right;\">\n",
       "      <th></th>\n",
       "      <th>0</th>\n",
       "      <th>1</th>\n",
       "      <th>2</th>\n",
       "      <th>3</th>\n",
       "      <th>4</th>\n",
       "    </tr>\n",
       "  </thead>\n",
       "  <tbody>\n",
       "    <tr>\n",
       "      <th>budget</th>\n",
       "      <td>0</td>\n",
       "      <td>0</td>\n",
       "      <td>4000000</td>\n",
       "      <td>21000000</td>\n",
       "      <td>42000</td>\n",
       "    </tr>\n",
       "    <tr>\n",
       "      <th>genres</th>\n",
       "      <td>[Drama, Crime, Comedy]</td>\n",
       "      <td>[Drama, Comedy]</td>\n",
       "      <td>[Crime, Comedy]</td>\n",
       "      <td>[Action, Thriller, Crime]</td>\n",
       "      <td>[Documentary]</td>\n",
       "    </tr>\n",
       "    <tr>\n",
       "      <th>original_language</th>\n",
       "      <td>fi</td>\n",
       "      <td>fi</td>\n",
       "      <td>en</td>\n",
       "      <td>en</td>\n",
       "      <td>en</td>\n",
       "    </tr>\n",
       "    <tr>\n",
       "      <th>original_title</th>\n",
       "      <td>Ariel</td>\n",
       "      <td>Varjoja paratiisissa</td>\n",
       "      <td>Four Rooms</td>\n",
       "      <td>Judgment Night</td>\n",
       "      <td>Life in Loops (A Megacities RMX)</td>\n",
       "    </tr>\n",
       "    <tr>\n",
       "      <th>overview</th>\n",
       "      <td>Taisto Kasurinen is a Finnish coal miner whose...</td>\n",
       "      <td>An episode in the life of Nikander, a garbage ...</td>\n",
       "      <td>It's Ted the Bellhop's first night on the job....</td>\n",
       "      <td>While racing to a boxing match, Frank, Mike, J...</td>\n",
       "      <td>Timo Novotny labels his new project an experim...</td>\n",
       "    </tr>\n",
       "    <tr>\n",
       "      <th>popularity</th>\n",
       "      <td>6.65</td>\n",
       "      <td>6.2</td>\n",
       "      <td>8.3</td>\n",
       "      <td>6.94</td>\n",
       "      <td>1.65</td>\n",
       "    </tr>\n",
       "    <tr>\n",
       "      <th>production_companies</th>\n",
       "      <td>[Villealfa Filmproductions]</td>\n",
       "      <td>[Villealfa Filmproductions]</td>\n",
       "      <td>[Miramax, A Band Apart]</td>\n",
       "      <td>[Universal Pictures, Largo Entertainment, JVC]</td>\n",
       "      <td>[inLoops]</td>\n",
       "    </tr>\n",
       "    <tr>\n",
       "      <th>production_countries</th>\n",
       "      <td>[Finland]</td>\n",
       "      <td>[Finland]</td>\n",
       "      <td>[United States of America]</td>\n",
       "      <td>[Japan, United States of America]</td>\n",
       "      <td>[Austria]</td>\n",
       "    </tr>\n",
       "    <tr>\n",
       "      <th>revenue</th>\n",
       "      <td>0</td>\n",
       "      <td>0</td>\n",
       "      <td>4.25735e+06</td>\n",
       "      <td>1.21369e+07</td>\n",
       "      <td>0</td>\n",
       "    </tr>\n",
       "    <tr>\n",
       "      <th>runtime</th>\n",
       "      <td>73</td>\n",
       "      <td>74</td>\n",
       "      <td>98</td>\n",
       "      <td>110</td>\n",
       "      <td>80</td>\n",
       "    </tr>\n",
       "    <tr>\n",
       "      <th>spoken_languages</th>\n",
       "      <td>[Deutsch, suomi]</td>\n",
       "      <td>[English, svenska, suomi]</td>\n",
       "      <td>[English]</td>\n",
       "      <td>[English]</td>\n",
       "      <td>[English, हिन्दी, 日本語, Pусский, Español]</td>\n",
       "    </tr>\n",
       "    <tr>\n",
       "      <th>status</th>\n",
       "      <td>Released</td>\n",
       "      <td>Released</td>\n",
       "      <td>Released</td>\n",
       "      <td>Released</td>\n",
       "      <td>Released</td>\n",
       "    </tr>\n",
       "    <tr>\n",
       "      <th>title</th>\n",
       "      <td>Ariel</td>\n",
       "      <td>Shadows in Paradise</td>\n",
       "      <td>Four Rooms</td>\n",
       "      <td>Judgment Night</td>\n",
       "      <td>Life in Loops (A Megacities RMX)</td>\n",
       "    </tr>\n",
       "    <tr>\n",
       "      <th>video</th>\n",
       "      <td>False</td>\n",
       "      <td>False</td>\n",
       "      <td>False</td>\n",
       "      <td>False</td>\n",
       "      <td>False</td>\n",
       "    </tr>\n",
       "    <tr>\n",
       "      <th>vote_average</th>\n",
       "      <td>6.8</td>\n",
       "      <td>7.2</td>\n",
       "      <td>5.7</td>\n",
       "      <td>6.4</td>\n",
       "      <td>7.4</td>\n",
       "    </tr>\n",
       "    <tr>\n",
       "      <th>vote_count</th>\n",
       "      <td>134</td>\n",
       "      <td>132</td>\n",
       "      <td>1936</td>\n",
       "      <td>191</td>\n",
       "      <td>14</td>\n",
       "    </tr>\n",
       "    <tr>\n",
       "      <th>release_year</th>\n",
       "      <td>1988</td>\n",
       "      <td>1986</td>\n",
       "      <td>1995</td>\n",
       "      <td>1993</td>\n",
       "      <td>2006</td>\n",
       "    </tr>\n",
       "    <tr>\n",
       "      <th>release_month</th>\n",
       "      <td>10</td>\n",
       "      <td>10</td>\n",
       "      <td>9</td>\n",
       "      <td>10</td>\n",
       "      <td>1</td>\n",
       "    </tr>\n",
       "    <tr>\n",
       "      <th>release_day</th>\n",
       "      <td>21</td>\n",
       "      <td>17</td>\n",
       "      <td>12</td>\n",
       "      <td>15</td>\n",
       "      <td>1</td>\n",
       "    </tr>\n",
       "    <tr>\n",
       "      <th>count_genres</th>\n",
       "      <td>3</td>\n",
       "      <td>2</td>\n",
       "      <td>2</td>\n",
       "      <td>3</td>\n",
       "      <td>1</td>\n",
       "    </tr>\n",
       "    <tr>\n",
       "      <th>count_company</th>\n",
       "      <td>1</td>\n",
       "      <td>1</td>\n",
       "      <td>2</td>\n",
       "      <td>3</td>\n",
       "      <td>1</td>\n",
       "    </tr>\n",
       "    <tr>\n",
       "      <th>count_spoken</th>\n",
       "      <td>2</td>\n",
       "      <td>3</td>\n",
       "      <td>1</td>\n",
       "      <td>1</td>\n",
       "      <td>5</td>\n",
       "    </tr>\n",
       "    <tr>\n",
       "      <th>count_country</th>\n",
       "      <td>1</td>\n",
       "      <td>1</td>\n",
       "      <td>1</td>\n",
       "      <td>2</td>\n",
       "      <td>1</td>\n",
       "    </tr>\n",
       "  </tbody>\n",
       "</table>\n",
       "</div>"
      ],
      "text/plain": [
       "                                                                      0  \\\n",
       "budget                                                                0   \n",
       "genres                                           [Drama, Crime, Comedy]   \n",
       "original_language                                                    fi   \n",
       "original_title                                                    Ariel   \n",
       "overview              Taisto Kasurinen is a Finnish coal miner whose...   \n",
       "popularity                                                         6.65   \n",
       "production_companies                        [Villealfa Filmproductions]   \n",
       "production_countries                                          [Finland]   \n",
       "revenue                                                               0   \n",
       "runtime                                                              73   \n",
       "spoken_languages                                       [Deutsch, suomi]   \n",
       "status                                                         Released   \n",
       "title                                                             Ariel   \n",
       "video                                                             False   \n",
       "vote_average                                                        6.8   \n",
       "vote_count                                                          134   \n",
       "release_year                                                       1988   \n",
       "release_month                                                        10   \n",
       "release_day                                                          21   \n",
       "count_genres                                                          3   \n",
       "count_company                                                         1   \n",
       "count_spoken                                                          2   \n",
       "count_country                                                         1   \n",
       "\n",
       "                                                                      1  \\\n",
       "budget                                                                0   \n",
       "genres                                                  [Drama, Comedy]   \n",
       "original_language                                                    fi   \n",
       "original_title                                     Varjoja paratiisissa   \n",
       "overview              An episode in the life of Nikander, a garbage ...   \n",
       "popularity                                                          6.2   \n",
       "production_companies                        [Villealfa Filmproductions]   \n",
       "production_countries                                          [Finland]   \n",
       "revenue                                                               0   \n",
       "runtime                                                              74   \n",
       "spoken_languages                              [English, svenska, suomi]   \n",
       "status                                                         Released   \n",
       "title                                               Shadows in Paradise   \n",
       "video                                                             False   \n",
       "vote_average                                                        7.2   \n",
       "vote_count                                                          132   \n",
       "release_year                                                       1986   \n",
       "release_month                                                        10   \n",
       "release_day                                                          17   \n",
       "count_genres                                                          2   \n",
       "count_company                                                         1   \n",
       "count_spoken                                                          3   \n",
       "count_country                                                         1   \n",
       "\n",
       "                                                                      2  \\\n",
       "budget                                                          4000000   \n",
       "genres                                                  [Crime, Comedy]   \n",
       "original_language                                                    en   \n",
       "original_title                                               Four Rooms   \n",
       "overview              It's Ted the Bellhop's first night on the job....   \n",
       "popularity                                                          8.3   \n",
       "production_companies                            [Miramax, A Band Apart]   \n",
       "production_countries                         [United States of America]   \n",
       "revenue                                                     4.25735e+06   \n",
       "runtime                                                              98   \n",
       "spoken_languages                                              [English]   \n",
       "status                                                         Released   \n",
       "title                                                        Four Rooms   \n",
       "video                                                             False   \n",
       "vote_average                                                        5.7   \n",
       "vote_count                                                         1936   \n",
       "release_year                                                       1995   \n",
       "release_month                                                         9   \n",
       "release_day                                                          12   \n",
       "count_genres                                                          2   \n",
       "count_company                                                         2   \n",
       "count_spoken                                                          1   \n",
       "count_country                                                         1   \n",
       "\n",
       "                                                                      3  \\\n",
       "budget                                                         21000000   \n",
       "genres                                        [Action, Thriller, Crime]   \n",
       "original_language                                                    en   \n",
       "original_title                                           Judgment Night   \n",
       "overview              While racing to a boxing match, Frank, Mike, J...   \n",
       "popularity                                                         6.94   \n",
       "production_companies     [Universal Pictures, Largo Entertainment, JVC]   \n",
       "production_countries                  [Japan, United States of America]   \n",
       "revenue                                                     1.21369e+07   \n",
       "runtime                                                             110   \n",
       "spoken_languages                                              [English]   \n",
       "status                                                         Released   \n",
       "title                                                    Judgment Night   \n",
       "video                                                             False   \n",
       "vote_average                                                        6.4   \n",
       "vote_count                                                          191   \n",
       "release_year                                                       1993   \n",
       "release_month                                                        10   \n",
       "release_day                                                          15   \n",
       "count_genres                                                          3   \n",
       "count_company                                                         3   \n",
       "count_spoken                                                          1   \n",
       "count_country                                                         2   \n",
       "\n",
       "                                                                      4  \n",
       "budget                                                            42000  \n",
       "genres                                                    [Documentary]  \n",
       "original_language                                                    en  \n",
       "original_title                         Life in Loops (A Megacities RMX)  \n",
       "overview              Timo Novotny labels his new project an experim...  \n",
       "popularity                                                         1.65  \n",
       "production_companies                                          [inLoops]  \n",
       "production_countries                                          [Austria]  \n",
       "revenue                                                               0  \n",
       "runtime                                                              80  \n",
       "spoken_languages               [English, हिन्दी, 日本語, Pусский, Español]  \n",
       "status                                                         Released  \n",
       "title                                  Life in Loops (A Megacities RMX)  \n",
       "video                                                             False  \n",
       "vote_average                                                        7.4  \n",
       "vote_count                                                           14  \n",
       "release_year                                                       2006  \n",
       "release_month                                                         1  \n",
       "release_day                                                           1  \n",
       "count_genres                                                          1  \n",
       "count_company                                                         1  \n",
       "count_spoken                                                          5  \n",
       "count_country                                                         1  "
      ]
     },
     "execution_count": 191,
     "metadata": {},
     "output_type": "execute_result"
    }
   ],
   "source": [
    "data.head().T"
   ]
  },
  {
   "cell_type": "code",
   "execution_count": 195,
   "metadata": {},
   "outputs": [
    {
     "data": {
      "text/plain": [
       "title\n",
       "Blind Body                   10.0\n",
       "Men's Only Privilege         10.0\n",
       "Denounced                    10.0\n",
       "Denomination: Quietude       10.0\n",
       "Denomination: Dread          10.0\n",
       "                             ... \n",
       "Kavalaam Chundan              0.0\n",
       "Kavalai Illatha Manithan      0.0\n",
       "Tera Mera Tedha Medha         0.0\n",
       "Tera Melos: Misadventures     0.0\n",
       "ＢＡＤ女（ガール）                     0.0\n",
       "Name: vote_average, Length: 569137, dtype: float64"
      ]
     },
     "execution_count": 195,
     "metadata": {},
     "output_type": "execute_result"
    }
   ],
   "source": [
    "data.groupby('title')['vote_average'].max().sort_values(ascending=False)"
   ]
  },
  {
   "cell_type": "code",
   "execution_count": 203,
   "metadata": {},
   "outputs": [
    {
     "ename": "ValueError",
     "evalue": "The truth value of a Series is ambiguous. Use a.empty, a.bool(), a.item(), a.any() or a.all().",
     "output_type": "error",
     "traceback": [
      "\u001b[1;31m---------------------------------------------------------------------------\u001b[0m",
      "\u001b[1;31mValueError\u001b[0m                                Traceback (most recent call last)",
      "\u001b[1;32m<ipython-input-203-e1436a26856f>\u001b[0m in \u001b[0;36m<module>\u001b[1;34m\u001b[0m\n\u001b[1;32m----> 1\u001b[1;33m \u001b[0mdata\u001b[0m\u001b[1;33m[\u001b[0m\u001b[1;33m(\u001b[0m\u001b[1;33m(\u001b[0m\u001b[0mdata\u001b[0m\u001b[1;33m[\u001b[0m\u001b[1;34m'title'\u001b[0m\u001b[1;33m]\u001b[0m\u001b[1;33m)\u001b[0m \u001b[1;32mand\u001b[0m \u001b[1;33m(\u001b[0m\u001b[0mdata\u001b[0m\u001b[1;33m[\u001b[0m\u001b[1;34m'vote_average'\u001b[0m\u001b[1;33m]\u001b[0m\u001b[1;33m==\u001b[0m\u001b[1;36m10\u001b[0m\u001b[1;33m)\u001b[0m\u001b[1;33m)\u001b[0m\u001b[1;33m]\u001b[0m\u001b[1;33m\u001b[0m\u001b[1;33m\u001b[0m\u001b[0m\n\u001b[0m",
      "\u001b[1;32m~\\anaconda3\\lib\\site-packages\\pandas\\core\\generic.py\u001b[0m in \u001b[0;36m__nonzero__\u001b[1;34m(self)\u001b[0m\n\u001b[0;32m   1327\u001b[0m \u001b[1;33m\u001b[0m\u001b[0m\n\u001b[0;32m   1328\u001b[0m     \u001b[1;32mdef\u001b[0m \u001b[0m__nonzero__\u001b[0m\u001b[1;33m(\u001b[0m\u001b[0mself\u001b[0m\u001b[1;33m)\u001b[0m\u001b[1;33m:\u001b[0m\u001b[1;33m\u001b[0m\u001b[1;33m\u001b[0m\u001b[0m\n\u001b[1;32m-> 1329\u001b[1;33m         raise ValueError(\n\u001b[0m\u001b[0;32m   1330\u001b[0m             \u001b[1;34mf\"The truth value of a {type(self).__name__} is ambiguous. \"\u001b[0m\u001b[1;33m\u001b[0m\u001b[1;33m\u001b[0m\u001b[0m\n\u001b[0;32m   1331\u001b[0m             \u001b[1;34m\"Use a.empty, a.bool(), a.item(), a.any() or a.all().\"\u001b[0m\u001b[1;33m\u001b[0m\u001b[1;33m\u001b[0m\u001b[0m\n",
      "\u001b[1;31mValueError\u001b[0m: The truth value of a Series is ambiguous. Use a.empty, a.bool(), a.item(), a.any() or a.all()."
     ]
    }
   ],
   "source": [
    "data[(data['title']) and (data['vote_average']==10)]"
   ]
  },
  {
   "cell_type": "markdown",
   "metadata": {},
   "source": [
    "# TOP  30 MOVIES WITH 10 vote average\n"
   ]
  },
  {
   "cell_type": "code",
   "execution_count": 207,
   "metadata": {},
   "outputs": [
    {
     "data": {
      "image/png": "[encoded data removed]",
      "text/plain": [
       "<Figure size 1080x360 with 1 Axes>"
      ]
     },
     "metadata": {
      "needs_background": "light"
     },
     "output_type": "display_data"
    }
   ],
   "source": [
    "plt.figure(figsize=(15,5))\n",
    "data.groupby('title')['vote_average'].max().sort_values(ascending=False).head(30).plot(kind='bar')\n",
    "plt.show()"
   ]
  },
  {
   "cell_type": "code",
   "execution_count": null,
   "metadata": {},
   "outputs": [],
   "source": []
  },
  {
   "cell_type": "code",
   "execution_count": 248,
   "metadata": {},
   "outputs": [
    {
     "data": {
      "text/plain": [
       "<AxesSubplot:xlabel='release_year'>"
      ]
     },
     "execution_count": 248,
     "metadata": {},
     "output_type": "execute_result"
    },
    {
     "data": {
      "image/png": "[encoded data removed]",
      "text/plain": [
       "<Figure size 1296x360 with 1 Axes>"
      ]
     },
     "metadata": {
      "needs_background": "light"
     },
     "output_type": "display_data"
    }
   ],
   "source": [
    "# Checking the trend of vote average over the years\n",
    "plt.figure(figsize=(18,5))\n",
    "year_revenue = data.groupby('release_year')['vote_average'].max()\n",
    "year_revenue.plot(kind='line')"
   ]
  },
  {
   "cell_type": "raw",
   "metadata": {},
   "source": [
    "\n",
    "Observations:\n",
    "We can see that the vote average has been steadily increasing over the years"
   ]
  },
  {
   "cell_type": "code",
   "execution_count": null,
   "metadata": {},
   "outputs": [],
   "source": []
  }
 ],
 "metadata": {
  "kernelspec": {
   "display_name": "Python 3",
   "language": "python",
   "name": "python3"
  },
  "language_info": {
   "codemirror_mode": {
    "name": "ipython",
    "version": 3
   },
   "file_extension": ".py",
   "mimetype": "text/x-python",
   "name": "python",
   "nbconvert_exporter": "python",
   "pygments_lexer": "ipython3",
   "version": "3.8.5"
  }
 },
 "nbformat": 4,
 "nbformat_minor": 4
}
