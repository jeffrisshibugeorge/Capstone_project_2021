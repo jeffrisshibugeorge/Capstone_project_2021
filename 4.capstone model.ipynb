{
 "cells": [
  {
   "cell_type": "code",
   "execution_count": 1,
   "metadata": {},
   "outputs": [],
   "source": [
    "import numpy as np\n",
    "import pandas as pd\n",
    "import seaborn as sns\n",
    "import ast\n",
    "import warnings \n",
    "warnings.filterwarnings('ignore')\n",
    "import matplotlib.pyplot as plt\n",
    "import statsmodels.api as sm\n",
    "from sklearn.model_selection import train_test_split\n",
    "from sklearn.linear_model import LinearRegression\n",
    "lin_reg=LinearRegression()\n",
    "from sklearn.feature_selection import RFE\n",
    "from sklearn.metrics import mean_absolute_error\n",
    "from sklearn.linear_model import Ridge,Lasso\n",
    "from sklearn.model_selection import GridSearchCV\n",
    "from sklearn.metrics import mean_squared_error, r2_score"
   ]
  },
  {
   "cell_type": "code",
   "execution_count": 2,
   "metadata": {},
   "outputs": [],
   "source": [
    "data_new=pd.read_csv(r'C:\\Users\\my pc\\data_num.csv')"
   ]
  },
  {
   "cell_type": "code",
   "execution_count": 3,
   "metadata": {},
   "outputs": [
    {
     "data": {
      "text/html": [
       "<div>\n",
       "<style scoped>\n",
       "    .dataframe tbody tr th:only-of-type {\n",
       "        vertical-align: middle;\n",
       "    }\n",
       "\n",
       "    .dataframe tbody tr th {\n",
       "        vertical-align: top;\n",
       "    }\n",
       "\n",
       "    .dataframe thead th {\n",
       "        text-align: right;\n",
       "    }\n",
       "</style>\n",
       "<table border=\"1\" class=\"dataframe\">\n",
       "  <thead>\n",
       "    <tr style=\"text-align: right;\">\n",
       "      <th></th>\n",
       "      <th>Unnamed: 0</th>\n",
       "      <th>popularity</th>\n",
       "      <th>runtime</th>\n",
       "      <th>vote_average</th>\n",
       "      <th>vote_count</th>\n",
       "      <th>count_genres</th>\n",
       "      <th>count_company</th>\n",
       "      <th>count_spoken</th>\n",
       "      <th>count_country</th>\n",
       "      <th>sentiment_score</th>\n",
       "      <th>VIDEO FE</th>\n",
       "      <th>STATUS FE</th>\n",
       "      <th>LANGUAGE FE</th>\n",
       "      <th>release_year_minus_current_year</th>\n",
       "    </tr>\n",
       "  </thead>\n",
       "  <tbody>\n",
       "    <tr>\n",
       "      <th>0</th>\n",
       "      <td>0</td>\n",
       "      <td>6.650000</td>\n",
       "      <td>73.0</td>\n",
       "      <td>6.8</td>\n",
       "      <td>134.0</td>\n",
       "      <td>3</td>\n",
       "      <td>1</td>\n",
       "      <td>2</td>\n",
       "      <td>1</td>\n",
       "      <td>-0.6479</td>\n",
       "      <td>0.946252</td>\n",
       "      <td>0.988579</td>\n",
       "      <td>0.003162</td>\n",
       "      <td>33.000000</td>\n",
       "    </tr>\n",
       "    <tr>\n",
       "      <th>1</th>\n",
       "      <td>1</td>\n",
       "      <td>6.200000</td>\n",
       "      <td>74.0</td>\n",
       "      <td>7.2</td>\n",
       "      <td>132.0</td>\n",
       "      <td>2</td>\n",
       "      <td>1</td>\n",
       "      <td>3</td>\n",
       "      <td>1</td>\n",
       "      <td>-0.5994</td>\n",
       "      <td>0.946252</td>\n",
       "      <td>0.988579</td>\n",
       "      <td>0.003162</td>\n",
       "      <td>35.000000</td>\n",
       "    </tr>\n",
       "    <tr>\n",
       "      <th>2</th>\n",
       "      <td>2</td>\n",
       "      <td>8.300000</td>\n",
       "      <td>98.0</td>\n",
       "      <td>5.7</td>\n",
       "      <td>1936.0</td>\n",
       "      <td>2</td>\n",
       "      <td>2</td>\n",
       "      <td>1</td>\n",
       "      <td>1</td>\n",
       "      <td>-0.2960</td>\n",
       "      <td>0.946252</td>\n",
       "      <td>0.988579</td>\n",
       "      <td>0.562853</td>\n",
       "      <td>26.000000</td>\n",
       "    </tr>\n",
       "    <tr>\n",
       "      <th>3</th>\n",
       "      <td>3</td>\n",
       "      <td>6.940000</td>\n",
       "      <td>110.0</td>\n",
       "      <td>6.4</td>\n",
       "      <td>191.0</td>\n",
       "      <td>3</td>\n",
       "      <td>3</td>\n",
       "      <td>1</td>\n",
       "      <td>2</td>\n",
       "      <td>-0.9403</td>\n",
       "      <td>0.946252</td>\n",
       "      <td>0.988579</td>\n",
       "      <td>0.562853</td>\n",
       "      <td>28.000000</td>\n",
       "    </tr>\n",
       "    <tr>\n",
       "      <th>4</th>\n",
       "      <td>4</td>\n",
       "      <td>1.650000</td>\n",
       "      <td>80.0</td>\n",
       "      <td>7.4</td>\n",
       "      <td>14.0</td>\n",
       "      <td>1</td>\n",
       "      <td>1</td>\n",
       "      <td>5</td>\n",
       "      <td>1</td>\n",
       "      <td>0.9552</td>\n",
       "      <td>0.946252</td>\n",
       "      <td>0.988579</td>\n",
       "      <td>0.562853</td>\n",
       "      <td>15.000000</td>\n",
       "    </tr>\n",
       "    <tr>\n",
       "      <th>...</th>\n",
       "      <td>...</td>\n",
       "      <td>...</td>\n",
       "      <td>...</td>\n",
       "      <td>...</td>\n",
       "      <td>...</td>\n",
       "      <td>...</td>\n",
       "      <td>...</td>\n",
       "      <td>...</td>\n",
       "      <td>...</td>\n",
       "      <td>...</td>\n",
       "      <td>...</td>\n",
       "      <td>...</td>\n",
       "      <td>...</td>\n",
       "      <td>...</td>\n",
       "    </tr>\n",
       "    <tr>\n",
       "      <th>656070</th>\n",
       "      <td>656070</td>\n",
       "      <td>0.751314</td>\n",
       "      <td>2.0</td>\n",
       "      <td>0.0</td>\n",
       "      <td>0.0</td>\n",
       "      <td>0</td>\n",
       "      <td>0</td>\n",
       "      <td>0</td>\n",
       "      <td>0</td>\n",
       "      <td>0.0000</td>\n",
       "      <td>0.946252</td>\n",
       "      <td>0.988579</td>\n",
       "      <td>0.562853</td>\n",
       "      <td>25.594724</td>\n",
       "    </tr>\n",
       "    <tr>\n",
       "      <th>656071</th>\n",
       "      <td>656071</td>\n",
       "      <td>0.751314</td>\n",
       "      <td>105.0</td>\n",
       "      <td>0.0</td>\n",
       "      <td>0.0</td>\n",
       "      <td>0</td>\n",
       "      <td>0</td>\n",
       "      <td>0</td>\n",
       "      <td>0</td>\n",
       "      <td>0.0258</td>\n",
       "      <td>0.946252</td>\n",
       "      <td>0.988579</td>\n",
       "      <td>0.562853</td>\n",
       "      <td>25.594724</td>\n",
       "    </tr>\n",
       "    <tr>\n",
       "      <th>656072</th>\n",
       "      <td>656072</td>\n",
       "      <td>0.751314</td>\n",
       "      <td>120.0</td>\n",
       "      <td>0.0</td>\n",
       "      <td>0.0</td>\n",
       "      <td>0</td>\n",
       "      <td>0</td>\n",
       "      <td>0</td>\n",
       "      <td>0</td>\n",
       "      <td>0.9143</td>\n",
       "      <td>0.946252</td>\n",
       "      <td>0.988579</td>\n",
       "      <td>0.562853</td>\n",
       "      <td>25.594724</td>\n",
       "    </tr>\n",
       "    <tr>\n",
       "      <th>656073</th>\n",
       "      <td>656073</td>\n",
       "      <td>0.751314</td>\n",
       "      <td>95.0</td>\n",
       "      <td>0.0</td>\n",
       "      <td>0.0</td>\n",
       "      <td>0</td>\n",
       "      <td>0</td>\n",
       "      <td>0</td>\n",
       "      <td>0</td>\n",
       "      <td>-0.7184</td>\n",
       "      <td>0.946252</td>\n",
       "      <td>0.988579</td>\n",
       "      <td>0.562853</td>\n",
       "      <td>25.594724</td>\n",
       "    </tr>\n",
       "    <tr>\n",
       "      <th>656074</th>\n",
       "      <td>656074</td>\n",
       "      <td>0.751314</td>\n",
       "      <td>920.0</td>\n",
       "      <td>0.0</td>\n",
       "      <td>0.0</td>\n",
       "      <td>0</td>\n",
       "      <td>0</td>\n",
       "      <td>0</td>\n",
       "      <td>0</td>\n",
       "      <td>0.7717</td>\n",
       "      <td>0.946252</td>\n",
       "      <td>0.988579</td>\n",
       "      <td>0.562853</td>\n",
       "      <td>25.594724</td>\n",
       "    </tr>\n",
       "  </tbody>\n",
       "</table>\n",
       "<p>656075 rows × 14 columns</p>\n",
       "</div>"
      ],
      "text/plain": [
       "        Unnamed: 0  popularity  runtime  vote_average  vote_count  \\\n",
       "0                0    6.650000     73.0           6.8       134.0   \n",
       "1                1    6.200000     74.0           7.2       132.0   \n",
       "2                2    8.300000     98.0           5.7      1936.0   \n",
       "3                3    6.940000    110.0           6.4       191.0   \n",
       "4                4    1.650000     80.0           7.4        14.0   \n",
       "...            ...         ...      ...           ...         ...   \n",
       "656070      656070    0.751314      2.0           0.0         0.0   \n",
       "656071      656071    0.751314    105.0           0.0         0.0   \n",
       "656072      656072    0.751314    120.0           0.0         0.0   \n",
       "656073      656073    0.751314     95.0           0.0         0.0   \n",
       "656074      656074    0.751314    920.0           0.0         0.0   \n",
       "\n",
       "        count_genres  count_company  count_spoken  count_country  \\\n",
       "0                  3              1             2              1   \n",
       "1                  2              1             3              1   \n",
       "2                  2              2             1              1   \n",
       "3                  3              3             1              2   \n",
       "4                  1              1             5              1   \n",
       "...              ...            ...           ...            ...   \n",
       "656070             0              0             0              0   \n",
       "656071             0              0             0              0   \n",
       "656072             0              0             0              0   \n",
       "656073             0              0             0              0   \n",
       "656074             0              0             0              0   \n",
       "\n",
       "        sentiment_score  VIDEO FE  STATUS FE  LANGUAGE FE  \\\n",
       "0               -0.6479  0.946252   0.988579     0.003162   \n",
       "1               -0.5994  0.946252   0.988579     0.003162   \n",
       "2               -0.2960  0.946252   0.988579     0.562853   \n",
       "3               -0.9403  0.946252   0.988579     0.562853   \n",
       "4                0.9552  0.946252   0.988579     0.562853   \n",
       "...                 ...       ...        ...          ...   \n",
       "656070           0.0000  0.946252   0.988579     0.562853   \n",
       "656071           0.0258  0.946252   0.988579     0.562853   \n",
       "656072           0.9143  0.946252   0.988579     0.562853   \n",
       "656073          -0.7184  0.946252   0.988579     0.562853   \n",
       "656074           0.7717  0.946252   0.988579     0.562853   \n",
       "\n",
       "        release_year_minus_current_year  \n",
       "0                             33.000000  \n",
       "1                             35.000000  \n",
       "2                             26.000000  \n",
       "3                             28.000000  \n",
       "4                             15.000000  \n",
       "...                                 ...  \n",
       "656070                        25.594724  \n",
       "656071                        25.594724  \n",
       "656072                        25.594724  \n",
       "656073                        25.594724  \n",
       "656074                        25.594724  \n",
       "\n",
       "[656075 rows x 14 columns]"
      ]
     },
     "execution_count": 3,
     "metadata": {},
     "output_type": "execute_result"
    }
   ],
   "source": [
    "data_new"
   ]
  },
  {
   "cell_type": "code",
   "execution_count": 4,
   "metadata": {},
   "outputs": [],
   "source": [
    "data_new.drop(['Unnamed: 0'],axis=1,inplace=True)"
   ]
  },
  {
   "cell_type": "code",
   "execution_count": 5,
   "metadata": {},
   "outputs": [
    {
     "data": {
      "text/html": [
       "<div>\n",
       "<style scoped>\n",
       "    .dataframe tbody tr th:only-of-type {\n",
       "        vertical-align: middle;\n",
       "    }\n",
       "\n",
       "    .dataframe tbody tr th {\n",
       "        vertical-align: top;\n",
       "    }\n",
       "\n",
       "    .dataframe thead th {\n",
       "        text-align: right;\n",
       "    }\n",
       "</style>\n",
       "<table border=\"1\" class=\"dataframe\">\n",
       "  <thead>\n",
       "    <tr style=\"text-align: right;\">\n",
       "      <th></th>\n",
       "      <th>popularity</th>\n",
       "      <th>runtime</th>\n",
       "      <th>vote_average</th>\n",
       "      <th>vote_count</th>\n",
       "      <th>count_genres</th>\n",
       "      <th>count_company</th>\n",
       "      <th>count_spoken</th>\n",
       "      <th>count_country</th>\n",
       "      <th>sentiment_score</th>\n",
       "      <th>VIDEO FE</th>\n",
       "      <th>STATUS FE</th>\n",
       "      <th>LANGUAGE FE</th>\n",
       "      <th>release_year_minus_current_year</th>\n",
       "    </tr>\n",
       "  </thead>\n",
       "  <tbody>\n",
       "    <tr>\n",
       "      <th>0</th>\n",
       "      <td>6.650000</td>\n",
       "      <td>73.0</td>\n",
       "      <td>6.8</td>\n",
       "      <td>134.0</td>\n",
       "      <td>3</td>\n",
       "      <td>1</td>\n",
       "      <td>2</td>\n",
       "      <td>1</td>\n",
       "      <td>-0.6479</td>\n",
       "      <td>0.946252</td>\n",
       "      <td>0.988579</td>\n",
       "      <td>0.003162</td>\n",
       "      <td>33.000000</td>\n",
       "    </tr>\n",
       "    <tr>\n",
       "      <th>1</th>\n",
       "      <td>6.200000</td>\n",
       "      <td>74.0</td>\n",
       "      <td>7.2</td>\n",
       "      <td>132.0</td>\n",
       "      <td>2</td>\n",
       "      <td>1</td>\n",
       "      <td>3</td>\n",
       "      <td>1</td>\n",
       "      <td>-0.5994</td>\n",
       "      <td>0.946252</td>\n",
       "      <td>0.988579</td>\n",
       "      <td>0.003162</td>\n",
       "      <td>35.000000</td>\n",
       "    </tr>\n",
       "    <tr>\n",
       "      <th>2</th>\n",
       "      <td>8.300000</td>\n",
       "      <td>98.0</td>\n",
       "      <td>5.7</td>\n",
       "      <td>1936.0</td>\n",
       "      <td>2</td>\n",
       "      <td>2</td>\n",
       "      <td>1</td>\n",
       "      <td>1</td>\n",
       "      <td>-0.2960</td>\n",
       "      <td>0.946252</td>\n",
       "      <td>0.988579</td>\n",
       "      <td>0.562853</td>\n",
       "      <td>26.000000</td>\n",
       "    </tr>\n",
       "    <tr>\n",
       "      <th>3</th>\n",
       "      <td>6.940000</td>\n",
       "      <td>110.0</td>\n",
       "      <td>6.4</td>\n",
       "      <td>191.0</td>\n",
       "      <td>3</td>\n",
       "      <td>3</td>\n",
       "      <td>1</td>\n",
       "      <td>2</td>\n",
       "      <td>-0.9403</td>\n",
       "      <td>0.946252</td>\n",
       "      <td>0.988579</td>\n",
       "      <td>0.562853</td>\n",
       "      <td>28.000000</td>\n",
       "    </tr>\n",
       "    <tr>\n",
       "      <th>4</th>\n",
       "      <td>1.650000</td>\n",
       "      <td>80.0</td>\n",
       "      <td>7.4</td>\n",
       "      <td>14.0</td>\n",
       "      <td>1</td>\n",
       "      <td>1</td>\n",
       "      <td>5</td>\n",
       "      <td>1</td>\n",
       "      <td>0.9552</td>\n",
       "      <td>0.946252</td>\n",
       "      <td>0.988579</td>\n",
       "      <td>0.562853</td>\n",
       "      <td>15.000000</td>\n",
       "    </tr>\n",
       "    <tr>\n",
       "      <th>...</th>\n",
       "      <td>...</td>\n",
       "      <td>...</td>\n",
       "      <td>...</td>\n",
       "      <td>...</td>\n",
       "      <td>...</td>\n",
       "      <td>...</td>\n",
       "      <td>...</td>\n",
       "      <td>...</td>\n",
       "      <td>...</td>\n",
       "      <td>...</td>\n",
       "      <td>...</td>\n",
       "      <td>...</td>\n",
       "      <td>...</td>\n",
       "    </tr>\n",
       "    <tr>\n",
       "      <th>656070</th>\n",
       "      <td>0.751314</td>\n",
       "      <td>2.0</td>\n",
       "      <td>0.0</td>\n",
       "      <td>0.0</td>\n",
       "      <td>0</td>\n",
       "      <td>0</td>\n",
       "      <td>0</td>\n",
       "      <td>0</td>\n",
       "      <td>0.0000</td>\n",
       "      <td>0.946252</td>\n",
       "      <td>0.988579</td>\n",
       "      <td>0.562853</td>\n",
       "      <td>25.594724</td>\n",
       "    </tr>\n",
       "    <tr>\n",
       "      <th>656071</th>\n",
       "      <td>0.751314</td>\n",
       "      <td>105.0</td>\n",
       "      <td>0.0</td>\n",
       "      <td>0.0</td>\n",
       "      <td>0</td>\n",
       "      <td>0</td>\n",
       "      <td>0</td>\n",
       "      <td>0</td>\n",
       "      <td>0.0258</td>\n",
       "      <td>0.946252</td>\n",
       "      <td>0.988579</td>\n",
       "      <td>0.562853</td>\n",
       "      <td>25.594724</td>\n",
       "    </tr>\n",
       "    <tr>\n",
       "      <th>656072</th>\n",
       "      <td>0.751314</td>\n",
       "      <td>120.0</td>\n",
       "      <td>0.0</td>\n",
       "      <td>0.0</td>\n",
       "      <td>0</td>\n",
       "      <td>0</td>\n",
       "      <td>0</td>\n",
       "      <td>0</td>\n",
       "      <td>0.9143</td>\n",
       "      <td>0.946252</td>\n",
       "      <td>0.988579</td>\n",
       "      <td>0.562853</td>\n",
       "      <td>25.594724</td>\n",
       "    </tr>\n",
       "    <tr>\n",
       "      <th>656073</th>\n",
       "      <td>0.751314</td>\n",
       "      <td>95.0</td>\n",
       "      <td>0.0</td>\n",
       "      <td>0.0</td>\n",
       "      <td>0</td>\n",
       "      <td>0</td>\n",
       "      <td>0</td>\n",
       "      <td>0</td>\n",
       "      <td>-0.7184</td>\n",
       "      <td>0.946252</td>\n",
       "      <td>0.988579</td>\n",
       "      <td>0.562853</td>\n",
       "      <td>25.594724</td>\n",
       "    </tr>\n",
       "    <tr>\n",
       "      <th>656074</th>\n",
       "      <td>0.751314</td>\n",
       "      <td>920.0</td>\n",
       "      <td>0.0</td>\n",
       "      <td>0.0</td>\n",
       "      <td>0</td>\n",
       "      <td>0</td>\n",
       "      <td>0</td>\n",
       "      <td>0</td>\n",
       "      <td>0.7717</td>\n",
       "      <td>0.946252</td>\n",
       "      <td>0.988579</td>\n",
       "      <td>0.562853</td>\n",
       "      <td>25.594724</td>\n",
       "    </tr>\n",
       "  </tbody>\n",
       "</table>\n",
       "<p>656075 rows × 13 columns</p>\n",
       "</div>"
      ],
      "text/plain": [
       "        popularity  runtime  vote_average  vote_count  count_genres  \\\n",
       "0         6.650000     73.0           6.8       134.0             3   \n",
       "1         6.200000     74.0           7.2       132.0             2   \n",
       "2         8.300000     98.0           5.7      1936.0             2   \n",
       "3         6.940000    110.0           6.4       191.0             3   \n",
       "4         1.650000     80.0           7.4        14.0             1   \n",
       "...            ...      ...           ...         ...           ...   \n",
       "656070    0.751314      2.0           0.0         0.0             0   \n",
       "656071    0.751314    105.0           0.0         0.0             0   \n",
       "656072    0.751314    120.0           0.0         0.0             0   \n",
       "656073    0.751314     95.0           0.0         0.0             0   \n",
       "656074    0.751314    920.0           0.0         0.0             0   \n",
       "\n",
       "        count_company  count_spoken  count_country  sentiment_score  VIDEO FE  \\\n",
       "0                   1             2              1          -0.6479  0.946252   \n",
       "1                   1             3              1          -0.5994  0.946252   \n",
       "2                   2             1              1          -0.2960  0.946252   \n",
       "3                   3             1              2          -0.9403  0.946252   \n",
       "4                   1             5              1           0.9552  0.946252   \n",
       "...               ...           ...            ...              ...       ...   \n",
       "656070              0             0              0           0.0000  0.946252   \n",
       "656071              0             0              0           0.0258  0.946252   \n",
       "656072              0             0              0           0.9143  0.946252   \n",
       "656073              0             0              0          -0.7184  0.946252   \n",
       "656074              0             0              0           0.7717  0.946252   \n",
       "\n",
       "        STATUS FE  LANGUAGE FE  release_year_minus_current_year  \n",
       "0        0.988579     0.003162                        33.000000  \n",
       "1        0.988579     0.003162                        35.000000  \n",
       "2        0.988579     0.562853                        26.000000  \n",
       "3        0.988579     0.562853                        28.000000  \n",
       "4        0.988579     0.562853                        15.000000  \n",
       "...           ...          ...                              ...  \n",
       "656070   0.988579     0.562853                        25.594724  \n",
       "656071   0.988579     0.562853                        25.594724  \n",
       "656072   0.988579     0.562853                        25.594724  \n",
       "656073   0.988579     0.562853                        25.594724  \n",
       "656074   0.988579     0.562853                        25.594724  \n",
       "\n",
       "[656075 rows x 13 columns]"
      ]
     },
     "execution_count": 5,
     "metadata": {},
     "output_type": "execute_result"
    }
   ],
   "source": [
    "data_new"
   ]
  },
  {
   "cell_type": "code",
   "execution_count": 6,
   "metadata": {},
   "outputs": [
    {
     "data": {
      "text/plain": [
       "popularity                         0\n",
       "runtime                            0\n",
       "vote_average                       0\n",
       "vote_count                         0\n",
       "count_genres                       0\n",
       "count_company                      0\n",
       "count_spoken                       0\n",
       "count_country                      0\n",
       "sentiment_score                    0\n",
       "VIDEO FE                           0\n",
       "STATUS FE                          0\n",
       "LANGUAGE FE                        0\n",
       "release_year_minus_current_year    0\n",
       "dtype: int64"
      ]
     },
     "execution_count": 6,
     "metadata": {},
     "output_type": "execute_result"
    }
   ],
   "source": [
    "data_new.isnull().sum()"
   ]
  },
  {
   "cell_type": "code",
   "execution_count": null,
   "metadata": {},
   "outputs": [],
   "source": []
  },
  {
   "cell_type": "code",
   "execution_count": 7,
   "metadata": {},
   "outputs": [],
   "source": [
    "X=data_new.drop(['vote_average'],axis=1)\n",
    "y=data_new['vote_average']   "
   ]
  },
  {
   "cell_type": "code",
   "execution_count": 8,
   "metadata": {},
   "outputs": [],
   "source": [
    "from sklearn.model_selection import train_test_split\n",
    "X_train, X_test, y_train, y_test = train_test_split(X, y, train_size=0.7,test_size = 0.3, random_state=100)"
   ]
  },
  {
   "cell_type": "code",
   "execution_count": 9,
   "metadata": {},
   "outputs": [
    {
     "name": "stdout",
     "output_type": "stream",
     "text": [
      "X_train : (459252, 12)\n",
      "y_train : (459252,)\n",
      "X_test : (196823, 12)\n",
      "y_test : (196823,)\n"
     ]
    }
   ],
   "source": [
    "print('X_train :',X_train.shape)\n",
    "print('y_train :',y_train.shape)\n",
    "print('X_test :',X_test.shape)\n",
    "print('y_test :',y_test.shape)"
   ]
  },
  {
   "cell_type": "markdown",
   "metadata": {},
   "source": [
    "# # Linear regression"
   ]
  },
  {
   "cell_type": "code",
   "execution_count": 10,
   "metadata": {},
   "outputs": [],
   "source": [
    "from sklearn.linear_model import LinearRegression\n",
    "lin_reg = LinearRegression()\n",
    "lin_reg.fit(X_train,y_train)\n",
    "reg_predictions=lin_reg.predict(X_test)\n"
   ]
  },
  {
   "cell_type": "code",
   "execution_count": 11,
   "metadata": {},
   "outputs": [
    {
     "name": "stdout",
     "output_type": "stream",
     "text": [
      "2.8733174384558984\n"
     ]
    }
   ],
   "source": [
    "from sklearn.metrics import mean_squared_error\n",
    "from math import sqrt\n",
    "rms = sqrt(mean_squared_error(y_test, reg_predictions))\n",
    "print(rms)\n"
   ]
  },
  {
   "cell_type": "code",
   "execution_count": 12,
   "metadata": {},
   "outputs": [
    {
     "data": {
      "text/plain": [
       "array([2.89185643, 0.92356902, 1.43444209, ..., 4.13555062, 0.95925197,\n",
       "       1.07200661])"
      ]
     },
     "execution_count": 12,
     "metadata": {},
     "output_type": "execute_result"
    }
   ],
   "source": [
    "reg_predictions"
   ]
  },
  {
   "cell_type": "code",
   "execution_count": 37,
   "metadata": {},
   "outputs": [
    {
     "data": {
      "text/plain": [
       "Text(0, 0.5, 'Predictions')"
      ]
     },
     "execution_count": 37,
     "metadata": {},
     "output_type": "execute_result"
    },
    {
     "data": {
      "image/png": "[encoded data removed]",
      "text/plain": [
       "<Figure size 1440x360 with 1 Axes>"
      ]
     },
     "metadata": {
      "needs_background": "light"
     },
     "output_type": "display_data"
    }
   ],
   "source": [
    "plt.figure(figsize=(20,5))\n",
    "plt.scatter(y_test,reg_predictions)\n",
    "plt.xlabel('True Values')\n",
    "plt.ylabel('Predictions')"
   ]
  },
  {
   "cell_type": "markdown",
   "metadata": {},
   "source": [
    "# RANDOM FOREST"
   ]
  },
  {
   "cell_type": "code",
   "execution_count": 13,
   "metadata": {},
   "outputs": [],
   "source": [
    "from sklearn.ensemble import RandomForestRegressor,BaggingRegressor\n"
   ]
  },
  {
   "cell_type": "code",
   "execution_count": 14,
   "metadata": {},
   "outputs": [],
   "source": [
    "rf= RandomForestRegressor()"
   ]
  },
  {
   "cell_type": "code",
   "execution_count": 15,
   "metadata": {},
   "outputs": [
    {
     "name": "stdout",
     "output_type": "stream",
     "text": [
      "0.4688079948508544\n",
      "1.0539302400430837\n"
     ]
    }
   ],
   "source": [
    "rf.fit(X_train,y_train)\n",
    "pred_rf = rf.predict(X_test)\n",
    "print(mean_absolute_error(y_test, pred_rf))\n",
    "print(np.sqrt(mean_squared_error(y_test, pred_rf)))"
   ]
  },
  {
   "cell_type": "code",
   "execution_count": 16,
   "metadata": {},
   "outputs": [
    {
     "data": {
      "text/plain": [
       "array([6.565875, 0.      , 0.      , ..., 6.455   , 5.865   , 6.37    ])"
      ]
     },
     "execution_count": 16,
     "metadata": {},
     "output_type": "execute_result"
    }
   ],
   "source": [
    "pred_rf"
   ]
  },
  {
   "cell_type": "code",
   "execution_count": 38,
   "metadata": {},
   "outputs": [
    {
     "data": {
      "text/plain": [
       "Text(0, 0.5, 'Predictions')"
      ]
     },
     "execution_count": 38,
     "metadata": {},
     "output_type": "execute_result"
    },
    {
     "data": {
      "image/png": "[encoded data removed]",
      "text/plain": [
       "<Figure size 1440x360 with 1 Axes>"
      ]
     },
     "metadata": {
      "needs_background": "light"
     },
     "output_type": "display_data"
    }
   ],
   "source": [
    "plt.figure(figsize=(20,5))\n",
    "plt.scatter(y_test,pred_rf)\n",
    "plt.xlabel('True Values')\n",
    "plt.ylabel('Predictions')"
   ]
  },
  {
   "cell_type": "markdown",
   "metadata": {},
   "source": [
    "# BAGGING REGRESSOR"
   ]
  },
  {
   "cell_type": "code",
   "execution_count": 17,
   "metadata": {},
   "outputs": [],
   "source": [
    "bag = BaggingRegressor()"
   ]
  },
  {
   "cell_type": "code",
   "execution_count": 18,
   "metadata": {},
   "outputs": [
    {
     "name": "stdout",
     "output_type": "stream",
     "text": [
      "0.48963702456298897\n",
      "1.0958058548113485\n"
     ]
    }
   ],
   "source": [
    "bag.fit(X_train,y_train)\n",
    "pred_bag = bag.predict(X_test)\n",
    "print(mean_absolute_error(y_test, pred_bag))\n",
    "print(np.sqrt(mean_squared_error(y_test, pred_bag)))"
   ]
  },
  {
   "cell_type": "code",
   "execution_count": 19,
   "metadata": {},
   "outputs": [
    {
     "data": {
      "text/plain": [
       "array([7.875, 0.   , 0.   , ..., 8.35 , 5.3  , 5.5  ])"
      ]
     },
     "execution_count": 19,
     "metadata": {},
     "output_type": "execute_result"
    }
   ],
   "source": [
    "pred_bag"
   ]
  },
  {
   "cell_type": "code",
   "execution_count": 39,
   "metadata": {},
   "outputs": [
    {
     "data": {
      "text/plain": [
       "Text(0, 0.5, 'Predictions')"
      ]
     },
     "execution_count": 39,
     "metadata": {},
     "output_type": "execute_result"
    },
    {
     "data": {
      "image/png": "[encoded data removed]",
      "text/plain": [
       "<Figure size 1440x360 with 1 Axes>"
      ]
     },
     "metadata": {
      "needs_background": "light"
     },
     "output_type": "display_data"
    }
   ],
   "source": [
    "plt.figure(figsize=(20,5))\n",
    "plt.scatter(y_test,pred_bag)\n",
    "plt.xlabel('True Values')\n",
    "plt.ylabel('Predictions')"
   ]
  },
  {
   "cell_type": "markdown",
   "metadata": {},
   "source": [
    "# KNeighborsRegressor"
   ]
  },
  {
   "cell_type": "code",
   "execution_count": 20,
   "metadata": {},
   "outputs": [
    {
     "data": {
      "text/plain": [
       "KNeighborsRegressor()"
      ]
     },
     "execution_count": 20,
     "metadata": {},
     "output_type": "execute_result"
    }
   ],
   "source": [
    "from sklearn import metrics\n",
    "\n",
    "from sklearn.neighbors import KNeighborsRegressor\n",
    "model = KNeighborsRegressor(n_neighbors = 5)\n",
    "model.fit(X_train, y_train)  #fit the model"
   ]
  },
  {
   "cell_type": "code",
   "execution_count": 21,
   "metadata": {},
   "outputs": [
    {
     "data": {
      "text/plain": [
       "1.5530228547729685"
      ]
     },
     "execution_count": 21,
     "metadata": {},
     "output_type": "execute_result"
    }
   ],
   "source": [
    "pred_kn=model.predict(X_test) #make prediction on test set\n",
    "np.sqrt(metrics.mean_squared_error(y_test,pred_kn)) #calculate rmse"
   ]
  },
  {
   "cell_type": "code",
   "execution_count": 22,
   "metadata": {},
   "outputs": [
    {
     "data": {
      "text/plain": [
       "array([7.8 , 0.  , 0.  , ..., 6.86, 1.6 , 4.  ])"
      ]
     },
     "execution_count": 22,
     "metadata": {},
     "output_type": "execute_result"
    }
   ],
   "source": [
    "pred_kn"
   ]
  },
  {
   "cell_type": "code",
   "execution_count": 40,
   "metadata": {},
   "outputs": [
    {
     "data": {
      "text/plain": [
       "Text(0, 0.5, 'Predictions')"
      ]
     },
     "execution_count": 40,
     "metadata": {},
     "output_type": "execute_result"
    },
    {
     "data": {
      "image/png": "[encoded data removed]",
      "text/plain": [
       "<Figure size 1440x360 with 1 Axes>"
      ]
     },
     "metadata": {
      "needs_background": "light"
     },
     "output_type": "display_data"
    }
   ],
   "source": [
    "plt.figure(figsize=(20,5))\n",
    "plt.scatter(y_test,pred_kn)\n",
    "plt.xlabel('True Values')\n",
    "plt.ylabel('Predictions')"
   ]
  },
  {
   "cell_type": "markdown",
   "metadata": {},
   "source": [
    "# DecisionTreeRegressor"
   ]
  },
  {
   "cell_type": "code",
   "execution_count": 23,
   "metadata": {},
   "outputs": [
    {
     "data": {
      "text/plain": [
       "DecisionTreeRegressor(random_state=0)"
      ]
     },
     "execution_count": 23,
     "metadata": {},
     "output_type": "execute_result"
    }
   ],
   "source": [
    "# import the regressor\n",
    "from sklearn.tree import DecisionTreeRegressor \n",
    "  \n",
    "# create a regressor object\n",
    "regressor = DecisionTreeRegressor(random_state = 0) \n",
    "  \n",
    "# fit the regressor with X and Y data\n",
    "regressor.fit(X_train, y_train)"
   ]
  },
  {
   "cell_type": "code",
   "execution_count": 24,
   "metadata": {},
   "outputs": [
    {
     "data": {
      "text/plain": [
       "1.4670478668457594"
      ]
     },
     "execution_count": 24,
     "metadata": {},
     "output_type": "execute_result"
    }
   ],
   "source": [
    "# predicting a new value\n",
    "  \n",
    "#test the output by changing values, like 3750\n",
    "y_pred_d = regressor.predict(X_test)\n",
    "np.sqrt(metrics.mean_squared_error(y_test, y_pred_d))"
   ]
  },
  {
   "cell_type": "code",
   "execution_count": 43,
   "metadata": {},
   "outputs": [
    {
     "data": {
      "text/plain": [
       "Text(0, 0.5, 'Predictions')"
      ]
     },
     "execution_count": 43,
     "metadata": {},
     "output_type": "execute_result"
    },
    {
     "data": {
      "image/png": "[encoded data removed]",
      "text/plain": [
       "<Figure size 1440x360 with 1 Axes>"
      ]
     },
     "metadata": {
      "needs_background": "light"
     },
     "output_type": "display_data"
    }
   ],
   "source": [
    "plt.figure(figsize=(20,5))\n",
    "plt.scatter(y_test,y_pred_d)\n",
    "plt.xlabel('True Values')\n",
    "plt.ylabel('Predictions')"
   ]
  },
  {
   "cell_type": "markdown",
   "metadata": {},
   "source": [
    "# LASSO"
   ]
  },
  {
   "cell_type": "code",
   "execution_count": 25,
   "metadata": {},
   "outputs": [
    {
     "data": {
      "text/plain": [
       "Lasso()"
      ]
     },
     "execution_count": 25,
     "metadata": {},
     "output_type": "execute_result"
    }
   ],
   "source": [
    "ls=Lasso()\n",
    "ls.fit(X_train,y_train)"
   ]
  },
  {
   "cell_type": "code",
   "execution_count": 26,
   "metadata": {},
   "outputs": [
    {
     "data": {
      "text/plain": [
       "3.1360460017423244"
      ]
     },
     "execution_count": 26,
     "metadata": {},
     "output_type": "execute_result"
    }
   ],
   "source": [
    "pred_ls=ls.predict(X_test) #make prediction on test set\n",
    "np.sqrt(metrics.mean_squared_error(y_test,pred_ls))"
   ]
  },
  {
   "cell_type": "code",
   "execution_count": 42,
   "metadata": {},
   "outputs": [
    {
     "data": {
      "text/plain": [
       "Text(0, 0.5, 'Predictions')"
      ]
     },
     "execution_count": 42,
     "metadata": {},
     "output_type": "execute_result"
    },
    {
     "data": {
      "image/png": "[encoded data removed]",
      "text/plain": [
       "<Figure size 1440x360 with 1 Axes>"
      ]
     },
     "metadata": {
      "needs_background": "light"
     },
     "output_type": "display_data"
    }
   ],
   "source": [
    "plt.figure(figsize=(20,5))\n",
    "plt.scatter(y_test,pred_ls)\n",
    "plt.xlabel('True Values')\n",
    "plt.ylabel('Predictions')"
   ]
  },
  {
   "cell_type": "markdown",
   "metadata": {},
   "source": [
    "# RIDGE"
   ]
  },
  {
   "cell_type": "code",
   "execution_count": 31,
   "metadata": {},
   "outputs": [
    {
     "data": {
      "text/plain": [
       "Ridge(alpha=0.05)"
      ]
     },
     "execution_count": 31,
     "metadata": {},
     "output_type": "execute_result"
    }
   ],
   "source": [
    "Rid=Ridge(alpha=0.05)\n",
    "Rid.fit(X_train,y_train)"
   ]
  },
  {
   "cell_type": "code",
   "execution_count": 32,
   "metadata": {},
   "outputs": [
    {
     "data": {
      "text/plain": [
       "2.873317441457379"
      ]
     },
     "execution_count": 32,
     "metadata": {},
     "output_type": "execute_result"
    }
   ],
   "source": [
    "pred_rid=Rid.predict(X_test) #make prediction on test set\n",
    "np.sqrt(metrics.mean_squared_error(y_test,pred_rid))"
   ]
  },
  {
   "cell_type": "code",
   "execution_count": 41,
   "metadata": {},
   "outputs": [
    {
     "data": {
      "text/plain": [
       "Text(0, 0.5, 'Predictions')"
      ]
     },
     "execution_count": 41,
     "metadata": {},
     "output_type": "execute_result"
    },
    {
     "data": {
      "image/png": "[encoded data removed]",
      "text/plain": [
       "<Figure size 1440x360 with 1 Axes>"
      ]
     },
     "metadata": {
      "needs_background": "light"
     },
     "output_type": "display_data"
    }
   ],
   "source": [
    "plt.figure(figsize=(20,5))\n",
    "plt.scatter(y_test,pred_rid)\n",
    "plt.xlabel('True Values')\n",
    "plt.ylabel('Predictions')"
   ]
  },
  {
   "cell_type": "code",
   "execution_count": null,
   "metadata": {},
   "outputs": [],
   "source": []
  },
  {
   "cell_type": "code",
   "execution_count": 33,
   "metadata": {},
   "outputs": [
    {
     "data": {
      "image/png": "[encoded data removed]",
      "text/plain": [
       "<Figure size 936x360 with 1 Axes>"
      ]
     },
     "metadata": {
      "needs_background": "light"
     },
     "output_type": "display_data"
    }
   ],
   "source": [
    "import matplotlib.pyplot as plt\n",
    "#bar chart for model selection\n",
    "plt.figure(figsize=(13,5))\n",
    "algorithm = ['Decision Tree','KNN','linear Regression','random forest','bagging','Lasso','Ridge']\n",
    "rmse = [1.467,1.55,2.87,1.05,1.09,3.136,2.87]\n",
    "plt.bar(algorithm,rmse,color = 'lightseagreen', width = 0.5,edgecolor='black')\n",
    "plt.title('Comparsion of ML Algorithms Error Value')\n",
    "plt.xlabel('Algorithm')\n",
    "plt.ylabel('RSME')\n",
    "plt.show(block = True)\n"
   ]
  },
  {
   "cell_type": "code",
   "execution_count": null,
   "metadata": {},
   "outputs": [],
   "source": []
  },
  {
   "cell_type": "code",
   "execution_count": null,
   "metadata": {},
   "outputs": [],
   "source": []
  },
  {
   "cell_type": "code",
   "execution_count": null,
   "metadata": {},
   "outputs": [],
   "source": []
  },
  {
   "cell_type": "code",
   "execution_count": null,
   "metadata": {},
   "outputs": [],
   "source": []
  },
  {
   "cell_type": "code",
   "execution_count": null,
   "metadata": {},
   "outputs": [],
   "source": []
  },
  {
   "cell_type": "code",
   "execution_count": null,
   "metadata": {},
   "outputs": [],
   "source": []
  },
  {
   "cell_type": "code",
   "execution_count": null,
   "metadata": {},
   "outputs": [],
   "source": []
  }
 ],
 "metadata": {
  "kernelspec": {
   "display_name": "Python 3",
   "language": "python",
   "name": "python3"
  },
  "language_info": {
   "codemirror_mode": {
    "name": "ipython",
    "version": 3
   },
   "file_extension": ".py",
   "mimetype": "text/x-python",
   "name": "python",
   "nbconvert_exporter": "python",
   "pygments_lexer": "ipython3",
   "version": "3.8.5"
  }
 },
 "nbformat": 4,
 "nbformat_minor": 4
}
