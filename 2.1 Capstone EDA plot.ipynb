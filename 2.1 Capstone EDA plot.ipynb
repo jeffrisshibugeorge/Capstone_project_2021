{
 "cells": [
  {
   "cell_type": "code",
   "execution_count": 2,
   "metadata": {},
   "outputs": [],
   "source": [
    "import numpy as np\n",
    "import pandas as pd\n",
    "import seaborn as sns\n",
    "import ast\n",
    "import warnings \n",
    "warnings.filterwarnings('ignore')\n",
    "import matplotlib.pyplot as plt\n",
    "import statsmodels.api as sm\n",
    "from sklearn.model_selection import train_test_split\n",
    "from sklearn.linear_model import LinearRegression\n",
    "lin_reg=LinearRegression()\n",
    "from sklearn.feature_selection import RFE\n",
    "from sklearn.metrics import mean_absolute_error\n",
    "from sklearn.linear_model import Ridge,Lasso\n",
    "from sklearn.model_selection import GridSearchCV\n",
    "from sklearn.metrics import mean_squared_error, r2_score"
   ]
  },
  {
   "cell_type": "code",
   "execution_count": 3,
   "metadata": {},
   "outputs": [],
   "source": [
    "data=pd.read_csv(r'C:\\Users\\my pc\\data_1.csv')"
   ]
  },
  {
   "cell_type": "code",
   "execution_count": 4,
   "metadata": {},
   "outputs": [
    {
     "data": {
      "text/html": [
       "<div>\n",
       "<style scoped>\n",
       "    .dataframe tbody tr th:only-of-type {\n",
       "        vertical-align: middle;\n",
       "    }\n",
       "\n",
       "    .dataframe tbody tr th {\n",
       "        vertical-align: top;\n",
       "    }\n",
       "\n",
       "    .dataframe thead th {\n",
       "        text-align: right;\n",
       "    }\n",
       "</style>\n",
       "<table border=\"1\" class=\"dataframe\">\n",
       "  <thead>\n",
       "    <tr style=\"text-align: right;\">\n",
       "      <th></th>\n",
       "      <th>Unnamed: 0</th>\n",
       "      <th>Unnamed: 0.1</th>\n",
       "      <th>budget</th>\n",
       "      <th>genres</th>\n",
       "      <th>id</th>\n",
       "      <th>imdb_id</th>\n",
       "      <th>original_language</th>\n",
       "      <th>original_title</th>\n",
       "      <th>overview</th>\n",
       "      <th>popularity</th>\n",
       "      <th>...</th>\n",
       "      <th>video</th>\n",
       "      <th>vote_average</th>\n",
       "      <th>vote_count</th>\n",
       "      <th>release_year</th>\n",
       "      <th>release_month</th>\n",
       "      <th>release_day</th>\n",
       "      <th>count_genres</th>\n",
       "      <th>count_company</th>\n",
       "      <th>count_spoken</th>\n",
       "      <th>count_country</th>\n",
       "    </tr>\n",
       "  </thead>\n",
       "  <tbody>\n",
       "    <tr>\n",
       "      <th>0</th>\n",
       "      <td>0</td>\n",
       "      <td>0</td>\n",
       "      <td>0</td>\n",
       "      <td>['Drama', 'Crime', 'Comedy']</td>\n",
       "      <td>2.0</td>\n",
       "      <td>tt0094675</td>\n",
       "      <td>fi</td>\n",
       "      <td>Ariel</td>\n",
       "      <td>Taisto Kasurinen is a Finnish coal miner whose...</td>\n",
       "      <td>6.656</td>\n",
       "      <td>...</td>\n",
       "      <td>False</td>\n",
       "      <td>6.8</td>\n",
       "      <td>134.0</td>\n",
       "      <td>1988.0</td>\n",
       "      <td>10.0</td>\n",
       "      <td>21.0</td>\n",
       "      <td>3</td>\n",
       "      <td>1</td>\n",
       "      <td>2</td>\n",
       "      <td>1</td>\n",
       "    </tr>\n",
       "    <tr>\n",
       "      <th>1</th>\n",
       "      <td>1</td>\n",
       "      <td>1</td>\n",
       "      <td>0</td>\n",
       "      <td>['Drama', 'Comedy']</td>\n",
       "      <td>3.0</td>\n",
       "      <td>tt0092149</td>\n",
       "      <td>fi</td>\n",
       "      <td>Varjoja paratiisissa</td>\n",
       "      <td>An episode in the life of Nikander, a garbage ...</td>\n",
       "      <td>6.205</td>\n",
       "      <td>...</td>\n",
       "      <td>False</td>\n",
       "      <td>7.2</td>\n",
       "      <td>132.0</td>\n",
       "      <td>1986.0</td>\n",
       "      <td>10.0</td>\n",
       "      <td>17.0</td>\n",
       "      <td>2</td>\n",
       "      <td>1</td>\n",
       "      <td>3</td>\n",
       "      <td>1</td>\n",
       "    </tr>\n",
       "    <tr>\n",
       "      <th>2</th>\n",
       "      <td>2</td>\n",
       "      <td>2</td>\n",
       "      <td>4000000</td>\n",
       "      <td>['Crime', 'Comedy']</td>\n",
       "      <td>5.0</td>\n",
       "      <td>tt0113101</td>\n",
       "      <td>en</td>\n",
       "      <td>Four Rooms</td>\n",
       "      <td>It's Ted the Bellhop's first night on the job....</td>\n",
       "      <td>8.307</td>\n",
       "      <td>...</td>\n",
       "      <td>False</td>\n",
       "      <td>5.7</td>\n",
       "      <td>1936.0</td>\n",
       "      <td>1995.0</td>\n",
       "      <td>9.0</td>\n",
       "      <td>12.0</td>\n",
       "      <td>2</td>\n",
       "      <td>2</td>\n",
       "      <td>1</td>\n",
       "      <td>1</td>\n",
       "    </tr>\n",
       "    <tr>\n",
       "      <th>3</th>\n",
       "      <td>3</td>\n",
       "      <td>3</td>\n",
       "      <td>21000000</td>\n",
       "      <td>['Action', 'Thriller', 'Crime']</td>\n",
       "      <td>6.0</td>\n",
       "      <td>tt0107286</td>\n",
       "      <td>en</td>\n",
       "      <td>Judgment Night</td>\n",
       "      <td>While racing to a boxing match, Frank, Mike, J...</td>\n",
       "      <td>6.944</td>\n",
       "      <td>...</td>\n",
       "      <td>False</td>\n",
       "      <td>6.4</td>\n",
       "      <td>191.0</td>\n",
       "      <td>1993.0</td>\n",
       "      <td>10.0</td>\n",
       "      <td>15.0</td>\n",
       "      <td>3</td>\n",
       "      <td>3</td>\n",
       "      <td>1</td>\n",
       "      <td>2</td>\n",
       "    </tr>\n",
       "    <tr>\n",
       "      <th>4</th>\n",
       "      <td>4</td>\n",
       "      <td>4</td>\n",
       "      <td>42000</td>\n",
       "      <td>['Documentary']</td>\n",
       "      <td>8.0</td>\n",
       "      <td>tt0825671</td>\n",
       "      <td>en</td>\n",
       "      <td>Life in Loops (A Megacities RMX)</td>\n",
       "      <td>Timo Novotny labels his new project an experim...</td>\n",
       "      <td>1.652</td>\n",
       "      <td>...</td>\n",
       "      <td>False</td>\n",
       "      <td>7.4</td>\n",
       "      <td>14.0</td>\n",
       "      <td>2006.0</td>\n",
       "      <td>1.0</td>\n",
       "      <td>1.0</td>\n",
       "      <td>1</td>\n",
       "      <td>1</td>\n",
       "      <td>5</td>\n",
       "      <td>1</td>\n",
       "    </tr>\n",
       "  </tbody>\n",
       "</table>\n",
       "<p>5 rows × 27 columns</p>\n",
       "</div>"
      ],
      "text/plain": [
       "   Unnamed: 0  Unnamed: 0.1    budget                           genres   id  \\\n",
       "0           0             0         0     ['Drama', 'Crime', 'Comedy']  2.0   \n",
       "1           1             1         0              ['Drama', 'Comedy']  3.0   \n",
       "2           2             2   4000000              ['Crime', 'Comedy']  5.0   \n",
       "3           3             3  21000000  ['Action', 'Thriller', 'Crime']  6.0   \n",
       "4           4             4     42000                  ['Documentary']  8.0   \n",
       "\n",
       "     imdb_id original_language                    original_title  \\\n",
       "0  tt0094675                fi                             Ariel   \n",
       "1  tt0092149                fi              Varjoja paratiisissa   \n",
       "2  tt0113101                en                        Four Rooms   \n",
       "3  tt0107286                en                    Judgment Night   \n",
       "4  tt0825671                en  Life in Loops (A Megacities RMX)   \n",
       "\n",
       "                                            overview popularity  ...  video  \\\n",
       "0  Taisto Kasurinen is a Finnish coal miner whose...      6.656  ...  False   \n",
       "1  An episode in the life of Nikander, a garbage ...      6.205  ...  False   \n",
       "2  It's Ted the Bellhop's first night on the job....      8.307  ...  False   \n",
       "3  While racing to a boxing match, Frank, Mike, J...      6.944  ...  False   \n",
       "4  Timo Novotny labels his new project an experim...      1.652  ...  False   \n",
       "\n",
       "  vote_average  vote_count  release_year release_month release_day  \\\n",
       "0          6.8       134.0        1988.0          10.0        21.0   \n",
       "1          7.2       132.0        1986.0          10.0        17.0   \n",
       "2          5.7      1936.0        1995.0           9.0        12.0   \n",
       "3          6.4       191.0        1993.0          10.0        15.0   \n",
       "4          7.4        14.0        2006.0           1.0         1.0   \n",
       "\n",
       "  count_genres count_company  count_spoken  count_country  \n",
       "0            3             1             2              1  \n",
       "1            2             1             3              1  \n",
       "2            2             2             1              1  \n",
       "3            3             3             1              2  \n",
       "4            1             1             5              1  \n",
       "\n",
       "[5 rows x 27 columns]"
      ]
     },
     "execution_count": 4,
     "metadata": {},
     "output_type": "execute_result"
    }
   ],
   "source": [
    "data.head()"
   ]
  },
  {
   "cell_type": "code",
   "execution_count": 5,
   "metadata": {},
   "outputs": [],
   "source": [
    "data=data.drop(['Unnamed: 0'],axis=1)\n",
    "data=data.drop(['Unnamed: 0.1'],axis=1)\n",
    "\n",
    "data=data.drop(['id'],axis=1)\n",
    "data=data.drop(['imdb_id'],axis=1)"
   ]
  },
  {
   "cell_type": "code",
   "execution_count": 7,
   "metadata": {},
   "outputs": [
    {
     "data": {
      "text/html": [
       "<div>\n",
       "<style scoped>\n",
       "    .dataframe tbody tr th:only-of-type {\n",
       "        vertical-align: middle;\n",
       "    }\n",
       "\n",
       "    .dataframe tbody tr th {\n",
       "        vertical-align: top;\n",
       "    }\n",
       "\n",
       "    .dataframe thead th {\n",
       "        text-align: right;\n",
       "    }\n",
       "</style>\n",
       "<table border=\"1\" class=\"dataframe\">\n",
       "  <thead>\n",
       "    <tr style=\"text-align: right;\">\n",
       "      <th></th>\n",
       "      <th>0</th>\n",
       "      <th>1</th>\n",
       "      <th>2</th>\n",
       "      <th>3</th>\n",
       "      <th>4</th>\n",
       "    </tr>\n",
       "  </thead>\n",
       "  <tbody>\n",
       "    <tr>\n",
       "      <th>budget</th>\n",
       "      <td>0</td>\n",
       "      <td>0</td>\n",
       "      <td>4000000</td>\n",
       "      <td>21000000</td>\n",
       "      <td>42000</td>\n",
       "    </tr>\n",
       "    <tr>\n",
       "      <th>genres</th>\n",
       "      <td>['Drama', 'Crime', 'Comedy']</td>\n",
       "      <td>['Drama', 'Comedy']</td>\n",
       "      <td>['Crime', 'Comedy']</td>\n",
       "      <td>['Action', 'Thriller', 'Crime']</td>\n",
       "      <td>['Documentary']</td>\n",
       "    </tr>\n",
       "    <tr>\n",
       "      <th>original_language</th>\n",
       "      <td>fi</td>\n",
       "      <td>fi</td>\n",
       "      <td>en</td>\n",
       "      <td>en</td>\n",
       "      <td>en</td>\n",
       "    </tr>\n",
       "    <tr>\n",
       "      <th>original_title</th>\n",
       "      <td>Ariel</td>\n",
       "      <td>Varjoja paratiisissa</td>\n",
       "      <td>Four Rooms</td>\n",
       "      <td>Judgment Night</td>\n",
       "      <td>Life in Loops (A Megacities RMX)</td>\n",
       "    </tr>\n",
       "    <tr>\n",
       "      <th>overview</th>\n",
       "      <td>Taisto Kasurinen is a Finnish coal miner whose...</td>\n",
       "      <td>An episode in the life of Nikander, a garbage ...</td>\n",
       "      <td>It's Ted the Bellhop's first night on the job....</td>\n",
       "      <td>While racing to a boxing match, Frank, Mike, J...</td>\n",
       "      <td>Timo Novotny labels his new project an experim...</td>\n",
       "    </tr>\n",
       "    <tr>\n",
       "      <th>popularity</th>\n",
       "      <td>6.656</td>\n",
       "      <td>6.205</td>\n",
       "      <td>8.307</td>\n",
       "      <td>6.944</td>\n",
       "      <td>1.652</td>\n",
       "    </tr>\n",
       "    <tr>\n",
       "      <th>production_companies</th>\n",
       "      <td>['Villealfa Filmproductions']</td>\n",
       "      <td>['Villealfa Filmproductions']</td>\n",
       "      <td>['Miramax', 'A Band Apart']</td>\n",
       "      <td>['Universal Pictures', 'Largo Entertainment', ...</td>\n",
       "      <td>['inLoops']</td>\n",
       "    </tr>\n",
       "    <tr>\n",
       "      <th>production_countries</th>\n",
       "      <td>['Finland']</td>\n",
       "      <td>['Finland']</td>\n",
       "      <td>['United States of America']</td>\n",
       "      <td>['Japan', 'United States of America']</td>\n",
       "      <td>['Austria']</td>\n",
       "    </tr>\n",
       "    <tr>\n",
       "      <th>revenue</th>\n",
       "      <td>0</td>\n",
       "      <td>0</td>\n",
       "      <td>4.25735e+06</td>\n",
       "      <td>1.21369e+07</td>\n",
       "      <td>0</td>\n",
       "    </tr>\n",
       "    <tr>\n",
       "      <th>runtime</th>\n",
       "      <td>73</td>\n",
       "      <td>74</td>\n",
       "      <td>98</td>\n",
       "      <td>110</td>\n",
       "      <td>80</td>\n",
       "    </tr>\n",
       "    <tr>\n",
       "      <th>spoken_languages</th>\n",
       "      <td>['Deutsch', 'suomi']</td>\n",
       "      <td>['English', 'svenska', 'suomi']</td>\n",
       "      <td>['English']</td>\n",
       "      <td>['English']</td>\n",
       "      <td>['English', 'हिन्दी', '日本語', 'Pусский', 'Españ...</td>\n",
       "    </tr>\n",
       "    <tr>\n",
       "      <th>status</th>\n",
       "      <td>Released</td>\n",
       "      <td>Released</td>\n",
       "      <td>Released</td>\n",
       "      <td>Released</td>\n",
       "      <td>Released</td>\n",
       "    </tr>\n",
       "    <tr>\n",
       "      <th>title</th>\n",
       "      <td>Ariel</td>\n",
       "      <td>Shadows in Paradise</td>\n",
       "      <td>Four Rooms</td>\n",
       "      <td>Judgment Night</td>\n",
       "      <td>Life in Loops (A Megacities RMX)</td>\n",
       "    </tr>\n",
       "    <tr>\n",
       "      <th>video</th>\n",
       "      <td>False</td>\n",
       "      <td>False</td>\n",
       "      <td>False</td>\n",
       "      <td>False</td>\n",
       "      <td>False</td>\n",
       "    </tr>\n",
       "    <tr>\n",
       "      <th>vote_average</th>\n",
       "      <td>6.8</td>\n",
       "      <td>7.2</td>\n",
       "      <td>5.7</td>\n",
       "      <td>6.4</td>\n",
       "      <td>7.4</td>\n",
       "    </tr>\n",
       "    <tr>\n",
       "      <th>vote_count</th>\n",
       "      <td>134</td>\n",
       "      <td>132</td>\n",
       "      <td>1936</td>\n",
       "      <td>191</td>\n",
       "      <td>14</td>\n",
       "    </tr>\n",
       "    <tr>\n",
       "      <th>release_year</th>\n",
       "      <td>1988</td>\n",
       "      <td>1986</td>\n",
       "      <td>1995</td>\n",
       "      <td>1993</td>\n",
       "      <td>2006</td>\n",
       "    </tr>\n",
       "    <tr>\n",
       "      <th>release_month</th>\n",
       "      <td>10</td>\n",
       "      <td>10</td>\n",
       "      <td>9</td>\n",
       "      <td>10</td>\n",
       "      <td>1</td>\n",
       "    </tr>\n",
       "    <tr>\n",
       "      <th>release_day</th>\n",
       "      <td>21</td>\n",
       "      <td>17</td>\n",
       "      <td>12</td>\n",
       "      <td>15</td>\n",
       "      <td>1</td>\n",
       "    </tr>\n",
       "    <tr>\n",
       "      <th>count_genres</th>\n",
       "      <td>3</td>\n",
       "      <td>2</td>\n",
       "      <td>2</td>\n",
       "      <td>3</td>\n",
       "      <td>1</td>\n",
       "    </tr>\n",
       "    <tr>\n",
       "      <th>count_company</th>\n",
       "      <td>1</td>\n",
       "      <td>1</td>\n",
       "      <td>2</td>\n",
       "      <td>3</td>\n",
       "      <td>1</td>\n",
       "    </tr>\n",
       "    <tr>\n",
       "      <th>count_spoken</th>\n",
       "      <td>2</td>\n",
       "      <td>3</td>\n",
       "      <td>1</td>\n",
       "      <td>1</td>\n",
       "      <td>5</td>\n",
       "    </tr>\n",
       "    <tr>\n",
       "      <th>count_country</th>\n",
       "      <td>1</td>\n",
       "      <td>1</td>\n",
       "      <td>1</td>\n",
       "      <td>2</td>\n",
       "      <td>1</td>\n",
       "    </tr>\n",
       "  </tbody>\n",
       "</table>\n",
       "</div>"
      ],
      "text/plain": [
       "                                                                      0  \\\n",
       "budget                                                                0   \n",
       "genres                                     ['Drama', 'Crime', 'Comedy']   \n",
       "original_language                                                    fi   \n",
       "original_title                                                    Ariel   \n",
       "overview              Taisto Kasurinen is a Finnish coal miner whose...   \n",
       "popularity                                                        6.656   \n",
       "production_companies                      ['Villealfa Filmproductions']   \n",
       "production_countries                                        ['Finland']   \n",
       "revenue                                                               0   \n",
       "runtime                                                              73   \n",
       "spoken_languages                                   ['Deutsch', 'suomi']   \n",
       "status                                                         Released   \n",
       "title                                                             Ariel   \n",
       "video                                                             False   \n",
       "vote_average                                                        6.8   \n",
       "vote_count                                                          134   \n",
       "release_year                                                       1988   \n",
       "release_month                                                        10   \n",
       "release_day                                                          21   \n",
       "count_genres                                                          3   \n",
       "count_company                                                         1   \n",
       "count_spoken                                                          2   \n",
       "count_country                                                         1   \n",
       "\n",
       "                                                                      1  \\\n",
       "budget                                                                0   \n",
       "genres                                              ['Drama', 'Comedy']   \n",
       "original_language                                                    fi   \n",
       "original_title                                     Varjoja paratiisissa   \n",
       "overview              An episode in the life of Nikander, a garbage ...   \n",
       "popularity                                                        6.205   \n",
       "production_companies                      ['Villealfa Filmproductions']   \n",
       "production_countries                                        ['Finland']   \n",
       "revenue                                                               0   \n",
       "runtime                                                              74   \n",
       "spoken_languages                        ['English', 'svenska', 'suomi']   \n",
       "status                                                         Released   \n",
       "title                                               Shadows in Paradise   \n",
       "video                                                             False   \n",
       "vote_average                                                        7.2   \n",
       "vote_count                                                          132   \n",
       "release_year                                                       1986   \n",
       "release_month                                                        10   \n",
       "release_day                                                          17   \n",
       "count_genres                                                          2   \n",
       "count_company                                                         1   \n",
       "count_spoken                                                          3   \n",
       "count_country                                                         1   \n",
       "\n",
       "                                                                      2  \\\n",
       "budget                                                          4000000   \n",
       "genres                                              ['Crime', 'Comedy']   \n",
       "original_language                                                    en   \n",
       "original_title                                               Four Rooms   \n",
       "overview              It's Ted the Bellhop's first night on the job....   \n",
       "popularity                                                        8.307   \n",
       "production_companies                        ['Miramax', 'A Band Apart']   \n",
       "production_countries                       ['United States of America']   \n",
       "revenue                                                     4.25735e+06   \n",
       "runtime                                                              98   \n",
       "spoken_languages                                            ['English']   \n",
       "status                                                         Released   \n",
       "title                                                        Four Rooms   \n",
       "video                                                             False   \n",
       "vote_average                                                        5.7   \n",
       "vote_count                                                         1936   \n",
       "release_year                                                       1995   \n",
       "release_month                                                         9   \n",
       "release_day                                                          12   \n",
       "count_genres                                                          2   \n",
       "count_company                                                         2   \n",
       "count_spoken                                                          1   \n",
       "count_country                                                         1   \n",
       "\n",
       "                                                                      3  \\\n",
       "budget                                                         21000000   \n",
       "genres                                  ['Action', 'Thriller', 'Crime']   \n",
       "original_language                                                    en   \n",
       "original_title                                           Judgment Night   \n",
       "overview              While racing to a boxing match, Frank, Mike, J...   \n",
       "popularity                                                        6.944   \n",
       "production_companies  ['Universal Pictures', 'Largo Entertainment', ...   \n",
       "production_countries              ['Japan', 'United States of America']   \n",
       "revenue                                                     1.21369e+07   \n",
       "runtime                                                             110   \n",
       "spoken_languages                                            ['English']   \n",
       "status                                                         Released   \n",
       "title                                                    Judgment Night   \n",
       "video                                                             False   \n",
       "vote_average                                                        6.4   \n",
       "vote_count                                                          191   \n",
       "release_year                                                       1993   \n",
       "release_month                                                        10   \n",
       "release_day                                                          15   \n",
       "count_genres                                                          3   \n",
       "count_company                                                         3   \n",
       "count_spoken                                                          1   \n",
       "count_country                                                         2   \n",
       "\n",
       "                                                                      4  \n",
       "budget                                                            42000  \n",
       "genres                                                  ['Documentary']  \n",
       "original_language                                                    en  \n",
       "original_title                         Life in Loops (A Megacities RMX)  \n",
       "overview              Timo Novotny labels his new project an experim...  \n",
       "popularity                                                        1.652  \n",
       "production_companies                                        ['inLoops']  \n",
       "production_countries                                        ['Austria']  \n",
       "revenue                                                               0  \n",
       "runtime                                                              80  \n",
       "spoken_languages      ['English', 'हिन्दी', '日本語', 'Pусский', 'Españ...  \n",
       "status                                                         Released  \n",
       "title                                  Life in Loops (A Megacities RMX)  \n",
       "video                                                             False  \n",
       "vote_average                                                        7.4  \n",
       "vote_count                                                           14  \n",
       "release_year                                                       2006  \n",
       "release_month                                                         1  \n",
       "release_day                                                           1  \n",
       "count_genres                                                          1  \n",
       "count_company                                                         1  \n",
       "count_spoken                                                          5  \n",
       "count_country                                                         1  "
      ]
     },
     "execution_count": 7,
     "metadata": {},
     "output_type": "execute_result"
    }
   ],
   "source": [
    "data.head().T"
   ]
  },
  {
   "cell_type": "markdown",
   "metadata": {},
   "source": [
    "# plotting graph between vote average with count_genres ,count_company,count_spoken ,count_country"
   ]
  },
  {
   "cell_type": "code",
   "execution_count": null,
   "metadata": {},
   "outputs": [],
   "source": []
  },
  {
   "cell_type": "code",
   "execution_count": 9,
   "metadata": {},
   "outputs": [
    {
     "data": {
      "text/plain": [
       "<AxesSubplot:xlabel='count_genres'>"
      ]
     },
     "execution_count": 9,
     "metadata": {},
     "output_type": "execute_result"
    },
    {
     "data": {
      "image/png": "[encoded data removed]",
      "text/plain": [
       "<Figure size 432x288 with 1 Axes>"
      ]
     },
     "metadata": {
      "needs_background": "light"
     },
     "output_type": "display_data"
    }
   ],
   "source": [
    "data.groupby('count_genres')['vote_average'].mean().plot(kind='bar')"
   ]
  },
  {
   "cell_type": "code",
   "execution_count": 10,
   "metadata": {},
   "outputs": [
    {
     "data": {
      "image/png": "[encoded data removed]",
      "text/plain": [
       "<Figure size 720x576 with 1 Axes>"
      ]
     },
     "metadata": {
      "needs_background": "light"
     },
     "output_type": "display_data"
    }
   ],
   "source": [
    "plt.figure(figsize=(10,8))\n",
    "data.groupby('count_company')['vote_average'].mean().plot(kind='bar')\n",
    "plt.show()"
   ]
  },
  {
   "cell_type": "code",
   "execution_count": 11,
   "metadata": {},
   "outputs": [
    {
     "data": {
      "text/plain": [
       "<AxesSubplot:xlabel='count_spoken'>"
      ]
     },
     "execution_count": 11,
     "metadata": {},
     "output_type": "execute_result"
    },
    {
     "data": {
      "image/png": "[encoded data removed]",
      "text/plain": [
       "<Figure size 720x576 with 1 Axes>"
      ]
     },
     "metadata": {
      "needs_background": "light"
     },
     "output_type": "display_data"
    }
   ],
   "source": [
    "plt.figure(figsize=(10,8))\n",
    "data.groupby('count_spoken')['vote_average'].mean().plot(kind='bar')"
   ]
  },
  {
   "cell_type": "code",
   "execution_count": 12,
   "metadata": {},
   "outputs": [
    {
     "data": {
      "text/plain": [
       "<AxesSubplot:xlabel='count_country'>"
      ]
     },
     "execution_count": 12,
     "metadata": {},
     "output_type": "execute_result"
    },
    {
     "data": {
      "image/png": "[encoded data removed]",
      "text/plain": [
       "<Figure size 720x576 with 1 Axes>"
      ]
     },
     "metadata": {
      "needs_background": "light"
     },
     "output_type": "display_data"
    }
   ],
   "source": [
    "plt.figure(figsize=(10,8))\n",
    "data.groupby('count_country')['vote_average'].mean().plot(kind='bar')"
   ]
  },
  {
   "cell_type": "code",
   "execution_count": null,
   "metadata": {},
   "outputs": [],
   "source": []
  },
  {
   "cell_type": "markdown",
   "metadata": {},
   "source": [
    "# TOP 10 RELEASE YEAR WITH VOTE AVERAGE"
   ]
  },
  {
   "cell_type": "code",
   "execution_count": 14,
   "metadata": {},
   "outputs": [
    {
     "data": {
      "text/plain": [
       "<AxesSubplot:xlabel='release_year'>"
      ]
     },
     "execution_count": 14,
     "metadata": {},
     "output_type": "execute_result"
    },
    {
     "data": {
      "image/png": "[encoded data removed]",
      "text/plain": [
       "<Figure size 1440x576 with 1 Axes>"
      ]
     },
     "metadata": {
      "needs_background": "light"
     },
     "output_type": "display_data"
    }
   ],
   "source": [
    "plt.figure(figsize=(20,8))\n",
    "data.groupby('release_year')['vote_average'].mean().sort_values(ascending=False).head(10).plot(kind='bar')\n",
    "\n"
   ]
  },
  {
   "cell_type": "code",
   "execution_count": null,
   "metadata": {},
   "outputs": [],
   "source": []
  },
  {
   "cell_type": "code",
   "execution_count": 16,
   "metadata": {},
   "outputs": [
    {
     "data": {
      "text/plain": [
       "<AxesSubplot:xlabel='release_year'>"
      ]
     },
     "execution_count": 16,
     "metadata": {},
     "output_type": "execute_result"
    },
    {
     "data": {
      "image/png": "[encoded data removed]",
      "text/plain": [
       "<Figure size 1440x576 with 1 Axes>"
      ]
     },
     "metadata": {
      "needs_background": "light"
     },
     "output_type": "display_data"
    }
   ],
   "source": [
    "plt.figure(figsize=(20,8))\n",
    "data.groupby('release_year')['vote_average'].mean().sort_values(ascending=True).head(10).plot(kind='bar')\n",
    "\n"
   ]
  },
  {
   "cell_type": "code",
   "execution_count": null,
   "metadata": {},
   "outputs": [],
   "source": []
  },
  {
   "cell_type": "markdown",
   "metadata": {},
   "source": [
    "# TOP  30 MOVIES WITH 10 vote average\n"
   ]
  },
  {
   "cell_type": "code",
   "execution_count": 18,
   "metadata": {},
   "outputs": [
    {
     "data": {
      "image/png": "[encoded data removed]",
      "text/plain": [
       "<Figure size 1080x360 with 1 Axes>"
      ]
     },
     "metadata": {
      "needs_background": "light"
     },
     "output_type": "display_data"
    }
   ],
   "source": [
    "plt.figure(figsize=(15,5))\n",
    "data.groupby('title')['vote_average'].max().sort_values(ascending=False).head(30).plot(kind='bar')\n",
    "plt.show()"
   ]
  },
  {
   "cell_type": "code",
   "execution_count": 19,
   "metadata": {},
   "outputs": [
    {
     "data": {
      "text/plain": [
       "<AxesSubplot:xlabel='release_year'>"
      ]
     },
     "execution_count": 19,
     "metadata": {},
     "output_type": "execute_result"
    },
    {
     "data": {
      "image/png": "[encoded data removed]",
      "text/plain": [
       "<Figure size 1296x360 with 1 Axes>"
      ]
     },
     "metadata": {
      "needs_background": "light"
     },
     "output_type": "display_data"
    }
   ],
   "source": [
    "# Checking the trend of vote average over the years\n",
    "plt.figure(figsize=(18,5))\n",
    "year_revenue = data.groupby('release_year')['vote_average'].mean()\n",
    "year_revenue.plot(kind='line')"
   ]
  },
  {
   "cell_type": "code",
   "execution_count": null,
   "metadata": {},
   "outputs": [],
   "source": []
  },
  {
   "cell_type": "code",
   "execution_count": 21,
   "metadata": {},
   "outputs": [
    {
     "data": {
      "text/plain": [
       "<AxesSubplot:xlabel='release_year'>"
      ]
     },
     "execution_count": 21,
     "metadata": {},
     "output_type": "execute_result"
    },
    {
     "data": {
      "image/png": "[encoded data removed]",
      "text/plain": [
       "<Figure size 432x288 with 1 Axes>"
      ]
     },
     "metadata": {
      "needs_background": "light"
     },
     "output_type": "display_data"
    }
   ],
   "source": [
    "data.groupby('release_year')['vote_count'].max().sort_values(ascending=False).head(10).plot(kind='bar')"
   ]
  },
  {
   "cell_type": "code",
   "execution_count": null,
   "metadata": {},
   "outputs": [],
   "source": []
  },
  {
   "cell_type": "code",
   "execution_count": 34,
   "metadata": {},
   "outputs": [
    {
     "data": {
      "text/html": [
       "<div>\n",
       "<style scoped>\n",
       "    .dataframe tbody tr th:only-of-type {\n",
       "        vertical-align: middle;\n",
       "    }\n",
       "\n",
       "    .dataframe tbody tr th {\n",
       "        vertical-align: top;\n",
       "    }\n",
       "\n",
       "    .dataframe thead th {\n",
       "        text-align: right;\n",
       "    }\n",
       "</style>\n",
       "<table border=\"1\" class=\"dataframe\">\n",
       "  <thead>\n",
       "    <tr style=\"text-align: right;\">\n",
       "      <th></th>\n",
       "      <th>title</th>\n",
       "      <th>vote_count</th>\n",
       "      <th>release_year</th>\n",
       "      <th>vote_average</th>\n",
       "    </tr>\n",
       "  </thead>\n",
       "  <tbody>\n",
       "    <tr>\n",
       "      <th>16432</th>\n",
       "      <td>Inception</td>\n",
       "      <td>29038.0</td>\n",
       "      <td>2010.0</td>\n",
       "      <td>8.3</td>\n",
       "    </tr>\n",
       "    <tr>\n",
       "      <th>100729</th>\n",
       "      <td>Interstellar</td>\n",
       "      <td>25765.0</td>\n",
       "      <td>2014.0</td>\n",
       "      <td>8.3</td>\n",
       "    </tr>\n",
       "    <tr>\n",
       "      <th>119</th>\n",
       "      <td>The Dark Knight</td>\n",
       "      <td>25065.0</td>\n",
       "      <td>2008.0</td>\n",
       "      <td>8.5</td>\n",
       "    </tr>\n",
       "    <tr>\n",
       "      <th>186128</th>\n",
       "      <td>Deadpool</td>\n",
       "      <td>24864.0</td>\n",
       "      <td>2016.0</td>\n",
       "      <td>7.6</td>\n",
       "    </tr>\n",
       "    <tr>\n",
       "      <th>14499</th>\n",
       "      <td>The Avengers</td>\n",
       "      <td>24656.0</td>\n",
       "      <td>2012.0</td>\n",
       "      <td>7.7</td>\n",
       "    </tr>\n",
       "    <tr>\n",
       "      <th>12109</th>\n",
       "      <td>Avatar</td>\n",
       "      <td>23364.0</td>\n",
       "      <td>2009.0</td>\n",
       "      <td>7.5</td>\n",
       "    </tr>\n",
       "    <tr>\n",
       "      <th>81090</th>\n",
       "      <td>Guardians of the Galaxy</td>\n",
       "      <td>22458.0</td>\n",
       "      <td>2014.0</td>\n",
       "      <td>7.9</td>\n",
       "    </tr>\n",
       "    <tr>\n",
       "      <th>191314</th>\n",
       "      <td>Avengers: Infinity War</td>\n",
       "      <td>21756.0</td>\n",
       "      <td>2018.0</td>\n",
       "      <td>8.3</td>\n",
       "    </tr>\n",
       "    <tr>\n",
       "      <th>431</th>\n",
       "      <td>Fight Club</td>\n",
       "      <td>21702.0</td>\n",
       "      <td>1999.0</td>\n",
       "      <td>8.4</td>\n",
       "    </tr>\n",
       "    <tr>\n",
       "      <th>553</th>\n",
       "      <td>Pulp Fiction</td>\n",
       "      <td>21077.0</td>\n",
       "      <td>1994.0</td>\n",
       "      <td>8.5</td>\n",
       "    </tr>\n",
       "  </tbody>\n",
       "</table>\n",
       "</div>"
      ],
      "text/plain": [
       "                          title  vote_count  release_year  vote_average\n",
       "16432                 Inception     29038.0        2010.0           8.3\n",
       "100729             Interstellar     25765.0        2014.0           8.3\n",
       "119             The Dark Knight     25065.0        2008.0           8.5\n",
       "186128                 Deadpool     24864.0        2016.0           7.6\n",
       "14499              The Avengers     24656.0        2012.0           7.7\n",
       "12109                    Avatar     23364.0        2009.0           7.5\n",
       "81090   Guardians of the Galaxy     22458.0        2014.0           7.9\n",
       "191314   Avengers: Infinity War     21756.0        2018.0           8.3\n",
       "431                  Fight Club     21702.0        1999.0           8.4\n",
       "553                Pulp Fiction     21077.0        1994.0           8.5"
      ]
     },
     "execution_count": 34,
     "metadata": {},
     "output_type": "execute_result"
    }
   ],
   "source": [
    "most_popular_movies= data[['title', 'vote_count', 'release_year','vote_average']].sort_values('vote_count', ascending=False).head(10)\n",
    "most_popular_movies"
   ]
  },
  {
   "cell_type": "code",
   "execution_count": null,
   "metadata": {},
   "outputs": [],
   "source": []
  },
  {
   "cell_type": "code",
   "execution_count": 32,
   "metadata": {},
   "outputs": [
    {
     "data": {
      "text/plain": [
       "<AxesSubplot:xlabel='title'>"
      ]
     },
     "execution_count": 32,
     "metadata": {},
     "output_type": "execute_result"
    },
    {
     "data": {
      "image/png": "[encoded data removed]",
      "text/plain": [
       "<Figure size 432x288 with 1 Axes>"
      ]
     },
     "metadata": {
      "needs_background": "light"
     },
     "output_type": "display_data"
    }
   ],
   "source": [
    "most_popular_movies.groupby('title')['vote_count'].max().sort_values(ascending=False).head(10).plot(kind='bar')"
   ]
  },
  {
   "cell_type": "code",
   "execution_count": null,
   "metadata": {},
   "outputs": [],
   "source": []
  },
  {
   "cell_type": "code",
   "execution_count": null,
   "metadata": {},
   "outputs": [],
   "source": []
  },
  {
   "cell_type": "code",
   "execution_count": 36,
   "metadata": {},
   "outputs": [
    {
     "data": {
      "text/plain": [
       "<AxesSubplot:xlabel='release_year'>"
      ]
     },
     "execution_count": 36,
     "metadata": {},
     "output_type": "execute_result"
    },
    {
     "data": {
      "image/png": "[encoded data removed]",
      "text/plain": [
       "<Figure size 1440x576 with 1 Axes>"
      ]
     },
     "metadata": {
      "needs_background": "light"
     },
     "output_type": "display_data"
    }
   ],
   "source": [
    "plt.figure(figsize=(20,8))\n",
    "data.groupby('release_year')['vote_average'].mean().sort_values(ascending=False).head(10).plot(kind='bar')\n",
    "\n"
   ]
  },
  {
   "cell_type": "code",
   "execution_count": null,
   "metadata": {},
   "outputs": [],
   "source": []
  },
  {
   "cell_type": "code",
   "execution_count": null,
   "metadata": {},
   "outputs": [],
   "source": []
  },
  {
   "cell_type": "code",
   "execution_count": null,
   "metadata": {},
   "outputs": [],
   "source": []
  },
  {
   "cell_type": "code",
   "execution_count": null,
   "metadata": {},
   "outputs": [],
   "source": []
  },
  {
   "cell_type": "code",
   "execution_count": null,
   "metadata": {},
   "outputs": [],
   "source": []
  },
  {
   "cell_type": "code",
   "execution_count": null,
   "metadata": {},
   "outputs": [],
   "source": []
  },
  {
   "cell_type": "code",
   "execution_count": null,
   "metadata": {},
   "outputs": [],
   "source": []
  },
  {
   "cell_type": "code",
   "execution_count": null,
   "metadata": {},
   "outputs": [],
   "source": []
  },
  {
   "cell_type": "code",
   "execution_count": null,
   "metadata": {},
   "outputs": [],
   "source": []
  },
  {
   "cell_type": "code",
   "execution_count": null,
   "metadata": {},
   "outputs": [],
   "source": []
  },
  {
   "cell_type": "code",
   "execution_count": null,
   "metadata": {},
   "outputs": [],
   "source": []
  },
  {
   "cell_type": "code",
   "execution_count": null,
   "metadata": {},
   "outputs": [],
   "source": []
  },
  {
   "cell_type": "code",
   "execution_count": null,
   "metadata": {},
   "outputs": [],
   "source": []
  },
  {
   "cell_type": "code",
   "execution_count": null,
   "metadata": {},
   "outputs": [],
   "source": []
  },
  {
   "cell_type": "code",
   "execution_count": null,
   "metadata": {},
   "outputs": [],
   "source": []
  },
  {
   "cell_type": "code",
   "execution_count": null,
   "metadata": {},
   "outputs": [],
   "source": []
  },
  {
   "cell_type": "code",
   "execution_count": null,
   "metadata": {},
   "outputs": [],
   "source": []
  },
  {
   "cell_type": "code",
   "execution_count": null,
   "metadata": {},
   "outputs": [],
   "source": []
  },
  {
   "cell_type": "code",
   "execution_count": null,
   "metadata": {},
   "outputs": [],
   "source": []
  },
  {
   "cell_type": "code",
   "execution_count": null,
   "metadata": {},
   "outputs": [],
   "source": []
  },
  {
   "cell_type": "code",
   "execution_count": null,
   "metadata": {},
   "outputs": [],
   "source": []
  },
  {
   "cell_type": "code",
   "execution_count": null,
   "metadata": {},
   "outputs": [],
   "source": []
  },
  {
   "cell_type": "code",
   "execution_count": null,
   "metadata": {},
   "outputs": [],
   "source": []
  }
 ],
 "metadata": {
  "kernelspec": {
   "display_name": "Python 3",
   "language": "python",
   "name": "python3"
  },
  "language_info": {
   "codemirror_mode": {
    "name": "ipython",
    "version": 3
   },
   "file_extension": ".py",
   "mimetype": "text/x-python",
   "name": "python",
   "nbconvert_exporter": "python",
   "pygments_lexer": "ipython3",
   "version": "3.8.5"
  }
 },
 "nbformat": 4,
 "nbformat_minor": 4
}
